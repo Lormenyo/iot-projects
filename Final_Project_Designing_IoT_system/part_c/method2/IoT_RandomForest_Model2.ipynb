{
  "nbformat": 4,
  "nbformat_minor": 0,
  "metadata": {
    "colab": {
      "name": "IoT_RandomForest_Model2",
      "provenance": [],
      "collapsed_sections": []
    },
    "kernelspec": {
      "name": "python3",
      "display_name": "Python 3"
    },
    "accelerator": "GPU"
  },
  "cells": [
    {
      "cell_type": "markdown",
      "metadata": {
        "id": "6F2OLuNMnMFz"
      },
      "source": [
        "# Hydroponics Farm Sensor Data\n",
        "\n",
        "The objective is to determine what LDR values should be, given all the other conditions. Using pandas, create a RandomForest model of the data using some of the rows of the data. Validate the data using a subset of your data. Evaluate your Mean Average Error (MAE). Predict what LDR should be expected given X values of \\[temp1=40, temp2=20, heater is off, humidity1=60, humidity2=90, and pump =on]."
      ]
    },
    {
      "cell_type": "markdown",
      "metadata": {
        "id": "JOKHEKQ1mFil"
      },
      "source": [
        "# Importing the necessary libraries"
      ]
    },
    {
      "cell_type": "code",
      "metadata": {
        "id": "Mc95RGs1mJoq"
      },
      "source": [
        "import pandas as pd\n",
        "import seaborn as sns\n",
        "import numpy as np"
      ],
      "execution_count": 211,
      "outputs": []
    },
    {
      "cell_type": "markdown",
      "metadata": {
        "id": "8dgsZz27mBj3"
      },
      "source": [
        "# Loading the data"
      ]
    },
    {
      "cell_type": "code",
      "metadata": {
        "id": "wU3JkMjJMNff"
      },
      "source": [
        "df = pd.read_csv(\"https://raw.githubusercontent.com/Lormenyo/iot-projects/master/Final_Project_Designing_IoT_system/part_c/method2/subscriber.csv\")"
      ],
      "execution_count": 212,
      "outputs": []
    },
    {
      "cell_type": "code",
      "metadata": {
        "id": "J7cmi2bZmjTr",
        "colab": {
          "base_uri": "https://localhost:8080/",
          "height": 202
        },
        "outputId": "fd851107-6185-46f4-a559-698ca9bc8faa"
      },
      "source": [
        "df.head()"
      ],
      "execution_count": 213,
      "outputs": [
        {
          "output_type": "execute_result",
          "data": {
            "text/html": [
              "<div>\n",
              "<style scoped>\n",
              "    .dataframe tbody tr th:only-of-type {\n",
              "        vertical-align: middle;\n",
              "    }\n",
              "\n",
              "    .dataframe tbody tr th {\n",
              "        vertical-align: top;\n",
              "    }\n",
              "\n",
              "    .dataframe thead th {\n",
              "        text-align: right;\n",
              "    }\n",
              "</style>\n",
              "<table border=\"1\" class=\"dataframe\">\n",
              "  <thead>\n",
              "    <tr style=\"text-align: right;\">\n",
              "      <th></th>\n",
              "      <th>DataID</th>\n",
              "      <th>temp1</th>\n",
              "      <th>temp2</th>\n",
              "      <th>ldr</th>\n",
              "      <th>heater</th>\n",
              "      <th>humidity1</th>\n",
              "      <th>humidity2</th>\n",
              "      <th>pump</th>\n",
              "      <th>TimeRead</th>\n",
              "    </tr>\n",
              "  </thead>\n",
              "  <tbody>\n",
              "    <tr>\n",
              "      <th>0</th>\n",
              "      <td>19</td>\n",
              "      <td>33</td>\n",
              "      <td>0</td>\n",
              "      <td>0</td>\n",
              "      <td>0</td>\n",
              "      <td>0</td>\n",
              "      <td>0</td>\n",
              "      <td>0</td>\n",
              "      <td>2020-12-06 14:18:52</td>\n",
              "    </tr>\n",
              "    <tr>\n",
              "      <th>1</th>\n",
              "      <td>20</td>\n",
              "      <td>0</td>\n",
              "      <td>0</td>\n",
              "      <td>0</td>\n",
              "      <td>0</td>\n",
              "      <td>0</td>\n",
              "      <td>74</td>\n",
              "      <td>0</td>\n",
              "      <td>2020-12-06 14:18:52</td>\n",
              "    </tr>\n",
              "    <tr>\n",
              "      <th>2</th>\n",
              "      <td>21</td>\n",
              "      <td>0</td>\n",
              "      <td>21</td>\n",
              "      <td>0</td>\n",
              "      <td>0</td>\n",
              "      <td>0</td>\n",
              "      <td>0</td>\n",
              "      <td>0</td>\n",
              "      <td>2020-12-06 14:18:52</td>\n",
              "    </tr>\n",
              "    <tr>\n",
              "      <th>3</th>\n",
              "      <td>22</td>\n",
              "      <td>0</td>\n",
              "      <td>0</td>\n",
              "      <td>0</td>\n",
              "      <td>0</td>\n",
              "      <td>0</td>\n",
              "      <td>0</td>\n",
              "      <td>OFF</td>\n",
              "      <td>2020-12-06 14:18:52</td>\n",
              "    </tr>\n",
              "    <tr>\n",
              "      <th>4</th>\n",
              "      <td>23</td>\n",
              "      <td>0</td>\n",
              "      <td>0</td>\n",
              "      <td>0</td>\n",
              "      <td>0</td>\n",
              "      <td>33</td>\n",
              "      <td>0</td>\n",
              "      <td>0</td>\n",
              "      <td>2020-12-06 14:18:52</td>\n",
              "    </tr>\n",
              "  </tbody>\n",
              "</table>\n",
              "</div>"
            ],
            "text/plain": [
              "   DataID  temp1  temp2  ldr  ... humidity1  humidity2  pump             TimeRead\n",
              "0      19     33      0    0  ...         0          0     0  2020-12-06 14:18:52\n",
              "1      20      0      0    0  ...         0         74     0  2020-12-06 14:18:52\n",
              "2      21      0     21    0  ...         0          0     0  2020-12-06 14:18:52\n",
              "3      22      0      0    0  ...         0          0   OFF  2020-12-06 14:18:52\n",
              "4      23      0      0    0  ...        33          0     0  2020-12-06 14:18:52\n",
              "\n",
              "[5 rows x 9 columns]"
            ]
          },
          "metadata": {
            "tags": []
          },
          "execution_count": 213
        }
      ]
    },
    {
      "cell_type": "code",
      "metadata": {
        "id": "kRRjVgPm1PTV"
      },
      "source": [
        "df['TimeRead']= pd.to_datetime(df['TimeRead']) "
      ],
      "execution_count": 214,
      "outputs": []
    },
    {
      "cell_type": "markdown",
      "metadata": {
        "id": "wF0WFkDAHg-f"
      },
      "source": [
        "# Exploring the Data"
      ]
    },
    {
      "cell_type": "code",
      "metadata": {
        "colab": {
          "base_uri": "https://localhost:8080/",
          "height": 294
        },
        "id": "DxyL5EXkHmb1",
        "outputId": "8c43f00c-d48d-4837-eae3-1d2fa5b23376"
      },
      "source": [
        "df.describe()"
      ],
      "execution_count": 215,
      "outputs": [
        {
          "output_type": "execute_result",
          "data": {
            "text/html": [
              "<div>\n",
              "<style scoped>\n",
              "    .dataframe tbody tr th:only-of-type {\n",
              "        vertical-align: middle;\n",
              "    }\n",
              "\n",
              "    .dataframe tbody tr th {\n",
              "        vertical-align: top;\n",
              "    }\n",
              "\n",
              "    .dataframe thead th {\n",
              "        text-align: right;\n",
              "    }\n",
              "</style>\n",
              "<table border=\"1\" class=\"dataframe\">\n",
              "  <thead>\n",
              "    <tr style=\"text-align: right;\">\n",
              "      <th></th>\n",
              "      <th>DataID</th>\n",
              "      <th>temp1</th>\n",
              "      <th>temp2</th>\n",
              "      <th>ldr</th>\n",
              "      <th>humidity1</th>\n",
              "      <th>humidity2</th>\n",
              "    </tr>\n",
              "  </thead>\n",
              "  <tbody>\n",
              "    <tr>\n",
              "      <th>count</th>\n",
              "      <td>12687.000000</td>\n",
              "      <td>12687.000000</td>\n",
              "      <td>12687.000000</td>\n",
              "      <td>12687.000000</td>\n",
              "      <td>12687.000000</td>\n",
              "      <td>12687.000000</td>\n",
              "    </tr>\n",
              "    <tr>\n",
              "      <th>mean</th>\n",
              "      <td>6362.000000</td>\n",
              "      <td>7.401592</td>\n",
              "      <td>5.268937</td>\n",
              "      <td>38.232443</td>\n",
              "      <td>6.833688</td>\n",
              "      <td>14.725703</td>\n",
              "    </tr>\n",
              "    <tr>\n",
              "      <th>std</th>\n",
              "      <td>3662.565767</td>\n",
              "      <td>14.385294</td>\n",
              "      <td>10.292630</td>\n",
              "      <td>161.856924</td>\n",
              "      <td>15.109801</td>\n",
              "      <td>29.577536</td>\n",
              "    </tr>\n",
              "    <tr>\n",
              "      <th>min</th>\n",
              "      <td>19.000000</td>\n",
              "      <td>0.000000</td>\n",
              "      <td>0.000000</td>\n",
              "      <td>0.000000</td>\n",
              "      <td>0.000000</td>\n",
              "      <td>0.000000</td>\n",
              "    </tr>\n",
              "    <tr>\n",
              "      <th>25%</th>\n",
              "      <td>3190.500000</td>\n",
              "      <td>0.000000</td>\n",
              "      <td>0.000000</td>\n",
              "      <td>0.000000</td>\n",
              "      <td>0.000000</td>\n",
              "      <td>0.000000</td>\n",
              "    </tr>\n",
              "    <tr>\n",
              "      <th>50%</th>\n",
              "      <td>6362.000000</td>\n",
              "      <td>0.000000</td>\n",
              "      <td>0.000000</td>\n",
              "      <td>0.000000</td>\n",
              "      <td>0.000000</td>\n",
              "      <td>0.000000</td>\n",
              "    </tr>\n",
              "    <tr>\n",
              "      <th>75%</th>\n",
              "      <td>9533.500000</td>\n",
              "      <td>0.000000</td>\n",
              "      <td>0.000000</td>\n",
              "      <td>0.000000</td>\n",
              "      <td>0.000000</td>\n",
              "      <td>0.000000</td>\n",
              "    </tr>\n",
              "    <tr>\n",
              "      <th>max</th>\n",
              "      <td>12705.000000</td>\n",
              "      <td>40.000000</td>\n",
              "      <td>30.000000</td>\n",
              "      <td>997.000000</td>\n",
              "      <td>60.000000</td>\n",
              "      <td>100.000000</td>\n",
              "    </tr>\n",
              "  </tbody>\n",
              "</table>\n",
              "</div>"
            ],
            "text/plain": [
              "             DataID         temp1  ...     humidity1     humidity2\n",
              "count  12687.000000  12687.000000  ...  12687.000000  12687.000000\n",
              "mean    6362.000000      7.401592  ...      6.833688     14.725703\n",
              "std     3662.565767     14.385294  ...     15.109801     29.577536\n",
              "min       19.000000      0.000000  ...      0.000000      0.000000\n",
              "25%     3190.500000      0.000000  ...      0.000000      0.000000\n",
              "50%     6362.000000      0.000000  ...      0.000000      0.000000\n",
              "75%     9533.500000      0.000000  ...      0.000000      0.000000\n",
              "max    12705.000000     40.000000  ...     60.000000    100.000000\n",
              "\n",
              "[8 rows x 6 columns]"
            ]
          },
          "metadata": {
            "tags": []
          },
          "execution_count": 215
        }
      ]
    },
    {
      "cell_type": "code",
      "metadata": {
        "colab": {
          "base_uri": "https://localhost:8080/"
        },
        "id": "XFYuKVCIvTAc",
        "outputId": "705b145c-4c08-4e60-a179-0e9e56e8c6be"
      },
      "source": [
        "df.shape"
      ],
      "execution_count": 216,
      "outputs": [
        {
          "output_type": "execute_result",
          "data": {
            "text/plain": [
              "(12687, 9)"
            ]
          },
          "metadata": {
            "tags": []
          },
          "execution_count": 216
        }
      ]
    },
    {
      "cell_type": "markdown",
      "metadata": {
        "id": "ZOMIQtIJqYGg"
      },
      "source": [
        "# Data Preprocessing"
      ]
    },
    {
      "cell_type": "code",
      "metadata": {
        "id": "UV1id4qlXF2u"
      },
      "source": [
        "new_df = df.copy()"
      ],
      "execution_count": 217,
      "outputs": []
    },
    {
      "cell_type": "code",
      "metadata": {
        "id": "9hKZGMwYwXAi"
      },
      "source": [
        "new_df = df.replace(0, np.nan)"
      ],
      "execution_count": 218,
      "outputs": []
    },
    {
      "cell_type": "code",
      "metadata": {
        "colab": {
          "base_uri": "https://localhost:8080/",
          "height": 202
        },
        "id": "nRLAKM8nwih7",
        "outputId": "2891686e-7559-410d-b122-b75d0cc8e0c3"
      },
      "source": [
        "new_df.head()"
      ],
      "execution_count": 219,
      "outputs": [
        {
          "output_type": "execute_result",
          "data": {
            "text/html": [
              "<div>\n",
              "<style scoped>\n",
              "    .dataframe tbody tr th:only-of-type {\n",
              "        vertical-align: middle;\n",
              "    }\n",
              "\n",
              "    .dataframe tbody tr th {\n",
              "        vertical-align: top;\n",
              "    }\n",
              "\n",
              "    .dataframe thead th {\n",
              "        text-align: right;\n",
              "    }\n",
              "</style>\n",
              "<table border=\"1\" class=\"dataframe\">\n",
              "  <thead>\n",
              "    <tr style=\"text-align: right;\">\n",
              "      <th></th>\n",
              "      <th>DataID</th>\n",
              "      <th>temp1</th>\n",
              "      <th>temp2</th>\n",
              "      <th>ldr</th>\n",
              "      <th>heater</th>\n",
              "      <th>humidity1</th>\n",
              "      <th>humidity2</th>\n",
              "      <th>pump</th>\n",
              "      <th>TimeRead</th>\n",
              "    </tr>\n",
              "  </thead>\n",
              "  <tbody>\n",
              "    <tr>\n",
              "      <th>0</th>\n",
              "      <td>19</td>\n",
              "      <td>33.0</td>\n",
              "      <td>NaN</td>\n",
              "      <td>NaN</td>\n",
              "      <td>0</td>\n",
              "      <td>NaN</td>\n",
              "      <td>NaN</td>\n",
              "      <td>0</td>\n",
              "      <td>2020-12-06 14:18:52</td>\n",
              "    </tr>\n",
              "    <tr>\n",
              "      <th>1</th>\n",
              "      <td>20</td>\n",
              "      <td>NaN</td>\n",
              "      <td>NaN</td>\n",
              "      <td>NaN</td>\n",
              "      <td>0</td>\n",
              "      <td>NaN</td>\n",
              "      <td>74.0</td>\n",
              "      <td>0</td>\n",
              "      <td>2020-12-06 14:18:52</td>\n",
              "    </tr>\n",
              "    <tr>\n",
              "      <th>2</th>\n",
              "      <td>21</td>\n",
              "      <td>NaN</td>\n",
              "      <td>21.0</td>\n",
              "      <td>NaN</td>\n",
              "      <td>0</td>\n",
              "      <td>NaN</td>\n",
              "      <td>NaN</td>\n",
              "      <td>0</td>\n",
              "      <td>2020-12-06 14:18:52</td>\n",
              "    </tr>\n",
              "    <tr>\n",
              "      <th>3</th>\n",
              "      <td>22</td>\n",
              "      <td>NaN</td>\n",
              "      <td>NaN</td>\n",
              "      <td>NaN</td>\n",
              "      <td>0</td>\n",
              "      <td>NaN</td>\n",
              "      <td>NaN</td>\n",
              "      <td>OFF</td>\n",
              "      <td>2020-12-06 14:18:52</td>\n",
              "    </tr>\n",
              "    <tr>\n",
              "      <th>4</th>\n",
              "      <td>23</td>\n",
              "      <td>NaN</td>\n",
              "      <td>NaN</td>\n",
              "      <td>NaN</td>\n",
              "      <td>0</td>\n",
              "      <td>33.0</td>\n",
              "      <td>NaN</td>\n",
              "      <td>0</td>\n",
              "      <td>2020-12-06 14:18:52</td>\n",
              "    </tr>\n",
              "  </tbody>\n",
              "</table>\n",
              "</div>"
            ],
            "text/plain": [
              "   DataID  temp1  temp2  ldr  ... humidity1  humidity2  pump            TimeRead\n",
              "0      19   33.0    NaN  NaN  ...       NaN        NaN     0 2020-12-06 14:18:52\n",
              "1      20    NaN    NaN  NaN  ...       NaN       74.0     0 2020-12-06 14:18:52\n",
              "2      21    NaN   21.0  NaN  ...       NaN        NaN     0 2020-12-06 14:18:52\n",
              "3      22    NaN    NaN  NaN  ...       NaN        NaN   OFF 2020-12-06 14:18:52\n",
              "4      23    NaN    NaN  NaN  ...      33.0        NaN     0 2020-12-06 14:18:52\n",
              "\n",
              "[5 rows x 9 columns]"
            ]
          },
          "metadata": {
            "tags": []
          },
          "execution_count": 219
        }
      ]
    },
    {
      "cell_type": "markdown",
      "metadata": {
        "id": "mg67L3iqwyn1"
      },
      "source": [
        "There are missing values and the heater and pump columns have categorical values that need to be encoded"
      ]
    },
    {
      "cell_type": "markdown",
      "metadata": {
        "id": "0W3J64zCxkn0"
      },
      "source": [
        "### Encoding the data"
      ]
    },
    {
      "cell_type": "markdown",
      "metadata": {
        "id": "J-ZgBjslyviB"
      },
      "source": [
        "ffill and bfill do not work on strings so I will convert the ON, and OFF values to numeric data by recoding it"
      ]
    },
    {
      "cell_type": "code",
      "metadata": {
        "colab": {
          "base_uri": "https://localhost:8080/"
        },
        "id": "mDZHMymdz1Oi",
        "outputId": "e383b9e8-81be-4d2c-dd7c-9c3a283685fc"
      },
      "source": [
        "new_df.dtypes"
      ],
      "execution_count": 220,
      "outputs": [
        {
          "output_type": "execute_result",
          "data": {
            "text/plain": [
              "DataID                int64\n",
              "temp1               float64\n",
              "temp2               float64\n",
              "ldr                 float64\n",
              "heater               object\n",
              "humidity1           float64\n",
              "humidity2           float64\n",
              "pump                 object\n",
              "TimeRead     datetime64[ns]\n",
              "dtype: object"
            ]
          },
          "metadata": {
            "tags": []
          },
          "execution_count": 220
        }
      ]
    },
    {
      "cell_type": "code",
      "metadata": {
        "id": "c-DtH2_h0UPz"
      },
      "source": [
        "new_df[\"heater\"] = new_df[\"heater\"].astype('category')\n",
        "new_df[\"pump\"] = new_df[\"pump\"].astype('category')"
      ],
      "execution_count": 221,
      "outputs": []
    },
    {
      "cell_type": "code",
      "metadata": {
        "colab": {
          "base_uri": "https://localhost:8080/"
        },
        "id": "VQPkj-1S0e9p",
        "outputId": "f56d1e41-0980-4a23-8186-a556386d2835"
      },
      "source": [
        "new_df.dtypes"
      ],
      "execution_count": 222,
      "outputs": [
        {
          "output_type": "execute_result",
          "data": {
            "text/plain": [
              "DataID                int64\n",
              "temp1               float64\n",
              "temp2               float64\n",
              "ldr                 float64\n",
              "heater             category\n",
              "humidity1           float64\n",
              "humidity2           float64\n",
              "pump               category\n",
              "TimeRead     datetime64[ns]\n",
              "dtype: object"
            ]
          },
          "metadata": {
            "tags": []
          },
          "execution_count": 222
        }
      ]
    },
    {
      "cell_type": "code",
      "metadata": {
        "colab": {
          "base_uri": "https://localhost:8080/"
        },
        "id": "-9WJvL-E1JBd",
        "outputId": "ea742074-b050-4eda-b2a9-44195f811118"
      },
      "source": [
        "new_df[\"pump\"].cat.categories"
      ],
      "execution_count": 223,
      "outputs": [
        {
          "output_type": "execute_result",
          "data": {
            "text/plain": [
              "Index(['0', 'OFF', 'ON'], dtype='object')"
            ]
          },
          "metadata": {
            "tags": []
          },
          "execution_count": 223
        }
      ]
    },
    {
      "cell_type": "code",
      "metadata": {
        "id": "bNsofuiszbv3"
      },
      "source": [
        "new_df[\"heater\"] = new_df[\"heater\"].replace('0', np.nan)\n",
        "new_df[\"pump\"] = new_df[\"pump\"].replace('0', np.nan)"
      ],
      "execution_count": 224,
      "outputs": []
    },
    {
      "cell_type": "code",
      "metadata": {
        "colab": {
          "base_uri": "https://localhost:8080/",
          "height": 202
        },
        "id": "astAkpYZzuHe",
        "outputId": "749592f7-7e4c-4fe3-cfe1-7c9a7376e905"
      },
      "source": [
        "new_df.head()"
      ],
      "execution_count": 225,
      "outputs": [
        {
          "output_type": "execute_result",
          "data": {
            "text/html": [
              "<div>\n",
              "<style scoped>\n",
              "    .dataframe tbody tr th:only-of-type {\n",
              "        vertical-align: middle;\n",
              "    }\n",
              "\n",
              "    .dataframe tbody tr th {\n",
              "        vertical-align: top;\n",
              "    }\n",
              "\n",
              "    .dataframe thead th {\n",
              "        text-align: right;\n",
              "    }\n",
              "</style>\n",
              "<table border=\"1\" class=\"dataframe\">\n",
              "  <thead>\n",
              "    <tr style=\"text-align: right;\">\n",
              "      <th></th>\n",
              "      <th>DataID</th>\n",
              "      <th>temp1</th>\n",
              "      <th>temp2</th>\n",
              "      <th>ldr</th>\n",
              "      <th>heater</th>\n",
              "      <th>humidity1</th>\n",
              "      <th>humidity2</th>\n",
              "      <th>pump</th>\n",
              "      <th>TimeRead</th>\n",
              "    </tr>\n",
              "  </thead>\n",
              "  <tbody>\n",
              "    <tr>\n",
              "      <th>0</th>\n",
              "      <td>19</td>\n",
              "      <td>33.0</td>\n",
              "      <td>NaN</td>\n",
              "      <td>NaN</td>\n",
              "      <td>NaN</td>\n",
              "      <td>NaN</td>\n",
              "      <td>NaN</td>\n",
              "      <td>NaN</td>\n",
              "      <td>2020-12-06 14:18:52</td>\n",
              "    </tr>\n",
              "    <tr>\n",
              "      <th>1</th>\n",
              "      <td>20</td>\n",
              "      <td>NaN</td>\n",
              "      <td>NaN</td>\n",
              "      <td>NaN</td>\n",
              "      <td>NaN</td>\n",
              "      <td>NaN</td>\n",
              "      <td>74.0</td>\n",
              "      <td>NaN</td>\n",
              "      <td>2020-12-06 14:18:52</td>\n",
              "    </tr>\n",
              "    <tr>\n",
              "      <th>2</th>\n",
              "      <td>21</td>\n",
              "      <td>NaN</td>\n",
              "      <td>21.0</td>\n",
              "      <td>NaN</td>\n",
              "      <td>NaN</td>\n",
              "      <td>NaN</td>\n",
              "      <td>NaN</td>\n",
              "      <td>NaN</td>\n",
              "      <td>2020-12-06 14:18:52</td>\n",
              "    </tr>\n",
              "    <tr>\n",
              "      <th>3</th>\n",
              "      <td>22</td>\n",
              "      <td>NaN</td>\n",
              "      <td>NaN</td>\n",
              "      <td>NaN</td>\n",
              "      <td>NaN</td>\n",
              "      <td>NaN</td>\n",
              "      <td>NaN</td>\n",
              "      <td>OFF</td>\n",
              "      <td>2020-12-06 14:18:52</td>\n",
              "    </tr>\n",
              "    <tr>\n",
              "      <th>4</th>\n",
              "      <td>23</td>\n",
              "      <td>NaN</td>\n",
              "      <td>NaN</td>\n",
              "      <td>NaN</td>\n",
              "      <td>NaN</td>\n",
              "      <td>33.0</td>\n",
              "      <td>NaN</td>\n",
              "      <td>NaN</td>\n",
              "      <td>2020-12-06 14:18:52</td>\n",
              "    </tr>\n",
              "  </tbody>\n",
              "</table>\n",
              "</div>"
            ],
            "text/plain": [
              "   DataID  temp1  temp2  ldr  ... humidity1  humidity2  pump            TimeRead\n",
              "0      19   33.0    NaN  NaN  ...       NaN        NaN   NaN 2020-12-06 14:18:52\n",
              "1      20    NaN    NaN  NaN  ...       NaN       74.0   NaN 2020-12-06 14:18:52\n",
              "2      21    NaN   21.0  NaN  ...       NaN        NaN   NaN 2020-12-06 14:18:52\n",
              "3      22    NaN    NaN  NaN  ...       NaN        NaN   OFF 2020-12-06 14:18:52\n",
              "4      23    NaN    NaN  NaN  ...      33.0        NaN   NaN 2020-12-06 14:18:52\n",
              "\n",
              "[5 rows x 9 columns]"
            ]
          },
          "metadata": {
            "tags": []
          },
          "execution_count": 225
        }
      ]
    },
    {
      "cell_type": "code",
      "metadata": {
        "id": "Yzd5FqE4xyS6"
      },
      "source": [
        "recode = {\"OFF\": 0, \"ON\": 1}"
      ],
      "execution_count": 226,
      "outputs": []
    },
    {
      "cell_type": "code",
      "metadata": {
        "id": "5f8wv5u2xm6T"
      },
      "source": [
        "new_df[\"heater\"] = new_df[\"heater\"].replace(recode)\n",
        "new_df[\"pump\"] = new_df[\"pump\"].replace(recode)"
      ],
      "execution_count": 227,
      "outputs": []
    },
    {
      "cell_type": "code",
      "metadata": {
        "colab": {
          "base_uri": "https://localhost:8080/",
          "height": 202
        },
        "id": "D76p1J_41biz",
        "outputId": "794d0abc-e33c-46d4-ef06-d446278db0a9"
      },
      "source": [
        "new_df.head()"
      ],
      "execution_count": 228,
      "outputs": [
        {
          "output_type": "execute_result",
          "data": {
            "text/html": [
              "<div>\n",
              "<style scoped>\n",
              "    .dataframe tbody tr th:only-of-type {\n",
              "        vertical-align: middle;\n",
              "    }\n",
              "\n",
              "    .dataframe tbody tr th {\n",
              "        vertical-align: top;\n",
              "    }\n",
              "\n",
              "    .dataframe thead th {\n",
              "        text-align: right;\n",
              "    }\n",
              "</style>\n",
              "<table border=\"1\" class=\"dataframe\">\n",
              "  <thead>\n",
              "    <tr style=\"text-align: right;\">\n",
              "      <th></th>\n",
              "      <th>DataID</th>\n",
              "      <th>temp1</th>\n",
              "      <th>temp2</th>\n",
              "      <th>ldr</th>\n",
              "      <th>heater</th>\n",
              "      <th>humidity1</th>\n",
              "      <th>humidity2</th>\n",
              "      <th>pump</th>\n",
              "      <th>TimeRead</th>\n",
              "    </tr>\n",
              "  </thead>\n",
              "  <tbody>\n",
              "    <tr>\n",
              "      <th>0</th>\n",
              "      <td>19</td>\n",
              "      <td>33.0</td>\n",
              "      <td>NaN</td>\n",
              "      <td>NaN</td>\n",
              "      <td>NaN</td>\n",
              "      <td>NaN</td>\n",
              "      <td>NaN</td>\n",
              "      <td>NaN</td>\n",
              "      <td>2020-12-06 14:18:52</td>\n",
              "    </tr>\n",
              "    <tr>\n",
              "      <th>1</th>\n",
              "      <td>20</td>\n",
              "      <td>NaN</td>\n",
              "      <td>NaN</td>\n",
              "      <td>NaN</td>\n",
              "      <td>NaN</td>\n",
              "      <td>NaN</td>\n",
              "      <td>74.0</td>\n",
              "      <td>NaN</td>\n",
              "      <td>2020-12-06 14:18:52</td>\n",
              "    </tr>\n",
              "    <tr>\n",
              "      <th>2</th>\n",
              "      <td>21</td>\n",
              "      <td>NaN</td>\n",
              "      <td>21.0</td>\n",
              "      <td>NaN</td>\n",
              "      <td>NaN</td>\n",
              "      <td>NaN</td>\n",
              "      <td>NaN</td>\n",
              "      <td>NaN</td>\n",
              "      <td>2020-12-06 14:18:52</td>\n",
              "    </tr>\n",
              "    <tr>\n",
              "      <th>3</th>\n",
              "      <td>22</td>\n",
              "      <td>NaN</td>\n",
              "      <td>NaN</td>\n",
              "      <td>NaN</td>\n",
              "      <td>NaN</td>\n",
              "      <td>NaN</td>\n",
              "      <td>NaN</td>\n",
              "      <td>0.0</td>\n",
              "      <td>2020-12-06 14:18:52</td>\n",
              "    </tr>\n",
              "    <tr>\n",
              "      <th>4</th>\n",
              "      <td>23</td>\n",
              "      <td>NaN</td>\n",
              "      <td>NaN</td>\n",
              "      <td>NaN</td>\n",
              "      <td>NaN</td>\n",
              "      <td>33.0</td>\n",
              "      <td>NaN</td>\n",
              "      <td>NaN</td>\n",
              "      <td>2020-12-06 14:18:52</td>\n",
              "    </tr>\n",
              "  </tbody>\n",
              "</table>\n",
              "</div>"
            ],
            "text/plain": [
              "   DataID  temp1  temp2  ldr  ...  humidity1  humidity2  pump            TimeRead\n",
              "0      19   33.0    NaN  NaN  ...        NaN        NaN   NaN 2020-12-06 14:18:52\n",
              "1      20    NaN    NaN  NaN  ...        NaN       74.0   NaN 2020-12-06 14:18:52\n",
              "2      21    NaN   21.0  NaN  ...        NaN        NaN   NaN 2020-12-06 14:18:52\n",
              "3      22    NaN    NaN  NaN  ...        NaN        NaN   0.0 2020-12-06 14:18:52\n",
              "4      23    NaN    NaN  NaN  ...       33.0        NaN   NaN 2020-12-06 14:18:52\n",
              "\n",
              "[5 rows x 9 columns]"
            ]
          },
          "metadata": {
            "tags": []
          },
          "execution_count": 228
        }
      ]
    },
    {
      "cell_type": "code",
      "metadata": {
        "id": "nf7b1aFBwSCE"
      },
      "source": [
        "new_df.fillna(method=\"ffill\", inplace=True)\n",
        "new_df.fillna(method=\"bfill\", inplace=True)"
      ],
      "execution_count": 229,
      "outputs": []
    },
    {
      "cell_type": "code",
      "metadata": {
        "colab": {
          "base_uri": "https://localhost:8080/",
          "height": 202
        },
        "id": "anszizauwnyO",
        "outputId": "7f1c2da1-93e4-4ed8-fc84-916f55349c33"
      },
      "source": [
        "new_df.head()"
      ],
      "execution_count": 230,
      "outputs": [
        {
          "output_type": "execute_result",
          "data": {
            "text/html": [
              "<div>\n",
              "<style scoped>\n",
              "    .dataframe tbody tr th:only-of-type {\n",
              "        vertical-align: middle;\n",
              "    }\n",
              "\n",
              "    .dataframe tbody tr th {\n",
              "        vertical-align: top;\n",
              "    }\n",
              "\n",
              "    .dataframe thead th {\n",
              "        text-align: right;\n",
              "    }\n",
              "</style>\n",
              "<table border=\"1\" class=\"dataframe\">\n",
              "  <thead>\n",
              "    <tr style=\"text-align: right;\">\n",
              "      <th></th>\n",
              "      <th>DataID</th>\n",
              "      <th>temp1</th>\n",
              "      <th>temp2</th>\n",
              "      <th>ldr</th>\n",
              "      <th>heater</th>\n",
              "      <th>humidity1</th>\n",
              "      <th>humidity2</th>\n",
              "      <th>pump</th>\n",
              "      <th>TimeRead</th>\n",
              "    </tr>\n",
              "  </thead>\n",
              "  <tbody>\n",
              "    <tr>\n",
              "      <th>0</th>\n",
              "      <td>19</td>\n",
              "      <td>33.0</td>\n",
              "      <td>21.0</td>\n",
              "      <td>225.0</td>\n",
              "      <td>1.0</td>\n",
              "      <td>33.0</td>\n",
              "      <td>74.0</td>\n",
              "      <td>0.0</td>\n",
              "      <td>2020-12-06 14:18:52</td>\n",
              "    </tr>\n",
              "    <tr>\n",
              "      <th>1</th>\n",
              "      <td>20</td>\n",
              "      <td>33.0</td>\n",
              "      <td>21.0</td>\n",
              "      <td>225.0</td>\n",
              "      <td>1.0</td>\n",
              "      <td>33.0</td>\n",
              "      <td>74.0</td>\n",
              "      <td>0.0</td>\n",
              "      <td>2020-12-06 14:18:52</td>\n",
              "    </tr>\n",
              "    <tr>\n",
              "      <th>2</th>\n",
              "      <td>21</td>\n",
              "      <td>33.0</td>\n",
              "      <td>21.0</td>\n",
              "      <td>225.0</td>\n",
              "      <td>1.0</td>\n",
              "      <td>33.0</td>\n",
              "      <td>74.0</td>\n",
              "      <td>0.0</td>\n",
              "      <td>2020-12-06 14:18:52</td>\n",
              "    </tr>\n",
              "    <tr>\n",
              "      <th>3</th>\n",
              "      <td>22</td>\n",
              "      <td>33.0</td>\n",
              "      <td>21.0</td>\n",
              "      <td>225.0</td>\n",
              "      <td>1.0</td>\n",
              "      <td>33.0</td>\n",
              "      <td>74.0</td>\n",
              "      <td>0.0</td>\n",
              "      <td>2020-12-06 14:18:52</td>\n",
              "    </tr>\n",
              "    <tr>\n",
              "      <th>4</th>\n",
              "      <td>23</td>\n",
              "      <td>33.0</td>\n",
              "      <td>21.0</td>\n",
              "      <td>225.0</td>\n",
              "      <td>1.0</td>\n",
              "      <td>33.0</td>\n",
              "      <td>74.0</td>\n",
              "      <td>0.0</td>\n",
              "      <td>2020-12-06 14:18:52</td>\n",
              "    </tr>\n",
              "  </tbody>\n",
              "</table>\n",
              "</div>"
            ],
            "text/plain": [
              "   DataID  temp1  temp2    ldr  ...  humidity1  humidity2  pump            TimeRead\n",
              "0      19   33.0   21.0  225.0  ...       33.0       74.0   0.0 2020-12-06 14:18:52\n",
              "1      20   33.0   21.0  225.0  ...       33.0       74.0   0.0 2020-12-06 14:18:52\n",
              "2      21   33.0   21.0  225.0  ...       33.0       74.0   0.0 2020-12-06 14:18:52\n",
              "3      22   33.0   21.0  225.0  ...       33.0       74.0   0.0 2020-12-06 14:18:52\n",
              "4      23   33.0   21.0  225.0  ...       33.0       74.0   0.0 2020-12-06 14:18:52\n",
              "\n",
              "[5 rows x 9 columns]"
            ]
          },
          "metadata": {
            "tags": []
          },
          "execution_count": 230
        }
      ]
    },
    {
      "cell_type": "code",
      "metadata": {
        "colab": {
          "base_uri": "https://localhost:8080/"
        },
        "id": "whMUXA6BwtfJ",
        "outputId": "52139589-c67a-4200-9eb3-cd6db7475bab"
      },
      "source": [
        "new_df.isna().sum()"
      ],
      "execution_count": 231,
      "outputs": [
        {
          "output_type": "execute_result",
          "data": {
            "text/plain": [
              "DataID       0\n",
              "temp1        0\n",
              "temp2        0\n",
              "ldr          0\n",
              "heater       0\n",
              "humidity1    0\n",
              "humidity2    0\n",
              "pump         0\n",
              "TimeRead     0\n",
              "dtype: int64"
            ]
          },
          "metadata": {
            "tags": []
          },
          "execution_count": 231
        }
      ]
    },
    {
      "cell_type": "markdown",
      "metadata": {
        "id": "whG8Q0ddw-OX"
      },
      "source": [
        "# Data Visualizations"
      ]
    },
    {
      "cell_type": "code",
      "metadata": {
        "colab": {
          "base_uri": "https://localhost:8080/",
          "height": 233
        },
        "id": "yWkmqS0_xBj8",
        "outputId": "de000b16-c2f3-4a67-9b8a-9b16e38b9cba"
      },
      "source": [
        "new_df.drop(\"DataID\", inplace=True, axis=1)\n",
        "new_df.set_index(\"TimeRead\", inplace=True)\n",
        "\n",
        "mean_new_df = new_df.groupby([new_df.index.hour, new_df.index.minute]).mean()\n",
        "mean_new_df.rename_axis(index=['hours', 'minutes'], inplace=True)\n",
        "mean_new_df.head()"
      ],
      "execution_count": 232,
      "outputs": [
        {
          "output_type": "execute_result",
          "data": {
            "text/html": [
              "<div>\n",
              "<style scoped>\n",
              "    .dataframe tbody tr th:only-of-type {\n",
              "        vertical-align: middle;\n",
              "    }\n",
              "\n",
              "    .dataframe tbody tr th {\n",
              "        vertical-align: top;\n",
              "    }\n",
              "\n",
              "    .dataframe thead th {\n",
              "        text-align: right;\n",
              "    }\n",
              "</style>\n",
              "<table border=\"1\" class=\"dataframe\">\n",
              "  <thead>\n",
              "    <tr style=\"text-align: right;\">\n",
              "      <th></th>\n",
              "      <th></th>\n",
              "      <th>temp1</th>\n",
              "      <th>temp2</th>\n",
              "      <th>ldr</th>\n",
              "      <th>heater</th>\n",
              "      <th>humidity1</th>\n",
              "      <th>humidity2</th>\n",
              "      <th>pump</th>\n",
              "    </tr>\n",
              "    <tr>\n",
              "      <th>hours</th>\n",
              "      <th>minutes</th>\n",
              "      <th></th>\n",
              "      <th></th>\n",
              "      <th></th>\n",
              "      <th></th>\n",
              "      <th></th>\n",
              "      <th></th>\n",
              "      <th></th>\n",
              "    </tr>\n",
              "  </thead>\n",
              "  <tbody>\n",
              "    <tr>\n",
              "      <th rowspan=\"5\" valign=\"top\">14</th>\n",
              "      <th>18</th>\n",
              "      <td>33.435897</td>\n",
              "      <td>22.666667</td>\n",
              "      <td>432.153846</td>\n",
              "      <td>0.641026</td>\n",
              "      <td>32.128205</td>\n",
              "      <td>74.051282</td>\n",
              "      <td>0.000000</td>\n",
              "    </tr>\n",
              "    <tr>\n",
              "      <th>19</th>\n",
              "      <td>35.625000</td>\n",
              "      <td>25.153571</td>\n",
              "      <td>622.246429</td>\n",
              "      <td>0.475000</td>\n",
              "      <td>31.675000</td>\n",
              "      <td>67.864286</td>\n",
              "      <td>0.239286</td>\n",
              "    </tr>\n",
              "    <tr>\n",
              "      <th>20</th>\n",
              "      <td>34.850000</td>\n",
              "      <td>25.039286</td>\n",
              "      <td>554.010714</td>\n",
              "      <td>0.496429</td>\n",
              "      <td>31.975000</td>\n",
              "      <td>70.332143</td>\n",
              "      <td>0.503571</td>\n",
              "    </tr>\n",
              "    <tr>\n",
              "      <th>21</th>\n",
              "      <td>35.049470</td>\n",
              "      <td>25.070671</td>\n",
              "      <td>465.685512</td>\n",
              "      <td>0.583039</td>\n",
              "      <td>30.226148</td>\n",
              "      <td>65.766784</td>\n",
              "      <td>0.247350</td>\n",
              "    </tr>\n",
              "    <tr>\n",
              "      <th>22</th>\n",
              "      <td>34.911032</td>\n",
              "      <td>25.174377</td>\n",
              "      <td>505.750890</td>\n",
              "      <td>0.747331</td>\n",
              "      <td>33.960854</td>\n",
              "      <td>70.722420</td>\n",
              "      <td>0.423488</td>\n",
              "    </tr>\n",
              "  </tbody>\n",
              "</table>\n",
              "</div>"
            ],
            "text/plain": [
              "                   temp1      temp2         ldr  ...  humidity1  humidity2      pump\n",
              "hours minutes                                    ...                                \n",
              "14    18       33.435897  22.666667  432.153846  ...  32.128205  74.051282  0.000000\n",
              "      19       35.625000  25.153571  622.246429  ...  31.675000  67.864286  0.239286\n",
              "      20       34.850000  25.039286  554.010714  ...  31.975000  70.332143  0.503571\n",
              "      21       35.049470  25.070671  465.685512  ...  30.226148  65.766784  0.247350\n",
              "      22       34.911032  25.174377  505.750890  ...  33.960854  70.722420  0.423488\n",
              "\n",
              "[5 rows x 7 columns]"
            ]
          },
          "metadata": {
            "tags": []
          },
          "execution_count": 232
        }
      ]
    },
    {
      "cell_type": "code",
      "metadata": {
        "id": "oMdCyZkReXNg",
        "colab": {
          "base_uri": "https://localhost:8080/",
          "height": 202
        },
        "outputId": "367eb08f-2e51-4c7d-9f5b-9d7cc51bb4fd"
      },
      "source": [
        "mean_new_df.reset_index(inplace=True)\n",
        "mean_new_df.head()"
      ],
      "execution_count": 233,
      "outputs": [
        {
          "output_type": "execute_result",
          "data": {
            "text/html": [
              "<div>\n",
              "<style scoped>\n",
              "    .dataframe tbody tr th:only-of-type {\n",
              "        vertical-align: middle;\n",
              "    }\n",
              "\n",
              "    .dataframe tbody tr th {\n",
              "        vertical-align: top;\n",
              "    }\n",
              "\n",
              "    .dataframe thead th {\n",
              "        text-align: right;\n",
              "    }\n",
              "</style>\n",
              "<table border=\"1\" class=\"dataframe\">\n",
              "  <thead>\n",
              "    <tr style=\"text-align: right;\">\n",
              "      <th></th>\n",
              "      <th>hours</th>\n",
              "      <th>minutes</th>\n",
              "      <th>temp1</th>\n",
              "      <th>temp2</th>\n",
              "      <th>ldr</th>\n",
              "      <th>heater</th>\n",
              "      <th>humidity1</th>\n",
              "      <th>humidity2</th>\n",
              "      <th>pump</th>\n",
              "    </tr>\n",
              "  </thead>\n",
              "  <tbody>\n",
              "    <tr>\n",
              "      <th>0</th>\n",
              "      <td>14</td>\n",
              "      <td>18</td>\n",
              "      <td>33.435897</td>\n",
              "      <td>22.666667</td>\n",
              "      <td>432.153846</td>\n",
              "      <td>0.641026</td>\n",
              "      <td>32.128205</td>\n",
              "      <td>74.051282</td>\n",
              "      <td>0.000000</td>\n",
              "    </tr>\n",
              "    <tr>\n",
              "      <th>1</th>\n",
              "      <td>14</td>\n",
              "      <td>19</td>\n",
              "      <td>35.625000</td>\n",
              "      <td>25.153571</td>\n",
              "      <td>622.246429</td>\n",
              "      <td>0.475000</td>\n",
              "      <td>31.675000</td>\n",
              "      <td>67.864286</td>\n",
              "      <td>0.239286</td>\n",
              "    </tr>\n",
              "    <tr>\n",
              "      <th>2</th>\n",
              "      <td>14</td>\n",
              "      <td>20</td>\n",
              "      <td>34.850000</td>\n",
              "      <td>25.039286</td>\n",
              "      <td>554.010714</td>\n",
              "      <td>0.496429</td>\n",
              "      <td>31.975000</td>\n",
              "      <td>70.332143</td>\n",
              "      <td>0.503571</td>\n",
              "    </tr>\n",
              "    <tr>\n",
              "      <th>3</th>\n",
              "      <td>14</td>\n",
              "      <td>21</td>\n",
              "      <td>35.049470</td>\n",
              "      <td>25.070671</td>\n",
              "      <td>465.685512</td>\n",
              "      <td>0.583039</td>\n",
              "      <td>30.226148</td>\n",
              "      <td>65.766784</td>\n",
              "      <td>0.247350</td>\n",
              "    </tr>\n",
              "    <tr>\n",
              "      <th>4</th>\n",
              "      <td>14</td>\n",
              "      <td>22</td>\n",
              "      <td>34.911032</td>\n",
              "      <td>25.174377</td>\n",
              "      <td>505.750890</td>\n",
              "      <td>0.747331</td>\n",
              "      <td>33.960854</td>\n",
              "      <td>70.722420</td>\n",
              "      <td>0.423488</td>\n",
              "    </tr>\n",
              "  </tbody>\n",
              "</table>\n",
              "</div>"
            ],
            "text/plain": [
              "   hours  minutes      temp1  ...  humidity1  humidity2      pump\n",
              "0     14       18  33.435897  ...  32.128205  74.051282  0.000000\n",
              "1     14       19  35.625000  ...  31.675000  67.864286  0.239286\n",
              "2     14       20  34.850000  ...  31.975000  70.332143  0.503571\n",
              "3     14       21  35.049470  ...  30.226148  65.766784  0.247350\n",
              "4     14       22  34.911032  ...  33.960854  70.722420  0.423488\n",
              "\n",
              "[5 rows x 9 columns]"
            ]
          },
          "metadata": {
            "tags": []
          },
          "execution_count": 233
        }
      ]
    },
    {
      "cell_type": "code",
      "metadata": {
        "colab": {
          "base_uri": "https://localhost:8080/",
          "height": 283
        },
        "id": "Fcto014UH-wx",
        "outputId": "2d983ab6-2531-4408-9f97-6c451b54e04a"
      },
      "source": [
        "sns.lineplot(data=mean_new_df[['heater', 'humidity1', 'humidity2', 'pump', 'temp1', 'temp2', 'ldr']], markers=True, dashes=False)"
      ],
      "execution_count": 234,
      "outputs": [
        {
          "output_type": "execute_result",
          "data": {
            "text/plain": [
              "<matplotlib.axes._subplots.AxesSubplot at 0x7fc8a83d93c8>"
            ]
          },
          "metadata": {
            "tags": []
          },
          "execution_count": 234
        },
        {
          "output_type": "display_data",
          "data": {
            "image/png": "[encoded data removed]",
            "text/plain": [
              "<Figure size 432x288 with 1 Axes>"
            ]
          },
          "metadata": {
            "tags": [],
            "needs_background": "light"
          }
        }
      ]
    },
    {
      "cell_type": "markdown",
      "metadata": {
        "id": "IUSDplfmEbmN"
      },
      "source": [
        "The LDR has very high values so I will remove that from the plot"
      ]
    },
    {
      "cell_type": "code",
      "metadata": {
        "colab": {
          "base_uri": "https://localhost:8080/",
          "height": 283
        },
        "id": "eqWlg7tIEimy",
        "outputId": "fdb31c4b-8ac6-40e2-c0d3-368398d23bad"
      },
      "source": [
        "sns.lineplot(data=mean_new_df[['heater', 'humidity1', 'humidity2', 'pump', 'temp1', 'temp2']], markers=True, dashes=False)"
      ],
      "execution_count": 235,
      "outputs": [
        {
          "output_type": "execute_result",
          "data": {
            "text/plain": [
              "<matplotlib.axes._subplots.AxesSubplot at 0x7fc8a82d0898>"
            ]
          },
          "metadata": {
            "tags": []
          },
          "execution_count": 235
        },
        {
          "output_type": "display_data",
          "data": {
            "image/png": "[encoded data removed]",
            "text/plain": [
              "<Figure size 432x288 with 1 Axes>"
            ]
          },
          "metadata": {
            "tags": [],
            "needs_background": "light"
          }
        }
      ]
    },
    {
      "cell_type": "markdown",
      "metadata": {
        "id": "OGo9yVDZEnaq"
      },
      "source": [
        "Now we can see the other variables better"
      ]
    },
    {
      "cell_type": "markdown",
      "metadata": {
        "id": "4Cf2F02dPna5"
      },
      "source": [
        "### Temperature Trend"
      ]
    },
    {
      "cell_type": "code",
      "metadata": {
        "id": "JM2TzW5iaJ1C"
      },
      "source": [
        "mean_temp1 = pd.DataFrame(mean_new_df[\"temp1\"], columns=[\"temp1\"])"
      ],
      "execution_count": 236,
      "outputs": []
    },
    {
      "cell_type": "code",
      "metadata": {
        "colab": {
          "base_uri": "https://localhost:8080/",
          "height": 202
        },
        "id": "rvda5Gux2RGu",
        "outputId": "aa811d1b-dc38-449f-f284-06da18060f02"
      },
      "source": [
        "mean_temp1.head()"
      ],
      "execution_count": 237,
      "outputs": [
        {
          "output_type": "execute_result",
          "data": {
            "text/html": [
              "<div>\n",
              "<style scoped>\n",
              "    .dataframe tbody tr th:only-of-type {\n",
              "        vertical-align: middle;\n",
              "    }\n",
              "\n",
              "    .dataframe tbody tr th {\n",
              "        vertical-align: top;\n",
              "    }\n",
              "\n",
              "    .dataframe thead th {\n",
              "        text-align: right;\n",
              "    }\n",
              "</style>\n",
              "<table border=\"1\" class=\"dataframe\">\n",
              "  <thead>\n",
              "    <tr style=\"text-align: right;\">\n",
              "      <th></th>\n",
              "      <th>temp1</th>\n",
              "    </tr>\n",
              "  </thead>\n",
              "  <tbody>\n",
              "    <tr>\n",
              "      <th>0</th>\n",
              "      <td>33.435897</td>\n",
              "    </tr>\n",
              "    <tr>\n",
              "      <th>1</th>\n",
              "      <td>35.625000</td>\n",
              "    </tr>\n",
              "    <tr>\n",
              "      <th>2</th>\n",
              "      <td>34.850000</td>\n",
              "    </tr>\n",
              "    <tr>\n",
              "      <th>3</th>\n",
              "      <td>35.049470</td>\n",
              "    </tr>\n",
              "    <tr>\n",
              "      <th>4</th>\n",
              "      <td>34.911032</td>\n",
              "    </tr>\n",
              "  </tbody>\n",
              "</table>\n",
              "</div>"
            ],
            "text/plain": [
              "       temp1\n",
              "0  33.435897\n",
              "1  35.625000\n",
              "2  34.850000\n",
              "3  35.049470\n",
              "4  34.911032"
            ]
          },
          "metadata": {
            "tags": []
          },
          "execution_count": 237
        }
      ]
    },
    {
      "cell_type": "code",
      "metadata": {
        "id": "9xUkrPFnF2v8"
      },
      "source": [
        "mean_temp2 = pd.DataFrame(mean_new_df[\"temp2\"], columns=[\"temp2\"])"
      ],
      "execution_count": 238,
      "outputs": []
    },
    {
      "cell_type": "code",
      "metadata": {
        "id": "mVWzDzCv4h-Z",
        "colab": {
          "base_uri": "https://localhost:8080/",
          "height": 202
        },
        "outputId": "3dd42751-32d9-496f-9b90-39c997c34fd7"
      },
      "source": [
        "mean_temp2.head()"
      ],
      "execution_count": 239,
      "outputs": [
        {
          "output_type": "execute_result",
          "data": {
            "text/html": [
              "<div>\n",
              "<style scoped>\n",
              "    .dataframe tbody tr th:only-of-type {\n",
              "        vertical-align: middle;\n",
              "    }\n",
              "\n",
              "    .dataframe tbody tr th {\n",
              "        vertical-align: top;\n",
              "    }\n",
              "\n",
              "    .dataframe thead th {\n",
              "        text-align: right;\n",
              "    }\n",
              "</style>\n",
              "<table border=\"1\" class=\"dataframe\">\n",
              "  <thead>\n",
              "    <tr style=\"text-align: right;\">\n",
              "      <th></th>\n",
              "      <th>temp2</th>\n",
              "    </tr>\n",
              "  </thead>\n",
              "  <tbody>\n",
              "    <tr>\n",
              "      <th>0</th>\n",
              "      <td>22.666667</td>\n",
              "    </tr>\n",
              "    <tr>\n",
              "      <th>1</th>\n",
              "      <td>25.153571</td>\n",
              "    </tr>\n",
              "    <tr>\n",
              "      <th>2</th>\n",
              "      <td>25.039286</td>\n",
              "    </tr>\n",
              "    <tr>\n",
              "      <th>3</th>\n",
              "      <td>25.070671</td>\n",
              "    </tr>\n",
              "    <tr>\n",
              "      <th>4</th>\n",
              "      <td>25.174377</td>\n",
              "    </tr>\n",
              "  </tbody>\n",
              "</table>\n",
              "</div>"
            ],
            "text/plain": [
              "       temp2\n",
              "0  22.666667\n",
              "1  25.153571\n",
              "2  25.039286\n",
              "3  25.070671\n",
              "4  25.174377"
            ]
          },
          "metadata": {
            "tags": []
          },
          "execution_count": 239
        }
      ]
    },
    {
      "cell_type": "code",
      "metadata": {
        "id": "H64ukrZhBkn0",
        "colab": {
          "base_uri": "https://localhost:8080/",
          "height": 313
        },
        "outputId": "82e01850-c388-464c-e588-d58f4c8d92c1"
      },
      "source": [
        "temp1_ax = sns.regplot(x=mean_temp1.index, y=\"temp1\", color=\"g\", data=mean_temp1)\n",
        "temp1_ax.set_xlabel(\"Minutes\")\n",
        "temp1_ax.set_ylabel(\"Average Temperature\")\n",
        "temp1_ax.set_title(\"temp1 Average Temperature values per minute\")"
      ],
      "execution_count": 240,
      "outputs": [
        {
          "output_type": "execute_result",
          "data": {
            "text/plain": [
              "Text(0.5, 1.0, 'temp1 Average Temperature values per minute')"
            ]
          },
          "metadata": {
            "tags": []
          },
          "execution_count": 240
        },
        {
          "output_type": "display_data",
          "data": {
            "image/png": "[encoded data removed]",
            "text/plain": [
              "<Figure size 432x288 with 1 Axes>"
            ]
          },
          "metadata": {
            "tags": [],
            "needs_background": "light"
          }
        }
      ]
    },
    {
      "cell_type": "markdown",
      "metadata": {
        "id": "0IaxYib99Gw0"
      },
      "source": [
        "\n",
        "The average temperature for temperature1 increases slowly from about 34.9 to 35.1 during the 45 minute period. It seems to be fairly constant around 35.0."
      ]
    },
    {
      "cell_type": "code",
      "metadata": {
        "id": "DSch0Um8ONrL",
        "colab": {
          "base_uri": "https://localhost:8080/",
          "height": 313
        },
        "outputId": "e34c8f26-86e9-4eed-ee7f-f4be1e3f7160"
      },
      "source": [
        "temp2_ax = sns.regplot(x=mean_temp2.index, y=\"temp2\", color=\"g\", data=mean_temp2)\n",
        "temp2_ax.set_xlabel(\"Minutes\")\n",
        "temp2_ax.set_ylabel(\"Average Temperature\")\n",
        "temp2_ax.set_title(\"temp2 Average Temperature values per minute\")"
      ],
      "execution_count": 241,
      "outputs": [
        {
          "output_type": "execute_result",
          "data": {
            "text/plain": [
              "Text(0.5, 1.0, 'temp2 Average Temperature values per minute')"
            ]
          },
          "metadata": {
            "tags": []
          },
          "execution_count": 241
        },
        {
          "output_type": "display_data",
          "data": {
            "image/png": "[encoded data removed]",
            "text/plain": [
              "<Figure size 432x288 with 1 Axes>"
            ]
          },
          "metadata": {
            "tags": [],
            "needs_background": "light"
          }
        }
      ]
    },
    {
      "cell_type": "markdown",
      "metadata": {
        "id": "fPqdIARi8ykO"
      },
      "source": [
        "The average temperature for temperature2 increases slowly from an average of about 24.85 to 25.10 during the 45 minute period."
      ]
    },
    {
      "cell_type": "markdown",
      "metadata": {
        "id": "Vx-p1ve5PtQm"
      },
      "source": [
        "### Humidity Trend"
      ]
    },
    {
      "cell_type": "code",
      "metadata": {
        "id": "LV6tpVZGPwA8"
      },
      "source": [
        "mean_humidity1 = pd.DataFrame(mean_new_df[\"humidity1\"], columns=[\"humidity1\"])\n",
        "mean_humidity2 =  pd.DataFrame(mean_new_df[\"humidity2\"], columns=[\"humidity2\"])"
      ],
      "execution_count": 242,
      "outputs": []
    },
    {
      "cell_type": "code",
      "metadata": {
        "id": "kpOxN2PjRq8B",
        "colab": {
          "base_uri": "https://localhost:8080/",
          "height": 313
        },
        "outputId": "405f91d3-d69b-472b-eac1-0a6ca41bc0e6"
      },
      "source": [
        "humidity1_ax = sns.regplot(x=mean_humidity1.index, y=\"humidity1\", color=\"b\", data=mean_humidity1)\n",
        "humidity1_ax.set_xlabel(\"Minutes\")\n",
        "humidity1_ax.set_ylabel(\"Average Humidity\")\n",
        "humidity1_ax.set_title(\"humidity1 Average Humidity values per minute\")"
      ],
      "execution_count": 243,
      "outputs": [
        {
          "output_type": "execute_result",
          "data": {
            "text/plain": [
              "Text(0.5, 1.0, 'humidity1 Average Humidity values per minute')"
            ]
          },
          "metadata": {
            "tags": []
          },
          "execution_count": 243
        },
        {
          "output_type": "display_data",
          "data": {
            "image/png": "[encoded data removed]",
            "text/plain": [
              "<Figure size 432x288 with 1 Axes>"
            ]
          },
          "metadata": {
            "tags": [],
            "needs_background": "light"
          }
        }
      ]
    },
    {
      "cell_type": "markdown",
      "metadata": {
        "id": "isltv2tW8nSX"
      },
      "source": [
        "The average humidity for humidity1 is fairly constant around 32 during the 45 minute period. It increases slowly by just a little to about 32.5"
      ]
    },
    {
      "cell_type": "code",
      "metadata": {
        "id": "cWmAgiajSIBe",
        "colab": {
          "base_uri": "https://localhost:8080/",
          "height": 313
        },
        "outputId": "d5fe7944-91bd-4b89-9d9c-bef69a1d6969"
      },
      "source": [
        "humidity2_ax = sns.regplot(x=mean_humidity2.index, y=\"humidity2\", color=\"b\", data=mean_humidity2)\n",
        "humidity2_ax.set_xlabel(\"Minutes\")\n",
        "humidity2_ax.set_ylabel(\"Average Humidity\")\n",
        "humidity2_ax.set_title(\"humidity2 Average Humidity values per minute\")"
      ],
      "execution_count": 244,
      "outputs": [
        {
          "output_type": "execute_result",
          "data": {
            "text/plain": [
              "Text(0.5, 1.0, 'humidity2 Average Humidity values per minute')"
            ]
          },
          "metadata": {
            "tags": []
          },
          "execution_count": 244
        },
        {
          "output_type": "display_data",
          "data": {
            "image/png": "[encoded data removed]",
            "text/plain": [
              "<Figure size 432x288 with 1 Axes>"
            ]
          },
          "metadata": {
            "tags": [],
            "needs_background": "light"
          }
        }
      ]
    },
    {
      "cell_type": "markdown",
      "metadata": {
        "id": "KnNUKtPZ8F9O"
      },
      "source": [
        "The average humidity for humidity2 is fairly constant around 70 during the 45 minute period."
      ]
    },
    {
      "cell_type": "markdown",
      "metadata": {
        "id": "QVdP8skEWA4U"
      },
      "source": [
        "### Heater Trend"
      ]
    },
    {
      "cell_type": "code",
      "metadata": {
        "id": "uhsxl2E1S5Z0"
      },
      "source": [
        "heater = pd.DataFrame(mean_new_df[\"heater\"], columns=[\"heater\"])"
      ],
      "execution_count": 245,
      "outputs": []
    },
    {
      "cell_type": "code",
      "metadata": {
        "colab": {
          "base_uri": "https://localhost:8080/",
          "height": 202
        },
        "id": "7Qze8AdE5LvK",
        "outputId": "86d1bb33-f635-412c-e9fb-ada03f79f082"
      },
      "source": [
        "heater.head()"
      ],
      "execution_count": 246,
      "outputs": [
        {
          "output_type": "execute_result",
          "data": {
            "text/html": [
              "<div>\n",
              "<style scoped>\n",
              "    .dataframe tbody tr th:only-of-type {\n",
              "        vertical-align: middle;\n",
              "    }\n",
              "\n",
              "    .dataframe tbody tr th {\n",
              "        vertical-align: top;\n",
              "    }\n",
              "\n",
              "    .dataframe thead th {\n",
              "        text-align: right;\n",
              "    }\n",
              "</style>\n",
              "<table border=\"1\" class=\"dataframe\">\n",
              "  <thead>\n",
              "    <tr style=\"text-align: right;\">\n",
              "      <th></th>\n",
              "      <th>heater</th>\n",
              "    </tr>\n",
              "  </thead>\n",
              "  <tbody>\n",
              "    <tr>\n",
              "      <th>0</th>\n",
              "      <td>0.641026</td>\n",
              "    </tr>\n",
              "    <tr>\n",
              "      <th>1</th>\n",
              "      <td>0.475000</td>\n",
              "    </tr>\n",
              "    <tr>\n",
              "      <th>2</th>\n",
              "      <td>0.496429</td>\n",
              "    </tr>\n",
              "    <tr>\n",
              "      <th>3</th>\n",
              "      <td>0.583039</td>\n",
              "    </tr>\n",
              "    <tr>\n",
              "      <th>4</th>\n",
              "      <td>0.747331</td>\n",
              "    </tr>\n",
              "  </tbody>\n",
              "</table>\n",
              "</div>"
            ],
            "text/plain": [
              "     heater\n",
              "0  0.641026\n",
              "1  0.475000\n",
              "2  0.496429\n",
              "3  0.583039\n",
              "4  0.747331"
            ]
          },
          "metadata": {
            "tags": []
          },
          "execution_count": 246
        }
      ]
    },
    {
      "cell_type": "code",
      "metadata": {
        "id": "avbt22J8UNVd",
        "colab": {
          "base_uri": "https://localhost:8080/",
          "height": 313
        },
        "outputId": "3baddc3e-68bb-416a-8630-fb0900f09648"
      },
      "source": [
        "heater_ax = sns.regplot(x=heater.index, y=\"heater\", color=\"r\", data=heater)\n",
        "heater_ax.set_xlabel(\"Minutes\")\n",
        "heater_ax.set_ylabel(\"Average Heater on times\")\n",
        "heater_ax.set_title(\"Average Heater on times per minute\")"
      ],
      "execution_count": 247,
      "outputs": [
        {
          "output_type": "execute_result",
          "data": {
            "text/plain": [
              "Text(0.5, 1.0, 'Average Heater on times per minute')"
            ]
          },
          "metadata": {
            "tags": []
          },
          "execution_count": 247
        },
        {
          "output_type": "display_data",
          "data": {
            "image/png": "[encoded data removed]",
            "text/plain": [
              "<Figure size 432x288 with 1 Axes>"
            ]
          },
          "metadata": {
            "tags": [],
            "needs_background": "light"
          }
        }
      ]
    },
    {
      "cell_type": "markdown",
      "metadata": {
        "id": "_WIawhTi7qz0"
      },
      "source": [
        "Considering the fact that the heater is a binary value, it makes sense that the heater is on almost 50% of the time per minute. During the 45 minute period, the rate reduced from about 0.59 to 0.49."
      ]
    },
    {
      "cell_type": "markdown",
      "metadata": {
        "id": "yPTn_I2c-_Jq"
      },
      "source": [
        "### Pump Trend"
      ]
    },
    {
      "cell_type": "code",
      "metadata": {
        "colab": {
          "base_uri": "https://localhost:8080/",
          "height": 313
        },
        "id": "KvWljlYm_CJD",
        "outputId": "c80139ac-5fde-46fa-ebe7-dbf8e37459ae"
      },
      "source": [
        "pump = pd.DataFrame(mean_new_df[\"pump\"], columns=[\"pump\"])\n",
        "\n",
        "\n",
        "\n",
        "pump_ax = sns.regplot(x=pump.index, y=\"pump\", color=\"orange\", data=pump)\n",
        "pump_ax.set_xlabel(\"Minutes\")\n",
        "pump_ax.set_ylabel(\"Average Pump on times\")\n",
        "pump_ax.set_title(\"Pump Average no of on times per minute\")"
      ],
      "execution_count": 248,
      "outputs": [
        {
          "output_type": "execute_result",
          "data": {
            "text/plain": [
              "Text(0.5, 1.0, 'Pump Average no of on times per minute')"
            ]
          },
          "metadata": {
            "tags": []
          },
          "execution_count": 248
        },
        {
          "output_type": "display_data",
          "data": {
            "image/png": "[encoded data removed]",
            "text/plain": [
              "<Figure size 432x288 with 1 Axes>"
            ]
          },
          "metadata": {
            "tags": [],
            "needs_background": "light"
          }
        }
      ]
    },
    {
      "cell_type": "markdown",
      "metadata": {
        "id": "ioZorsRE4X03"
      },
      "source": [
        "### LDR Trend"
      ]
    },
    {
      "cell_type": "code",
      "metadata": {
        "colab": {
          "base_uri": "https://localhost:8080/",
          "height": 313
        },
        "id": "JAmv2df-7Dk8",
        "outputId": "95b88aa7-cfe3-4178-9b12-5a73fddf128a"
      },
      "source": [
        "ldr = pd.DataFrame(mean_new_df[\"ldr\"], columns=[\"ldr\"])\n",
        "\n",
        "\n",
        "\n",
        "ldr_ax = sns.regplot(x=ldr.index, y=\"ldr\", color=\"purple\", data=ldr)\n",
        "ldr_ax.set_xlabel(\"Minutes\")\n",
        "ldr_ax.set_ylabel(\"Average Light Intensity\")\n",
        "ldr_ax.set_title(\"LDR Average Light Intensity per minute\")"
      ],
      "execution_count": 249,
      "outputs": [
        {
          "output_type": "execute_result",
          "data": {
            "text/plain": [
              "Text(0.5, 1.0, 'LDR Average Light Intensity per minute')"
            ]
          },
          "metadata": {
            "tags": []
          },
          "execution_count": 249
        },
        {
          "output_type": "display_data",
          "data": {
            "image/png": "[encoded data removed]",
            "text/plain": [
              "<Figure size 432x288 with 1 Axes>"
            ]
          },
          "metadata": {
            "tags": [],
            "needs_background": "light"
          }
        }
      ]
    },
    {
      "cell_type": "markdown",
      "metadata": {
        "id": "ZrOfXb7atKGU"
      },
      "source": [
        "# Splitting the data"
      ]
    },
    {
      "cell_type": "code",
      "metadata": {
        "id": "KqNNFUtfsmCo"
      },
      "source": [
        "X  = new_df[['heater', 'humidity1', 'humidity2', 'pump', 'temp1', 'temp2']]\n",
        "y = new_df['ldr']"
      ],
      "execution_count": 250,
      "outputs": []
    },
    {
      "cell_type": "code",
      "metadata": {
        "colab": {
          "base_uri": "https://localhost:8080/",
          "height": 233
        },
        "id": "tXjWq3p96X8J",
        "outputId": "5322d363-0d81-4300-888a-5bc7f1d451b3"
      },
      "source": [
        "X.head()"
      ],
      "execution_count": 251,
      "outputs": [
        {
          "output_type": "execute_result",
          "data": {
            "text/html": [
              "<div>\n",
              "<style scoped>\n",
              "    .dataframe tbody tr th:only-of-type {\n",
              "        vertical-align: middle;\n",
              "    }\n",
              "\n",
              "    .dataframe tbody tr th {\n",
              "        vertical-align: top;\n",
              "    }\n",
              "\n",
              "    .dataframe thead th {\n",
              "        text-align: right;\n",
              "    }\n",
              "</style>\n",
              "<table border=\"1\" class=\"dataframe\">\n",
              "  <thead>\n",
              "    <tr style=\"text-align: right;\">\n",
              "      <th></th>\n",
              "      <th>heater</th>\n",
              "      <th>humidity1</th>\n",
              "      <th>humidity2</th>\n",
              "      <th>pump</th>\n",
              "      <th>temp1</th>\n",
              "      <th>temp2</th>\n",
              "    </tr>\n",
              "    <tr>\n",
              "      <th>TimeRead</th>\n",
              "      <th></th>\n",
              "      <th></th>\n",
              "      <th></th>\n",
              "      <th></th>\n",
              "      <th></th>\n",
              "      <th></th>\n",
              "    </tr>\n",
              "  </thead>\n",
              "  <tbody>\n",
              "    <tr>\n",
              "      <th>2020-12-06 14:18:52</th>\n",
              "      <td>1.0</td>\n",
              "      <td>33.0</td>\n",
              "      <td>74.0</td>\n",
              "      <td>0.0</td>\n",
              "      <td>33.0</td>\n",
              "      <td>21.0</td>\n",
              "    </tr>\n",
              "    <tr>\n",
              "      <th>2020-12-06 14:18:52</th>\n",
              "      <td>1.0</td>\n",
              "      <td>33.0</td>\n",
              "      <td>74.0</td>\n",
              "      <td>0.0</td>\n",
              "      <td>33.0</td>\n",
              "      <td>21.0</td>\n",
              "    </tr>\n",
              "    <tr>\n",
              "      <th>2020-12-06 14:18:52</th>\n",
              "      <td>1.0</td>\n",
              "      <td>33.0</td>\n",
              "      <td>74.0</td>\n",
              "      <td>0.0</td>\n",
              "      <td>33.0</td>\n",
              "      <td>21.0</td>\n",
              "    </tr>\n",
              "    <tr>\n",
              "      <th>2020-12-06 14:18:52</th>\n",
              "      <td>1.0</td>\n",
              "      <td>33.0</td>\n",
              "      <td>74.0</td>\n",
              "      <td>0.0</td>\n",
              "      <td>33.0</td>\n",
              "      <td>21.0</td>\n",
              "    </tr>\n",
              "    <tr>\n",
              "      <th>2020-12-06 14:18:52</th>\n",
              "      <td>1.0</td>\n",
              "      <td>33.0</td>\n",
              "      <td>74.0</td>\n",
              "      <td>0.0</td>\n",
              "      <td>33.0</td>\n",
              "      <td>21.0</td>\n",
              "    </tr>\n",
              "  </tbody>\n",
              "</table>\n",
              "</div>"
            ],
            "text/plain": [
              "                     heater  humidity1  humidity2  pump  temp1  temp2\n",
              "TimeRead                                                             \n",
              "2020-12-06 14:18:52     1.0       33.0       74.0   0.0   33.0   21.0\n",
              "2020-12-06 14:18:52     1.0       33.0       74.0   0.0   33.0   21.0\n",
              "2020-12-06 14:18:52     1.0       33.0       74.0   0.0   33.0   21.0\n",
              "2020-12-06 14:18:52     1.0       33.0       74.0   0.0   33.0   21.0\n",
              "2020-12-06 14:18:52     1.0       33.0       74.0   0.0   33.0   21.0"
            ]
          },
          "metadata": {
            "tags": []
          },
          "execution_count": 251
        }
      ]
    },
    {
      "cell_type": "code",
      "metadata": {
        "colab": {
          "base_uri": "https://localhost:8080/"
        },
        "id": "PdyjfA4H6kUu",
        "outputId": "1e78760e-c7e2-4d71-f302-91e7a059c52a"
      },
      "source": [
        "y.head()"
      ],
      "execution_count": 252,
      "outputs": [
        {
          "output_type": "execute_result",
          "data": {
            "text/plain": [
              "TimeRead\n",
              "2020-12-06 14:18:52    225.0\n",
              "2020-12-06 14:18:52    225.0\n",
              "2020-12-06 14:18:52    225.0\n",
              "2020-12-06 14:18:52    225.0\n",
              "2020-12-06 14:18:52    225.0\n",
              "Name: ldr, dtype: float64"
            ]
          },
          "metadata": {
            "tags": []
          },
          "execution_count": 252
        }
      ]
    },
    {
      "cell_type": "code",
      "metadata": {
        "id": "9aACkwVkui2N"
      },
      "source": [
        "from sklearn.model_selection import train_test_split"
      ],
      "execution_count": 253,
      "outputs": []
    },
    {
      "cell_type": "code",
      "metadata": {
        "id": "QxnpawVfulST"
      },
      "source": [
        " X_train, X_test, y_train, y_test = train_test_split(X, y, test_size=0.3, random_state=42)"
      ],
      "execution_count": 254,
      "outputs": []
    },
    {
      "cell_type": "markdown",
      "metadata": {
        "id": "mTQAcqgon98B"
      },
      "source": [
        "# Random Forest model"
      ]
    },
    {
      "cell_type": "code",
      "metadata": {
        "id": "REBrhxgDoFW7"
      },
      "source": [
        "from sklearn.ensemble import RandomForestRegressor"
      ],
      "execution_count": 255,
      "outputs": []
    },
    {
      "cell_type": "code",
      "metadata": {
        "id": "u2TZQG33vCcQ",
        "colab": {
          "base_uri": "https://localhost:8080/"
        },
        "outputId": "bc827a00-84f5-417b-b1dc-0ff876bb98a6"
      },
      "source": [
        "model = RandomForestRegressor(n_estimators=200,random_state=0)\n",
        "model.fit(X_train, y_train)"
      ],
      "execution_count": 256,
      "outputs": [
        {
          "output_type": "execute_result",
          "data": {
            "text/plain": [
              "RandomForestRegressor(bootstrap=True, ccp_alpha=0.0, criterion='mse',\n",
              "                      max_depth=None, max_features='auto', max_leaf_nodes=None,\n",
              "                      max_samples=None, min_impurity_decrease=0.0,\n",
              "                      min_impurity_split=None, min_samples_leaf=1,\n",
              "                      min_samples_split=2, min_weight_fraction_leaf=0.0,\n",
              "                      n_estimators=200, n_jobs=None, oob_score=False,\n",
              "                      random_state=0, verbose=0, warm_start=False)"
            ]
          },
          "metadata": {
            "tags": []
          },
          "execution_count": 256
        }
      ]
    },
    {
      "cell_type": "markdown",
      "metadata": {
        "id": "HHy8YK3zdpvv"
      },
      "source": [
        "# Evaluating the Model"
      ]
    },
    {
      "cell_type": "code",
      "metadata": {
        "id": "QleZpli-dt6o"
      },
      "source": [
        "from sklearn.metrics import mean_absolute_error"
      ],
      "execution_count": 257,
      "outputs": []
    },
    {
      "cell_type": "code",
      "metadata": {
        "id": "yDy93-3dvXzN",
        "colab": {
          "base_uri": "https://localhost:8080/"
        },
        "outputId": "896b7400-9a36-44d7-f07c-ff799d7de028"
      },
      "source": [
        "ldr_preds = model.predict(X_test)\n",
        "print(f\"Mean Absolute Error of Model Predictions: {mean_absolute_error(y_test, ldr_preds)}\")"
      ],
      "execution_count": 258,
      "outputs": [
        {
          "output_type": "stream",
          "text": [
            "Mean Absolute Error of Model Predictions: 222.87438867491045\n"
          ],
          "name": "stdout"
        }
      ]
    },
    {
      "cell_type": "markdown",
      "metadata": {
        "id": "U3gJUbkxz07O"
      },
      "source": [
        "# Improving the model"
      ]
    },
    {
      "cell_type": "code",
      "metadata": {
        "id": "6hp8J7MnzsMg"
      },
      "source": [
        "from sklearn.model_selection import GridSearchCV,KFold\n",
        "import numpy as np\n"
      ],
      "execution_count": 259,
      "outputs": []
    },
    {
      "cell_type": "code",
      "metadata": {
        "id": "PuZjUmB9zuFg"
      },
      "source": [
        "# Create 10 folds\n",
        "seed = 13\n",
        "kfold = KFold(n_splits=10, shuffle=True, random_state=seed)"
      ],
      "execution_count": 260,
      "outputs": []
    },
    {
      "cell_type": "markdown",
      "metadata": {
        "id": "HFrHHH750z71"
      },
      "source": [
        "Defining our candidate hyperparameters"
      ]
    },
    {
      "cell_type": "code",
      "metadata": {
        "id": "cf8-revRzvwa"
      },
      "source": [
        "# Number of trees in random forest\n",
        "# n_estimators = [int(x) for x in np.linspace(start = 200, stop = 2000, num = 10)]\n",
        "\n",
        "n_estimators = [500, 600, 700]\n",
        "\n",
        "# Number of features to consider at every split\n",
        "max_features = ['auto', 'sqrt']\n",
        "\n",
        "# Maximum number of levels in tree\n",
        "max_depth = [int(x) for x in np.linspace(10, 110, num = 11)]\n",
        "max_depth.append(None)\n",
        "\n",
        "# Minimum number of samples required to split a node\n",
        "min_samples_split = [2, 5, 10]\n",
        "\n",
        "# Minimum number of samples required at each leaf node\n",
        "min_samples_leaf = [1, 2, 4]\n",
        "\n",
        "# Method of selecting samples for training each tree\n",
        "bootstrap = [True, False]\n",
        "hp_candidates = [{'n_estimators': n_estimators,\n",
        "               'max_features': max_features},\n",
        "              #  'max_depth': max_depth,\n",
        "              #  'min_samples_split': min_samples_split,\n",
        "              #  'min_samples_leaf': min_samples_leaf,\n",
        "              #  'bootstrap': bootstrap}\n",
        "              ]"
      ],
      "execution_count": 261,
      "outputs": []
    },
    {
      "cell_type": "code",
      "metadata": {
        "id": "fNVfGk32zxlt",
        "colab": {
          "base_uri": "https://localhost:8080/"
        },
        "outputId": "74541996-cc7b-4545-d4e6-f050dcbd57b5"
      },
      "source": [
        "# Search for best hyperparameters\n",
        "grid = GridSearchCV(estimator=model, param_grid=hp_candidates, cv=kfold, scoring='r2', n_jobs=-1)\n",
        "grid.fit(X_train, y_train)"
      ],
      "execution_count": 262,
      "outputs": [
        {
          "output_type": "stream",
          "text": [
            "/usr/local/lib/python3.6/dist-packages/joblib/externals/loky/process_executor.py:691: UserWarning: A worker stopped while some jobs were given to the executor. This can be caused by a too short worker timeout or by a memory leak.\n",
            "  \"timeout or by a memory leak.\", UserWarning\n"
          ],
          "name": "stderr"
        },
        {
          "output_type": "execute_result",
          "data": {
            "text/plain": [
              "GridSearchCV(cv=KFold(n_splits=10, random_state=13, shuffle=True),\n",
              "             error_score=nan,\n",
              "             estimator=RandomForestRegressor(bootstrap=True, ccp_alpha=0.0,\n",
              "                                             criterion='mse', max_depth=None,\n",
              "                                             max_features='auto',\n",
              "                                             max_leaf_nodes=None,\n",
              "                                             max_samples=None,\n",
              "                                             min_impurity_decrease=0.0,\n",
              "                                             min_impurity_split=None,\n",
              "                                             min_samples_leaf=1,\n",
              "                                             min_samples_split=2,\n",
              "                                             min_weight_fraction_leaf=0.0,\n",
              "                                             n_estimators=200, n_jobs=None,\n",
              "                                             oob_score=False, random_state=0,\n",
              "                                             verbose=0, warm_start=False),\n",
              "             iid='deprecated', n_jobs=-1,\n",
              "             param_grid=[{'max_features': ['auto', 'sqrt'],\n",
              "                          'n_estimators': [500, 600, 700]}],\n",
              "             pre_dispatch='2*n_jobs', refit=True, return_train_score=False,\n",
              "             scoring='r2', verbose=0)"
            ]
          },
          "metadata": {
            "tags": []
          },
          "execution_count": 262
        }
      ]
    },
    {
      "cell_type": "code",
      "metadata": {
        "id": "7fPpa30EzrBe",
        "colab": {
          "base_uri": "https://localhost:8080/"
        },
        "outputId": "d84c8fbc-4024-4cb7-ffe1-1d9d262cc9ec"
      },
      "source": [
        "# Get the results\n",
        "print(grid.best_score_)\n",
        "print(grid.best_estimator_)\n",
        "print(grid.best_params_)"
      ],
      "execution_count": 263,
      "outputs": [
        {
          "output_type": "stream",
          "text": [
            "0.23946735907044006\n",
            "RandomForestRegressor(bootstrap=True, ccp_alpha=0.0, criterion='mse',\n",
            "                      max_depth=None, max_features='sqrt', max_leaf_nodes=None,\n",
            "                      max_samples=None, min_impurity_decrease=0.0,\n",
            "                      min_impurity_split=None, min_samples_leaf=1,\n",
            "                      min_samples_split=2, min_weight_fraction_leaf=0.0,\n",
            "                      n_estimators=700, n_jobs=None, oob_score=False,\n",
            "                      random_state=0, verbose=0, warm_start=False)\n",
            "{'max_features': 'sqrt', 'n_estimators': 700}\n"
          ],
          "name": "stdout"
        }
      ]
    },
    {
      "cell_type": "code",
      "metadata": {
        "id": "OhcR--vfwDzm"
      },
      "source": [
        "mean_abs_errors = []\n",
        "for i in range(500, 2000, 50):\n",
        "  model = RandomForestRegressor(n_estimators=i, random_state=0, max_features='sqrt')\n",
        "  model.fit(X_train, y_train)\n",
        "  mae = mean_absolute_error(y_train, model.predict(X_train))\n",
        "  mean_abs_errors.append(mae)"
      ],
      "execution_count": 264,
      "outputs": []
    },
    {
      "cell_type": "code",
      "metadata": {
        "colab": {
          "base_uri": "https://localhost:8080/",
          "height": 283
        },
        "id": "Z3sHDZi3ymau",
        "outputId": "515abff9-9a07-4c6d-ac7e-cf3eec311bf4"
      },
      "source": [
        "import matplotlib.pyplot as plt\n",
        "\n",
        "plt.plot(list(range(500, 2000, 50)), mean_abs_errors)"
      ],
      "execution_count": 265,
      "outputs": [
        {
          "output_type": "execute_result",
          "data": {
            "text/plain": [
              "[<matplotlib.lines.Line2D at 0x7fc8a82c35f8>]"
            ]
          },
          "metadata": {
            "tags": []
          },
          "execution_count": 265
        },
        {
          "output_type": "display_data",
          "data": {
            "image/png": "[encoded data removed]",
            "text/plain": [
              "<Figure size 432x288 with 1 Axes>"
            ]
          },
          "metadata": {
            "tags": [],
            "needs_background": "light"
          }
        }
      ]
    },
    {
      "cell_type": "markdown",
      "metadata": {
        "id": "Uw5QkI_30-Aw"
      },
      "source": [
        "The best model has n_estimators = 800 with max_features as 'sqrt'"
      ]
    },
    {
      "cell_type": "code",
      "metadata": {
        "colab": {
          "base_uri": "https://localhost:8080/"
        },
        "id": "OHbj-yh61Dsu",
        "outputId": "6f8cd00c-0afd-453e-bebe-bc89e76f16af"
      },
      "source": [
        "  model = RandomForestRegressor(n_estimators=800, random_state=0, max_features='sqrt')\n",
        "  model.fit(X_train, y_train)\n",
        "  mae = mean_absolute_error(y_train, model.predict(X_train))\n",
        "  print(f\"Mean Absolute Error of Model Predictions(Training Data): {mae}\")"
      ],
      "execution_count": 266,
      "outputs": [
        {
          "output_type": "stream",
          "text": [
            "Mean Absolute Error of Model Predictions(Training Data): 91.04674107532115\n"
          ],
          "name": "stdout"
        }
      ]
    },
    {
      "cell_type": "code",
      "metadata": {
        "colab": {
          "base_uri": "https://localhost:8080/"
        },
        "id": "yyTWwSz1F_00",
        "outputId": "62f6fee2-22e1-434f-ab47-097497307de6"
      },
      "source": [
        "  y_pred = model.predict(X_test)\n",
        "  mae = mean_absolute_error(y_test, y_pred)\n",
        "  print(f\"Mean Absolute Error of Model Predictions(Testing Data): {mae}\")"
      ],
      "execution_count": 267,
      "outputs": [
        {
          "output_type": "stream",
          "text": [
            "Mean Absolute Error of Model Predictions(Testing Data): 224.2288617294786\n"
          ],
          "name": "stdout"
        }
      ]
    },
    {
      "cell_type": "code",
      "metadata": {
        "id": "zYqKRVgR_n3B"
      },
      "source": [
        "mean_abs_errors = []\n",
        "for i in range(500, 2000, 50):\n",
        "  model = RandomForestRegressor(n_estimators=i, random_state=0, max_features='auto')\n",
        "  model.fit(X_train, y_train)\n",
        "  mae = mean_absolute_error(y_train, model.predict(X_train))\n",
        "  mean_abs_errors.append(mae)"
      ],
      "execution_count": 268,
      "outputs": []
    },
    {
      "cell_type": "code",
      "metadata": {
        "colab": {
          "base_uri": "https://localhost:8080/",
          "height": 283
        },
        "id": "YA6mVyWv_tUG",
        "outputId": "67d79e13-2bca-4cd9-b3dd-d4ffe653bef7"
      },
      "source": [
        "plt.plot(list(range(500, 2000, 50)), mean_abs_errors)"
      ],
      "execution_count": 269,
      "outputs": [
        {
          "output_type": "execute_result",
          "data": {
            "text/plain": [
              "[<matplotlib.lines.Line2D at 0x7fc8a7eb6c50>]"
            ]
          },
          "metadata": {
            "tags": []
          },
          "execution_count": 269
        },
        {
          "output_type": "display_data",
          "data": {
            "image/png": "[encoded data removed]",
            "text/plain": [
              "<Figure size 432x288 with 1 Axes>"
            ]
          },
          "metadata": {
            "tags": [],
            "needs_background": "light"
          }
        }
      ]
    },
    {
      "cell_type": "code",
      "metadata": {
        "colab": {
          "base_uri": "https://localhost:8080/"
        },
        "id": "3qZfMH2mCjWA",
        "outputId": "8a5f5833-adb6-4bde-9e8a-93f310f9aa20"
      },
      "source": [
        "  model = RandomForestRegressor(n_estimators=1800, random_state=0, max_features='auto')\n",
        "  model.fit(X_train, y_train)\n",
        "  mae = mean_absolute_error(y_train, model.predict(X_train))\n",
        "  print(f\"Mean Absolute Error of Model Predictions(Training Data): {mae}\")"
      ],
      "execution_count": 270,
      "outputs": [
        {
          "output_type": "stream",
          "text": [
            "Mean Absolute Error of Model Predictions(Training Data): 90.39945281522209\n"
          ],
          "name": "stdout"
        }
      ]
    },
    {
      "cell_type": "code",
      "metadata": {
        "colab": {
          "base_uri": "https://localhost:8080/"
        },
        "id": "_GCFuOC1CwlV",
        "outputId": "ef471336-e1bf-4610-f6f2-d47e73faeba3"
      },
      "source": [
        "  y_pred = model.predict(X_test)\n",
        "  mae = mean_absolute_error(y_test, y_pred)\n",
        "  print(f\"Mean Absolute Error of Model Predictions(Testing Data): {mae}\")"
      ],
      "execution_count": 271,
      "outputs": [
        {
          "output_type": "stream",
          "text": [
            "Mean Absolute Error of Model Predictions(Testing Data): 222.51781495580596\n"
          ],
          "name": "stdout"
        }
      ]
    },
    {
      "cell_type": "markdown",
      "metadata": {
        "id": "mvD5Txi2C0CC"
      },
      "source": [
        "This model is better than the previous one since it has a lower MAE for both training and testing data"
      ]
    },
    {
      "cell_type": "code",
      "metadata": {
        "colab": {
          "base_uri": "https://localhost:8080/",
          "height": 415
        },
        "id": "_LHKrFXqGUFC",
        "outputId": "997f398b-e624-4c1c-f056-bda863d5afa1"
      },
      "source": [
        "predictions = pd.DataFrame(zip(y_test, y_pred), columns=[\"LDR Actual Value\", \"LDR Predicted Value\"])\n",
        "predictions"
      ],
      "execution_count": 272,
      "outputs": [
        {
          "output_type": "execute_result",
          "data": {
            "text/html": [
              "<div>\n",
              "<style scoped>\n",
              "    .dataframe tbody tr th:only-of-type {\n",
              "        vertical-align: middle;\n",
              "    }\n",
              "\n",
              "    .dataframe tbody tr th {\n",
              "        vertical-align: top;\n",
              "    }\n",
              "\n",
              "    .dataframe thead th {\n",
              "        text-align: right;\n",
              "    }\n",
              "</style>\n",
              "<table border=\"1\" class=\"dataframe\">\n",
              "  <thead>\n",
              "    <tr style=\"text-align: right;\">\n",
              "      <th></th>\n",
              "      <th>LDR Actual Value</th>\n",
              "      <th>LDR Predicted Value</th>\n",
              "    </tr>\n",
              "  </thead>\n",
              "  <tbody>\n",
              "    <tr>\n",
              "      <th>0</th>\n",
              "      <td>994.0</td>\n",
              "      <td>646.284389</td>\n",
              "    </tr>\n",
              "    <tr>\n",
              "      <th>1</th>\n",
              "      <td>674.0</td>\n",
              "      <td>715.060084</td>\n",
              "    </tr>\n",
              "    <tr>\n",
              "      <th>2</th>\n",
              "      <td>304.0</td>\n",
              "      <td>767.325417</td>\n",
              "    </tr>\n",
              "    <tr>\n",
              "      <th>3</th>\n",
              "      <td>926.0</td>\n",
              "      <td>840.228889</td>\n",
              "    </tr>\n",
              "    <tr>\n",
              "      <th>4</th>\n",
              "      <td>762.0</td>\n",
              "      <td>267.948333</td>\n",
              "    </tr>\n",
              "    <tr>\n",
              "      <th>...</th>\n",
              "      <td>...</td>\n",
              "      <td>...</td>\n",
              "    </tr>\n",
              "    <tr>\n",
              "      <th>3802</th>\n",
              "      <td>962.0</td>\n",
              "      <td>821.009516</td>\n",
              "    </tr>\n",
              "    <tr>\n",
              "      <th>3803</th>\n",
              "      <td>617.0</td>\n",
              "      <td>590.949563</td>\n",
              "    </tr>\n",
              "    <tr>\n",
              "      <th>3804</th>\n",
              "      <td>634.0</td>\n",
              "      <td>367.850392</td>\n",
              "    </tr>\n",
              "    <tr>\n",
              "      <th>3805</th>\n",
              "      <td>665.0</td>\n",
              "      <td>790.095667</td>\n",
              "    </tr>\n",
              "    <tr>\n",
              "      <th>3806</th>\n",
              "      <td>890.0</td>\n",
              "      <td>684.651991</td>\n",
              "    </tr>\n",
              "  </tbody>\n",
              "</table>\n",
              "<p>3807 rows × 2 columns</p>\n",
              "</div>"
            ],
            "text/plain": [
              "      LDR Actual Value  LDR Predicted Value\n",
              "0                994.0           646.284389\n",
              "1                674.0           715.060084\n",
              "2                304.0           767.325417\n",
              "3                926.0           840.228889\n",
              "4                762.0           267.948333\n",
              "...                ...                  ...\n",
              "3802             962.0           821.009516\n",
              "3803             617.0           590.949563\n",
              "3804             634.0           367.850392\n",
              "3805             665.0           790.095667\n",
              "3806             890.0           684.651991\n",
              "\n",
              "[3807 rows x 2 columns]"
            ]
          },
          "metadata": {
            "tags": []
          },
          "execution_count": 272
        }
      ]
    },
    {
      "cell_type": "markdown",
      "metadata": {
        "id": "dQMiEBWkz--T"
      },
      "source": [
        "# LDR value Prediction \n",
        "\n",
        "- temp1=40\n",
        "- temp2=20\n",
        "- heater is off\n",
        "- humidity1=60\n",
        "- humidity2=90\n",
        "- pump =on"
      ]
    },
    {
      "cell_type": "code",
      "metadata": {
        "colab": {
          "base_uri": "https://localhost:8080/"
        },
        "id": "RJBi0MIV3H8k",
        "outputId": "706c742b-06c5-4d20-c7fc-5e9662a0492f"
      },
      "source": [
        "X_test.shape"
      ],
      "execution_count": 273,
      "outputs": [
        {
          "output_type": "execute_result",
          "data": {
            "text/plain": [
              "(3807, 6)"
            ]
          },
          "metadata": {
            "tags": []
          },
          "execution_count": 273
        }
      ]
    },
    {
      "cell_type": "code",
      "metadata": {
        "colab": {
          "base_uri": "https://localhost:8080/"
        },
        "id": "JJoYPkRy3NSt",
        "outputId": "e3ed77f4-cca5-437c-c0c0-45e3d747c6af"
      },
      "source": [
        "X_test.columns"
      ],
      "execution_count": 274,
      "outputs": [
        {
          "output_type": "execute_result",
          "data": {
            "text/plain": [
              "Index(['heater', 'humidity1', 'humidity2', 'pump', 'temp1', 'temp2'], dtype='object')"
            ]
          },
          "metadata": {
            "tags": []
          },
          "execution_count": 274
        }
      ]
    },
    {
      "cell_type": "code",
      "metadata": {
        "colab": {
          "base_uri": "https://localhost:8080/",
          "height": 79
        },
        "id": "kZAslOj_1U-A",
        "outputId": "df6f4d50-ef3a-4127-ca9c-caeb20b9708a"
      },
      "source": [
        "\n",
        "x_test = pd.DataFrame( [[0, 60, 90, 1, 40, 20]],columns=['heater', 'humidity1', 'humidity2', 'pump', 'temp1', 'temp2'])\n",
        "x_test"
      ],
      "execution_count": 275,
      "outputs": [
        {
          "output_type": "execute_result",
          "data": {
            "text/html": [
              "<div>\n",
              "<style scoped>\n",
              "    .dataframe tbody tr th:only-of-type {\n",
              "        vertical-align: middle;\n",
              "    }\n",
              "\n",
              "    .dataframe tbody tr th {\n",
              "        vertical-align: top;\n",
              "    }\n",
              "\n",
              "    .dataframe thead th {\n",
              "        text-align: right;\n",
              "    }\n",
              "</style>\n",
              "<table border=\"1\" class=\"dataframe\">\n",
              "  <thead>\n",
              "    <tr style=\"text-align: right;\">\n",
              "      <th></th>\n",
              "      <th>heater</th>\n",
              "      <th>humidity1</th>\n",
              "      <th>humidity2</th>\n",
              "      <th>pump</th>\n",
              "      <th>temp1</th>\n",
              "      <th>temp2</th>\n",
              "    </tr>\n",
              "  </thead>\n",
              "  <tbody>\n",
              "    <tr>\n",
              "      <th>0</th>\n",
              "      <td>0</td>\n",
              "      <td>60</td>\n",
              "      <td>90</td>\n",
              "      <td>1</td>\n",
              "      <td>40</td>\n",
              "      <td>20</td>\n",
              "    </tr>\n",
              "  </tbody>\n",
              "</table>\n",
              "</div>"
            ],
            "text/plain": [
              "   heater  humidity1  humidity2  pump  temp1  temp2\n",
              "0       0         60         90     1     40     20"
            ]
          },
          "metadata": {
            "tags": []
          },
          "execution_count": 275
        }
      ]
    },
    {
      "cell_type": "code",
      "metadata": {
        "colab": {
          "base_uri": "https://localhost:8080/",
          "height": 79
        },
        "id": "3ETNdQ4g4YyO",
        "outputId": "4f06c0df-66e6-4fe9-ce3c-cb556cb7ad79"
      },
      "source": [
        "x_test[\"Predicted LDR value\"] = model.predict(x_test)\n",
        "x_test"
      ],
      "execution_count": 276,
      "outputs": [
        {
          "output_type": "execute_result",
          "data": {
            "text/html": [
              "<div>\n",
              "<style scoped>\n",
              "    .dataframe tbody tr th:only-of-type {\n",
              "        vertical-align: middle;\n",
              "    }\n",
              "\n",
              "    .dataframe tbody tr th {\n",
              "        vertical-align: top;\n",
              "    }\n",
              "\n",
              "    .dataframe thead th {\n",
              "        text-align: right;\n",
              "    }\n",
              "</style>\n",
              "<table border=\"1\" class=\"dataframe\">\n",
              "  <thead>\n",
              "    <tr style=\"text-align: right;\">\n",
              "      <th></th>\n",
              "      <th>heater</th>\n",
              "      <th>humidity1</th>\n",
              "      <th>humidity2</th>\n",
              "      <th>pump</th>\n",
              "      <th>temp1</th>\n",
              "      <th>temp2</th>\n",
              "      <th>Predicted LDR value</th>\n",
              "    </tr>\n",
              "  </thead>\n",
              "  <tbody>\n",
              "    <tr>\n",
              "      <th>0</th>\n",
              "      <td>0</td>\n",
              "      <td>60</td>\n",
              "      <td>90</td>\n",
              "      <td>1</td>\n",
              "      <td>40</td>\n",
              "      <td>20</td>\n",
              "      <td>431.706493</td>\n",
              "    </tr>\n",
              "  </tbody>\n",
              "</table>\n",
              "</div>"
            ],
            "text/plain": [
              "   heater  humidity1  humidity2  pump  temp1  temp2  Predicted LDR value\n",
              "0       0         60         90     1     40     20           431.706493"
            ]
          },
          "metadata": {
            "tags": []
          },
          "execution_count": 276
        }
      ]
    },
    {
      "cell_type": "markdown",
      "metadata": {
        "id": "wPQG39a69sOh"
      },
      "source": [
        "The predicted LDR value when the heater is off, pump is on, humidity1 is 60, humidity2 is 90, temp1 is 40 and temp2 is 20 is 431.7 [+/- 222]"
      ]
    }
  ]
}