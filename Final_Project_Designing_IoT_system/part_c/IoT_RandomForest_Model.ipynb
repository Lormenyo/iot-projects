{
  "nbformat": 4,
  "nbformat_minor": 0,
  "metadata": {
    "colab": {
      "name": "IoT_RandomForest_Model",
      "provenance": [],
      "collapsed_sections": []
    },
    "kernelspec": {
      "name": "python3",
      "display_name": "Python 3"
    },
    "accelerator": "GPU"
  },
  "cells": [
    {
      "cell_type": "markdown",
      "metadata": {
        "id": "6F2OLuNMnMFz"
      },
      "source": [
        "# Hydroponics Farm Sensor Data\n",
        "\n",
        "The objective is to determine what LDR values should be, given all the other conditions. Using pandas, create a RandomForest model of the data using some of the rows of the data. Validate the data using a subset of your data. Evaluate your Mean Average Error (MAE). Predict what LDR should be expected given X values of \\[temp1=40, temp2=20, heater is off, humidity1=60, humidity2=90, and pump =on]."
      ]
    },
    {
      "cell_type": "markdown",
      "metadata": {
        "id": "JOKHEKQ1mFil"
      },
      "source": [
        "# Importing the necessary libraries"
      ]
    },
    {
      "cell_type": "code",
      "metadata": {
        "id": "Mc95RGs1mJoq"
      },
      "source": [
        "import pandas as pd\n",
        "import seaborn as sns"
      ],
      "execution_count": 137,
      "outputs": []
    },
    {
      "cell_type": "markdown",
      "metadata": {
        "id": "8dgsZz27mBj3"
      },
      "source": [
        "# Loading the data"
      ]
    },
    {
      "cell_type": "code",
      "metadata": {
        "id": "wU3JkMjJMNff"
      },
      "source": [
        "df = pd.read_csv(\"https://raw.githubusercontent.com/Lormenyo/iot-projects/master/Final_Project_Designing_IoT_system/part_c/subscriber.csv\")"
      ],
      "execution_count": 138,
      "outputs": []
    },
    {
      "cell_type": "code",
      "metadata": {
        "id": "J7cmi2bZmjTr",
        "colab": {
          "base_uri": "https://localhost:8080/",
          "height": 202
        },
        "outputId": "a4ebb65e-3630-4043-c939-ac41f5378322"
      },
      "source": [
        "df.head()"
      ],
      "execution_count": 139,
      "outputs": [
        {
          "output_type": "execute_result",
          "data": {
            "text/html": [
              "<div>\n",
              "<style scoped>\n",
              "    .dataframe tbody tr th:only-of-type {\n",
              "        vertical-align: middle;\n",
              "    }\n",
              "\n",
              "    .dataframe tbody tr th {\n",
              "        vertical-align: top;\n",
              "    }\n",
              "\n",
              "    .dataframe thead th {\n",
              "        text-align: right;\n",
              "    }\n",
              "</style>\n",
              "<table border=\"1\" class=\"dataframe\">\n",
              "  <thead>\n",
              "    <tr style=\"text-align: right;\">\n",
              "      <th></th>\n",
              "      <th>DataID</th>\n",
              "      <th>DeviceName</th>\n",
              "      <th>DeviceType</th>\n",
              "      <th>CurrentReading</th>\n",
              "      <th>DateRead</th>\n",
              "    </tr>\n",
              "  </thead>\n",
              "  <tbody>\n",
              "    <tr>\n",
              "      <th>0</th>\n",
              "      <td>1</td>\n",
              "      <td>humidity2</td>\n",
              "      <td>Humidity Sensor</td>\n",
              "      <td>78</td>\n",
              "      <td>2020-12-04 15:28:50</td>\n",
              "    </tr>\n",
              "    <tr>\n",
              "      <th>1</th>\n",
              "      <td>2</td>\n",
              "      <td>heater</td>\n",
              "      <td>Heater Actuator</td>\n",
              "      <td>0</td>\n",
              "      <td>2020-12-04 15:28:50</td>\n",
              "    </tr>\n",
              "    <tr>\n",
              "      <th>2</th>\n",
              "      <td>3</td>\n",
              "      <td>temp2</td>\n",
              "      <td>Temperature Sensor</td>\n",
              "      <td>28</td>\n",
              "      <td>2020-12-04 15:28:50</td>\n",
              "    </tr>\n",
              "    <tr>\n",
              "      <th>3</th>\n",
              "      <td>4</td>\n",
              "      <td>ldr</td>\n",
              "      <td>Light Intensity Sensor</td>\n",
              "      <td>283</td>\n",
              "      <td>2020-12-04 15:28:50</td>\n",
              "    </tr>\n",
              "    <tr>\n",
              "      <th>4</th>\n",
              "      <td>5</td>\n",
              "      <td>pump</td>\n",
              "      <td>Pump Actuator</td>\n",
              "      <td>1</td>\n",
              "      <td>2020-12-04 15:28:50</td>\n",
              "    </tr>\n",
              "  </tbody>\n",
              "</table>\n",
              "</div>"
            ],
            "text/plain": [
              "   DataID DeviceName  ... CurrentReading             DateRead\n",
              "0       1  humidity2  ...             78  2020-12-04 15:28:50\n",
              "1       2     heater  ...              0  2020-12-04 15:28:50\n",
              "2       3      temp2  ...             28  2020-12-04 15:28:50\n",
              "3       4        ldr  ...            283  2020-12-04 15:28:50\n",
              "4       5       pump  ...              1  2020-12-04 15:28:50\n",
              "\n",
              "[5 rows x 5 columns]"
            ]
          },
          "metadata": {
            "tags": []
          },
          "execution_count": 139
        }
      ]
    },
    {
      "cell_type": "code",
      "metadata": {
        "id": "kRRjVgPm1PTV"
      },
      "source": [
        "df['DateRead']= pd.to_datetime(df['DateRead']) "
      ],
      "execution_count": 140,
      "outputs": []
    },
    {
      "cell_type": "markdown",
      "metadata": {
        "id": "wF0WFkDAHg-f"
      },
      "source": [
        "# Exploring the Data"
      ]
    },
    {
      "cell_type": "code",
      "metadata": {
        "colab": {
          "base_uri": "https://localhost:8080/",
          "height": 294
        },
        "id": "DxyL5EXkHmb1",
        "outputId": "ef98f61b-ff27-414b-854a-9e0acc448358"
      },
      "source": [
        "df.describe()"
      ],
      "execution_count": 141,
      "outputs": [
        {
          "output_type": "execute_result",
          "data": {
            "text/html": [
              "<div>\n",
              "<style scoped>\n",
              "    .dataframe tbody tr th:only-of-type {\n",
              "        vertical-align: middle;\n",
              "    }\n",
              "\n",
              "    .dataframe tbody tr th {\n",
              "        vertical-align: top;\n",
              "    }\n",
              "\n",
              "    .dataframe thead th {\n",
              "        text-align: right;\n",
              "    }\n",
              "</style>\n",
              "<table border=\"1\" class=\"dataframe\">\n",
              "  <thead>\n",
              "    <tr style=\"text-align: right;\">\n",
              "      <th></th>\n",
              "      <th>DataID</th>\n",
              "      <th>CurrentReading</th>\n",
              "    </tr>\n",
              "  </thead>\n",
              "  <tbody>\n",
              "    <tr>\n",
              "      <th>count</th>\n",
              "      <td>12564.000000</td>\n",
              "      <td>12564.000000</td>\n",
              "    </tr>\n",
              "    <tr>\n",
              "      <th>mean</th>\n",
              "      <td>6282.500000</td>\n",
              "      <td>71.822190</td>\n",
              "    </tr>\n",
              "    <tr>\n",
              "      <th>std</th>\n",
              "      <td>3627.058726</td>\n",
              "      <td>152.596608</td>\n",
              "    </tr>\n",
              "    <tr>\n",
              "      <th>min</th>\n",
              "      <td>1.000000</td>\n",
              "      <td>0.000000</td>\n",
              "    </tr>\n",
              "    <tr>\n",
              "      <th>25%</th>\n",
              "      <td>3141.750000</td>\n",
              "      <td>24.000000</td>\n",
              "    </tr>\n",
              "    <tr>\n",
              "      <th>50%</th>\n",
              "      <td>6282.500000</td>\n",
              "      <td>34.000000</td>\n",
              "    </tr>\n",
              "    <tr>\n",
              "      <th>75%</th>\n",
              "      <td>9423.250000</td>\n",
              "      <td>55.000000</td>\n",
              "    </tr>\n",
              "    <tr>\n",
              "      <th>max</th>\n",
              "      <td>12564.000000</td>\n",
              "      <td>999.000000</td>\n",
              "    </tr>\n",
              "  </tbody>\n",
              "</table>\n",
              "</div>"
            ],
            "text/plain": [
              "             DataID  CurrentReading\n",
              "count  12564.000000    12564.000000\n",
              "mean    6282.500000       71.822190\n",
              "std     3627.058726      152.596608\n",
              "min        1.000000        0.000000\n",
              "25%     3141.750000       24.000000\n",
              "50%     6282.500000       34.000000\n",
              "75%     9423.250000       55.000000\n",
              "max    12564.000000      999.000000"
            ]
          },
          "metadata": {
            "tags": []
          },
          "execution_count": 141
        }
      ]
    },
    {
      "cell_type": "markdown",
      "metadata": {
        "id": "ZOMIQtIJqYGg"
      },
      "source": [
        "# Data Visualizations"
      ]
    },
    {
      "cell_type": "code",
      "metadata": {
        "id": "UV1id4qlXF2u",
        "colab": {
          "base_uri": "https://localhost:8080/",
          "height": 233
        },
        "outputId": "d28b777b-c56b-4567-85a7-22a8aa7896d9"
      },
      "source": [
        "new_df = df.copy()\n",
        "\n",
        "new_df.drop(\"DataID\", inplace=True, axis=1)\n",
        "new_df.set_index(\"DateRead\", inplace=True)\n",
        "\n",
        "mean_new_df = new_df.groupby([new_df.index.hour, new_df.index.minute, new_df[\"DeviceName\"]]).mean()\n",
        "mean_new_df.rename_axis(index=['hours', 'minutes', 'DeviceName'], inplace=True)\n",
        "mean_new_df.head()"
      ],
      "execution_count": 142,
      "outputs": [
        {
          "output_type": "execute_result",
          "data": {
            "text/html": [
              "<div>\n",
              "<style scoped>\n",
              "    .dataframe tbody tr th:only-of-type {\n",
              "        vertical-align: middle;\n",
              "    }\n",
              "\n",
              "    .dataframe tbody tr th {\n",
              "        vertical-align: top;\n",
              "    }\n",
              "\n",
              "    .dataframe thead th {\n",
              "        text-align: right;\n",
              "    }\n",
              "</style>\n",
              "<table border=\"1\" class=\"dataframe\">\n",
              "  <thead>\n",
              "    <tr style=\"text-align: right;\">\n",
              "      <th></th>\n",
              "      <th></th>\n",
              "      <th></th>\n",
              "      <th>CurrentReading</th>\n",
              "    </tr>\n",
              "    <tr>\n",
              "      <th>hours</th>\n",
              "      <th>minutes</th>\n",
              "      <th>DeviceName</th>\n",
              "      <th></th>\n",
              "    </tr>\n",
              "  </thead>\n",
              "  <tbody>\n",
              "    <tr>\n",
              "      <th rowspan=\"5\" valign=\"top\">15</th>\n",
              "      <th rowspan=\"5\" valign=\"top\">28</th>\n",
              "      <th>heater</th>\n",
              "      <td>0.500000</td>\n",
              "    </tr>\n",
              "    <tr>\n",
              "      <th>humidity1</th>\n",
              "      <td>28.333333</td>\n",
              "    </tr>\n",
              "    <tr>\n",
              "      <th>humidity2</th>\n",
              "      <td>58.333333</td>\n",
              "    </tr>\n",
              "    <tr>\n",
              "      <th>ldr</th>\n",
              "      <td>477.000000</td>\n",
              "    </tr>\n",
              "    <tr>\n",
              "      <th>pump</th>\n",
              "      <td>0.500000</td>\n",
              "    </tr>\n",
              "  </tbody>\n",
              "</table>\n",
              "</div>"
            ],
            "text/plain": [
              "                          CurrentReading\n",
              "hours minutes DeviceName                \n",
              "15    28      heater            0.500000\n",
              "              humidity1        28.333333\n",
              "              humidity2        58.333333\n",
              "              ldr             477.000000\n",
              "              pump              0.500000"
            ]
          },
          "metadata": {
            "tags": []
          },
          "execution_count": 142
        }
      ]
    },
    {
      "cell_type": "code",
      "metadata": {
        "id": "oMdCyZkReXNg",
        "colab": {
          "base_uri": "https://localhost:8080/",
          "height": 202
        },
        "outputId": "57d7c373-3113-4b78-b310-8088dd187425"
      },
      "source": [
        "mean_new_df.reset_index(inplace=True)\n",
        "mean_new_df.head()"
      ],
      "execution_count": 143,
      "outputs": [
        {
          "output_type": "execute_result",
          "data": {
            "text/html": [
              "<div>\n",
              "<style scoped>\n",
              "    .dataframe tbody tr th:only-of-type {\n",
              "        vertical-align: middle;\n",
              "    }\n",
              "\n",
              "    .dataframe tbody tr th {\n",
              "        vertical-align: top;\n",
              "    }\n",
              "\n",
              "    .dataframe thead th {\n",
              "        text-align: right;\n",
              "    }\n",
              "</style>\n",
              "<table border=\"1\" class=\"dataframe\">\n",
              "  <thead>\n",
              "    <tr style=\"text-align: right;\">\n",
              "      <th></th>\n",
              "      <th>hours</th>\n",
              "      <th>minutes</th>\n",
              "      <th>DeviceName</th>\n",
              "      <th>CurrentReading</th>\n",
              "    </tr>\n",
              "  </thead>\n",
              "  <tbody>\n",
              "    <tr>\n",
              "      <th>0</th>\n",
              "      <td>15</td>\n",
              "      <td>28</td>\n",
              "      <td>heater</td>\n",
              "      <td>0.500000</td>\n",
              "    </tr>\n",
              "    <tr>\n",
              "      <th>1</th>\n",
              "      <td>15</td>\n",
              "      <td>28</td>\n",
              "      <td>humidity1</td>\n",
              "      <td>28.333333</td>\n",
              "    </tr>\n",
              "    <tr>\n",
              "      <th>2</th>\n",
              "      <td>15</td>\n",
              "      <td>28</td>\n",
              "      <td>humidity2</td>\n",
              "      <td>58.333333</td>\n",
              "    </tr>\n",
              "    <tr>\n",
              "      <th>3</th>\n",
              "      <td>15</td>\n",
              "      <td>28</td>\n",
              "      <td>ldr</td>\n",
              "      <td>477.000000</td>\n",
              "    </tr>\n",
              "    <tr>\n",
              "      <th>4</th>\n",
              "      <td>15</td>\n",
              "      <td>28</td>\n",
              "      <td>pump</td>\n",
              "      <td>0.500000</td>\n",
              "    </tr>\n",
              "  </tbody>\n",
              "</table>\n",
              "</div>"
            ],
            "text/plain": [
              "   hours  minutes DeviceName  CurrentReading\n",
              "0     15       28     heater        0.500000\n",
              "1     15       28  humidity1       28.333333\n",
              "2     15       28  humidity2       58.333333\n",
              "3     15       28        ldr      477.000000\n",
              "4     15       28       pump        0.500000"
            ]
          },
          "metadata": {
            "tags": []
          },
          "execution_count": 143
        }
      ]
    },
    {
      "cell_type": "code",
      "metadata": {
        "colab": {
          "base_uri": "https://localhost:8080/",
          "height": 299
        },
        "id": "Fcto014UH-wx",
        "outputId": "aeebaada-efa9-4e3f-9284-bf4e77743360"
      },
      "source": [
        "sns.barplot(x=\"minutes\", hue=\"DeviceName\", y=\"CurrentReading\", data=mean_new_df[:70])"
      ],
      "execution_count": 144,
      "outputs": [
        {
          "output_type": "execute_result",
          "data": {
            "text/plain": [
              "<matplotlib.axes._subplots.AxesSubplot at 0x7ffa9c80ce48>"
            ]
          },
          "metadata": {
            "tags": []
          },
          "execution_count": 144
        },
        {
          "output_type": "display_data",
          "data": {
            "image/png": "[encoded data removed]",
            "text/plain": [
              "<Figure size 432x288 with 1 Axes>"
            ]
          },
          "metadata": {
            "tags": [],
            "needs_background": "light"
          }
        }
      ]
    },
    {
      "cell_type": "code",
      "metadata": {
        "colab": {
          "base_uri": "https://localhost:8080/",
          "height": 297
        },
        "id": "QM19PhVoI3Qk",
        "outputId": "7d6fe1a2-4b86-4cc6-d417-b10e26129895"
      },
      "source": [
        "sns.barplot(x=\"minutes\", hue=\"DeviceName\", y=\"CurrentReading\", data=mean_new_df[70:140])"
      ],
      "execution_count": 145,
      "outputs": [
        {
          "output_type": "execute_result",
          "data": {
            "text/plain": [
              "<matplotlib.axes._subplots.AxesSubplot at 0x7ffa9c5e75f8>"
            ]
          },
          "metadata": {
            "tags": []
          },
          "execution_count": 145
        },
        {
          "output_type": "display_data",
          "data": {
            "image/png": "[encoded data removed]",
            "text/plain": [
              "<Figure size 432x288 with 1 Axes>"
            ]
          },
          "metadata": {
            "tags": [],
            "needs_background": "light"
          }
        }
      ]
    },
    {
      "cell_type": "code",
      "metadata": {
        "colab": {
          "base_uri": "https://localhost:8080/",
          "height": 297
        },
        "id": "hJEZT5D6JGo2",
        "outputId": "c886e992-0cab-45b7-8058-4f09b91fba7c"
      },
      "source": [
        "sns.barplot(x=\"minutes\", hue=\"DeviceName\", y=\"CurrentReading\", data=mean_new_df[140:210])"
      ],
      "execution_count": 146,
      "outputs": [
        {
          "output_type": "execute_result",
          "data": {
            "text/plain": [
              "<matplotlib.axes._subplots.AxesSubplot at 0x7ffa9c6248d0>"
            ]
          },
          "metadata": {
            "tags": []
          },
          "execution_count": 146
        },
        {
          "output_type": "display_data",
          "data": {
            "image/png": "[encoded data removed]",
            "text/plain": [
              "<Figure size 432x288 with 1 Axes>"
            ]
          },
          "metadata": {
            "tags": [],
            "needs_background": "light"
          }
        }
      ]
    },
    {
      "cell_type": "code",
      "metadata": {
        "colab": {
          "base_uri": "https://localhost:8080/",
          "height": 297
        },
        "id": "qcdhv4bZKCQd",
        "outputId": "f05a8714-ad7e-40ac-a008-348cdb44982d"
      },
      "source": [
        "sns.barplot(x=\"minutes\", hue=\"DeviceName\", y=\"CurrentReading\", data=mean_new_df[210:280])"
      ],
      "execution_count": 147,
      "outputs": [
        {
          "output_type": "execute_result",
          "data": {
            "text/plain": [
              "<matplotlib.axes._subplots.AxesSubplot at 0x7ffa9c556fd0>"
            ]
          },
          "metadata": {
            "tags": []
          },
          "execution_count": 147
        },
        {
          "output_type": "display_data",
          "data": {
            "image/png": "[encoded data removed]",
            "text/plain": [
              "<Figure size 432x288 with 1 Axes>"
            ]
          },
          "metadata": {
            "tags": [],
            "needs_background": "light"
          }
        }
      ]
    },
    {
      "cell_type": "markdown",
      "metadata": {
        "id": "4Cf2F02dPna5"
      },
      "source": [
        "### Temperature Trend"
      ]
    },
    {
      "cell_type": "code",
      "metadata": {
        "id": "JM2TzW5iaJ1C"
      },
      "source": [
        "mean_temp1 = mean_new_df[mean_new_df[\"DeviceName\"] == \"temp1\"]"
      ],
      "execution_count": 148,
      "outputs": []
    },
    {
      "cell_type": "code",
      "metadata": {
        "id": "qLo28QphbNjS"
      },
      "source": [
        "mean_temp1.reset_index(inplace=True)"
      ],
      "execution_count": 149,
      "outputs": []
    },
    {
      "cell_type": "code",
      "metadata": {
        "id": "sNxDB7q-aY-v",
        "colab": {
          "base_uri": "https://localhost:8080/",
          "height": 202
        },
        "outputId": "01a7a157-2627-43a7-b5d3-02f6aa57d8c5"
      },
      "source": [
        "mean_temp1.head()"
      ],
      "execution_count": 150,
      "outputs": [
        {
          "output_type": "execute_result",
          "data": {
            "text/html": [
              "<div>\n",
              "<style scoped>\n",
              "    .dataframe tbody tr th:only-of-type {\n",
              "        vertical-align: middle;\n",
              "    }\n",
              "\n",
              "    .dataframe tbody tr th {\n",
              "        vertical-align: top;\n",
              "    }\n",
              "\n",
              "    .dataframe thead th {\n",
              "        text-align: right;\n",
              "    }\n",
              "</style>\n",
              "<table border=\"1\" class=\"dataframe\">\n",
              "  <thead>\n",
              "    <tr style=\"text-align: right;\">\n",
              "      <th></th>\n",
              "      <th>index</th>\n",
              "      <th>hours</th>\n",
              "      <th>minutes</th>\n",
              "      <th>DeviceName</th>\n",
              "      <th>CurrentReading</th>\n",
              "    </tr>\n",
              "  </thead>\n",
              "  <tbody>\n",
              "    <tr>\n",
              "      <th>0</th>\n",
              "      <td>5</td>\n",
              "      <td>15</td>\n",
              "      <td>28</td>\n",
              "      <td>temp1</td>\n",
              "      <td>34.444444</td>\n",
              "    </tr>\n",
              "    <tr>\n",
              "      <th>1</th>\n",
              "      <td>12</td>\n",
              "      <td>15</td>\n",
              "      <td>29</td>\n",
              "      <td>temp1</td>\n",
              "      <td>35.101695</td>\n",
              "    </tr>\n",
              "    <tr>\n",
              "      <th>2</th>\n",
              "      <td>19</td>\n",
              "      <td>15</td>\n",
              "      <td>30</td>\n",
              "      <td>temp1</td>\n",
              "      <td>34.551724</td>\n",
              "    </tr>\n",
              "    <tr>\n",
              "      <th>3</th>\n",
              "      <td>26</td>\n",
              "      <td>15</td>\n",
              "      <td>31</td>\n",
              "      <td>temp1</td>\n",
              "      <td>36.322034</td>\n",
              "    </tr>\n",
              "    <tr>\n",
              "      <th>4</th>\n",
              "      <td>33</td>\n",
              "      <td>15</td>\n",
              "      <td>32</td>\n",
              "      <td>temp1</td>\n",
              "      <td>35.423729</td>\n",
              "    </tr>\n",
              "  </tbody>\n",
              "</table>\n",
              "</div>"
            ],
            "text/plain": [
              "   index  hours  minutes DeviceName  CurrentReading\n",
              "0      5     15       28      temp1       34.444444\n",
              "1     12     15       29      temp1       35.101695\n",
              "2     19     15       30      temp1       34.551724\n",
              "3     26     15       31      temp1       36.322034\n",
              "4     33     15       32      temp1       35.423729"
            ]
          },
          "metadata": {
            "tags": []
          },
          "execution_count": 150
        }
      ]
    },
    {
      "cell_type": "code",
      "metadata": {
        "id": "9xUkrPFnF2v8"
      },
      "source": [
        "mean_temp2 = mean_new_df[mean_new_df[\"DeviceName\"] == \"temp2\"]"
      ],
      "execution_count": 151,
      "outputs": []
    },
    {
      "cell_type": "code",
      "metadata": {
        "id": "a2usAaHjbllp"
      },
      "source": [
        "mean_temp2.reset_index(inplace=True)"
      ],
      "execution_count": 152,
      "outputs": []
    },
    {
      "cell_type": "code",
      "metadata": {
        "id": "mVWzDzCv4h-Z",
        "colab": {
          "base_uri": "https://localhost:8080/",
          "height": 202
        },
        "outputId": "06f62617-b458-43c9-a153-1aec4b9b6342"
      },
      "source": [
        "mean_temp2.head()"
      ],
      "execution_count": 153,
      "outputs": [
        {
          "output_type": "execute_result",
          "data": {
            "text/html": [
              "<div>\n",
              "<style scoped>\n",
              "    .dataframe tbody tr th:only-of-type {\n",
              "        vertical-align: middle;\n",
              "    }\n",
              "\n",
              "    .dataframe tbody tr th {\n",
              "        vertical-align: top;\n",
              "    }\n",
              "\n",
              "    .dataframe thead th {\n",
              "        text-align: right;\n",
              "    }\n",
              "</style>\n",
              "<table border=\"1\" class=\"dataframe\">\n",
              "  <thead>\n",
              "    <tr style=\"text-align: right;\">\n",
              "      <th></th>\n",
              "      <th>index</th>\n",
              "      <th>hours</th>\n",
              "      <th>minutes</th>\n",
              "      <th>DeviceName</th>\n",
              "      <th>CurrentReading</th>\n",
              "    </tr>\n",
              "  </thead>\n",
              "  <tbody>\n",
              "    <tr>\n",
              "      <th>0</th>\n",
              "      <td>6</td>\n",
              "      <td>15</td>\n",
              "      <td>28</td>\n",
              "      <td>temp2</td>\n",
              "      <td>24.800000</td>\n",
              "    </tr>\n",
              "    <tr>\n",
              "      <th>1</th>\n",
              "      <td>13</td>\n",
              "      <td>15</td>\n",
              "      <td>29</td>\n",
              "      <td>temp2</td>\n",
              "      <td>24.293103</td>\n",
              "    </tr>\n",
              "    <tr>\n",
              "      <th>2</th>\n",
              "      <td>20</td>\n",
              "      <td>15</td>\n",
              "      <td>30</td>\n",
              "      <td>temp2</td>\n",
              "      <td>25.067797</td>\n",
              "    </tr>\n",
              "    <tr>\n",
              "      <th>3</th>\n",
              "      <td>27</td>\n",
              "      <td>15</td>\n",
              "      <td>31</td>\n",
              "      <td>temp2</td>\n",
              "      <td>25.016949</td>\n",
              "    </tr>\n",
              "    <tr>\n",
              "      <th>4</th>\n",
              "      <td>34</td>\n",
              "      <td>15</td>\n",
              "      <td>32</td>\n",
              "      <td>temp2</td>\n",
              "      <td>24.465517</td>\n",
              "    </tr>\n",
              "  </tbody>\n",
              "</table>\n",
              "</div>"
            ],
            "text/plain": [
              "   index  hours  minutes DeviceName  CurrentReading\n",
              "0      6     15       28      temp2       24.800000\n",
              "1     13     15       29      temp2       24.293103\n",
              "2     20     15       30      temp2       25.067797\n",
              "3     27     15       31      temp2       25.016949\n",
              "4     34     15       32      temp2       24.465517"
            ]
          },
          "metadata": {
            "tags": []
          },
          "execution_count": 153
        }
      ]
    },
    {
      "cell_type": "code",
      "metadata": {
        "id": "H64ukrZhBkn0",
        "colab": {
          "base_uri": "https://localhost:8080/",
          "height": 313
        },
        "outputId": "f335cc06-b85d-42ea-940d-323ce195d2d6"
      },
      "source": [
        "temp1_ax = sns.regplot(x=mean_temp1.index, y=\"CurrentReading\", color=\"g\", data=mean_temp1)\n",
        "temp1_ax.set_xlabel(\"Minutes\")\n",
        "temp1_ax.set_ylabel(\"Average Temperature\")\n",
        "temp1_ax.set_title(\"temp1 Average Temperature values per minute\")"
      ],
      "execution_count": 154,
      "outputs": [
        {
          "output_type": "execute_result",
          "data": {
            "text/plain": [
              "Text(0.5, 1.0, 'temp1 Average Temperature values per minute')"
            ]
          },
          "metadata": {
            "tags": []
          },
          "execution_count": 154
        },
        {
          "output_type": "display_data",
          "data": {
            "image/png": "[encoded data removed]",
            "text/plain": [
              "<Figure size 432x288 with 1 Axes>"
            ]
          },
          "metadata": {
            "tags": [],
            "needs_background": "light"
          }
        }
      ]
    },
    {
      "cell_type": "markdown",
      "metadata": {
        "id": "0IaxYib99Gw0"
      },
      "source": [
        "\n",
        "The average temperature for temperature1 decreases slowly from about 35.1 to 34.9 during the 45 minute period. It seems to be fairly constant around 35.0."
      ]
    },
    {
      "cell_type": "code",
      "metadata": {
        "id": "DSch0Um8ONrL",
        "colab": {
          "base_uri": "https://localhost:8080/",
          "height": 313
        },
        "outputId": "271b3091-6335-451b-f3d8-ddc343fa0f3d"
      },
      "source": [
        "temp2_ax = sns.regplot(x=mean_temp2.index, y=\"CurrentReading\", color=\"g\", data=mean_temp2)\n",
        "temp2_ax.set_xlabel(\"Minutes\")\n",
        "temp2_ax.set_ylabel(\"Average Temperature\")\n",
        "temp2_ax.set_title(\"temp2 Average Temperature values per minute\")"
      ],
      "execution_count": 155,
      "outputs": [
        {
          "output_type": "execute_result",
          "data": {
            "text/plain": [
              "Text(0.5, 1.0, 'temp2 Average Temperature values per minute')"
            ]
          },
          "metadata": {
            "tags": []
          },
          "execution_count": 155
        },
        {
          "output_type": "display_data",
          "data": {
            "image/png": "[encoded data removed]",
            "text/plain": [
              "<Figure size 432x288 with 1 Axes>"
            ]
          },
          "metadata": {
            "tags": [],
            "needs_background": "light"
          }
        }
      ]
    },
    {
      "cell_type": "markdown",
      "metadata": {
        "id": "fPqdIARi8ykO"
      },
      "source": [
        "The average temperature for temperature2 increases slowly from an average of about 24.85 to 25.10 during the 45 minute period."
      ]
    },
    {
      "cell_type": "markdown",
      "metadata": {
        "id": "Vx-p1ve5PtQm"
      },
      "source": [
        "### Humidity Trend"
      ]
    },
    {
      "cell_type": "code",
      "metadata": {
        "id": "LV6tpVZGPwA8"
      },
      "source": [
        "mean_humidity1 = mean_new_df[mean_new_df[\"DeviceName\"] == \"humidity1\"]\n",
        "mean_humidity2 = mean_new_df[mean_new_df[\"DeviceName\"] == \"humidity2\"]"
      ],
      "execution_count": 156,
      "outputs": []
    },
    {
      "cell_type": "code",
      "metadata": {
        "id": "fOMYbW0AQPHR"
      },
      "source": [
        "mean_humidity1.reset_index(inplace=True)\n",
        "mean_humidity2.reset_index(inplace=True)"
      ],
      "execution_count": 157,
      "outputs": []
    },
    {
      "cell_type": "code",
      "metadata": {
        "id": "kpOxN2PjRq8B",
        "colab": {
          "base_uri": "https://localhost:8080/",
          "height": 313
        },
        "outputId": "ac19e3e6-3421-4fb4-f776-bd5bdcbf141a"
      },
      "source": [
        "humidity1_ax = sns.regplot(x=mean_humidity1.index, y=\"CurrentReading\", color=\"b\", data=mean_humidity1)\n",
        "humidity1_ax.set_xlabel(\"Minutes\")\n",
        "humidity1_ax.set_ylabel(\"Average Humidity\")\n",
        "humidity1_ax.set_title(\"humidity1 Average Humidity values per minute\")"
      ],
      "execution_count": 158,
      "outputs": [
        {
          "output_type": "execute_result",
          "data": {
            "text/plain": [
              "Text(0.5, 1.0, 'humidity1 Average Humidity values per minute')"
            ]
          },
          "metadata": {
            "tags": []
          },
          "execution_count": 158
        },
        {
          "output_type": "display_data",
          "data": {
            "image/png": "[encoded data removed]",
            "text/plain": [
              "<Figure size 432x288 with 1 Axes>"
            ]
          },
          "metadata": {
            "tags": [],
            "needs_background": "light"
          }
        }
      ]
    },
    {
      "cell_type": "markdown",
      "metadata": {
        "id": "isltv2tW8nSX"
      },
      "source": [
        "The average humidity for humidity1 is fairly constant around 33 during the 45 minute period."
      ]
    },
    {
      "cell_type": "code",
      "metadata": {
        "id": "cWmAgiajSIBe",
        "colab": {
          "base_uri": "https://localhost:8080/",
          "height": 313
        },
        "outputId": "c84f1467-d042-422c-b5c3-b5fba3914812"
      },
      "source": [
        "humidity2_ax = sns.regplot(x=mean_humidity2.index, y=\"CurrentReading\", color=\"b\", data=mean_humidity2)\n",
        "humidity2_ax.set_xlabel(\"Minutes\")\n",
        "humidity2_ax.set_ylabel(\"Average Humidity\")\n",
        "humidity2_ax.set_title(\"humidity2 Average Humidity values per minute\")"
      ],
      "execution_count": 159,
      "outputs": [
        {
          "output_type": "execute_result",
          "data": {
            "text/plain": [
              "Text(0.5, 1.0, 'humidity2 Average Humidity values per minute')"
            ]
          },
          "metadata": {
            "tags": []
          },
          "execution_count": 159
        },
        {
          "output_type": "display_data",
          "data": {
            "image/png": "[encoded data removed]",
            "text/plain": [
              "<Figure size 432x288 with 1 Axes>"
            ]
          },
          "metadata": {
            "tags": [],
            "needs_background": "light"
          }
        }
      ]
    },
    {
      "cell_type": "markdown",
      "metadata": {
        "id": "KnNUKtPZ8F9O"
      },
      "source": [
        "The average humidity for humidity2 increases slowly from an average of about 68.5 to 70 during the 45 minute period."
      ]
    },
    {
      "cell_type": "markdown",
      "metadata": {
        "id": "QVdP8skEWA4U"
      },
      "source": [
        "### Heater Trend"
      ]
    },
    {
      "cell_type": "code",
      "metadata": {
        "id": "uhsxl2E1S5Z0"
      },
      "source": [
        "heater_actuator = df[df[\"DeviceType\"] == \"Heater Actuator\"]"
      ],
      "execution_count": 160,
      "outputs": []
    },
    {
      "cell_type": "code",
      "metadata": {
        "id": "oMFajpCjTHjF",
        "colab": {
          "base_uri": "https://localhost:8080/"
        },
        "outputId": "5371897e-ac9e-4552-f515-03271dcac5e8"
      },
      "source": [
        "heater_actuator.drop(\"DataID\", inplace=True, axis=1)"
      ],
      "execution_count": 161,
      "outputs": [
        {
          "output_type": "stream",
          "text": [
            "/usr/local/lib/python3.6/dist-packages/pandas/core/frame.py:4174: SettingWithCopyWarning: \n",
            "A value is trying to be set on a copy of a slice from a DataFrame\n",
            "\n",
            "See the caveats in the documentation: https://pandas.pydata.org/pandas-docs/stable/user_guide/indexing.html#returning-a-view-versus-a-copy\n",
            "  errors=errors,\n"
          ],
          "name": "stderr"
        }
      ]
    },
    {
      "cell_type": "code",
      "metadata": {
        "id": "pgiEdfWkTis0",
        "colab": {
          "base_uri": "https://localhost:8080/",
          "height": 233
        },
        "outputId": "c3bae5b1-343a-44eb-f95e-fccf3b20f5f2"
      },
      "source": [
        "heater_actuator.set_index(\"DateRead\", inplace=True)\n",
        "heater_actuator.head()"
      ],
      "execution_count": 162,
      "outputs": [
        {
          "output_type": "execute_result",
          "data": {
            "text/html": [
              "<div>\n",
              "<style scoped>\n",
              "    .dataframe tbody tr th:only-of-type {\n",
              "        vertical-align: middle;\n",
              "    }\n",
              "\n",
              "    .dataframe tbody tr th {\n",
              "        vertical-align: top;\n",
              "    }\n",
              "\n",
              "    .dataframe thead th {\n",
              "        text-align: right;\n",
              "    }\n",
              "</style>\n",
              "<table border=\"1\" class=\"dataframe\">\n",
              "  <thead>\n",
              "    <tr style=\"text-align: right;\">\n",
              "      <th></th>\n",
              "      <th>DeviceName</th>\n",
              "      <th>DeviceType</th>\n",
              "      <th>CurrentReading</th>\n",
              "    </tr>\n",
              "    <tr>\n",
              "      <th>DateRead</th>\n",
              "      <th></th>\n",
              "      <th></th>\n",
              "      <th></th>\n",
              "    </tr>\n",
              "  </thead>\n",
              "  <tbody>\n",
              "    <tr>\n",
              "      <th>2020-12-04 15:28:50</th>\n",
              "      <td>heater</td>\n",
              "      <td>Heater Actuator</td>\n",
              "      <td>0</td>\n",
              "    </tr>\n",
              "    <tr>\n",
              "      <th>2020-12-04 15:28:55</th>\n",
              "      <td>heater</td>\n",
              "      <td>Heater Actuator</td>\n",
              "      <td>1</td>\n",
              "    </tr>\n",
              "    <tr>\n",
              "      <th>2020-12-04 15:29:00</th>\n",
              "      <td>heater</td>\n",
              "      <td>Heater Actuator</td>\n",
              "      <td>0</td>\n",
              "    </tr>\n",
              "    <tr>\n",
              "      <th>2020-12-04 15:29:05</th>\n",
              "      <td>heater</td>\n",
              "      <td>Heater Actuator</td>\n",
              "      <td>0</td>\n",
              "    </tr>\n",
              "    <tr>\n",
              "      <th>2020-12-04 15:29:10</th>\n",
              "      <td>heater</td>\n",
              "      <td>Heater Actuator</td>\n",
              "      <td>0</td>\n",
              "    </tr>\n",
              "  </tbody>\n",
              "</table>\n",
              "</div>"
            ],
            "text/plain": [
              "                    DeviceName       DeviceType  CurrentReading\n",
              "DateRead                                                       \n",
              "2020-12-04 15:28:50     heater  Heater Actuator               0\n",
              "2020-12-04 15:28:55     heater  Heater Actuator               1\n",
              "2020-12-04 15:29:00     heater  Heater Actuator               0\n",
              "2020-12-04 15:29:05     heater  Heater Actuator               0\n",
              "2020-12-04 15:29:10     heater  Heater Actuator               0"
            ]
          },
          "metadata": {
            "tags": []
          },
          "execution_count": 162
        }
      ]
    },
    {
      "cell_type": "code",
      "metadata": {
        "id": "Hhd01UfQTtHC"
      },
      "source": [
        "num_heater_on_times = heater_actuator.groupby([heater_actuator.index.hour, heater_actuator.index.minute]).mean()"
      ],
      "execution_count": 163,
      "outputs": []
    },
    {
      "cell_type": "code",
      "metadata": {
        "id": "L0TqL9CzVIxc"
      },
      "source": [
        "num_heater_on_times.rename_axis(index=['hours', 'minutes'], inplace=True)\n",
        "num_heater_on_times.reset_index(inplace=True)"
      ],
      "execution_count": 164,
      "outputs": []
    },
    {
      "cell_type": "code",
      "metadata": {
        "id": "avbt22J8UNVd",
        "colab": {
          "base_uri": "https://localhost:8080/",
          "height": 313
        },
        "outputId": "db5dd61a-f150-4c15-9341-c3c9f79906b5"
      },
      "source": [
        "heater_ax = sns.regplot(x=num_heater_on_times.index, y=\"CurrentReading\", color=\"r\", data=num_heater_on_times)\n",
        "heater_ax.set_xlabel(\"Minutes\")\n",
        "heater_ax.set_ylabel(\"Average Heater on times\")\n",
        "heater_ax.set_title(\"Average Heater on times per minute\")"
      ],
      "execution_count": 165,
      "outputs": [
        {
          "output_type": "execute_result",
          "data": {
            "text/plain": [
              "Text(0.5, 1.0, 'Average Heater on times per minute')"
            ]
          },
          "metadata": {
            "tags": []
          },
          "execution_count": 165
        },
        {
          "output_type": "display_data",
          "data": {
            "image/png": "[encoded data removed]",
            "text/plain": [
              "<Figure size 432x288 with 1 Axes>"
            ]
          },
          "metadata": {
            "tags": [],
            "needs_background": "light"
          }
        }
      ]
    },
    {
      "cell_type": "markdown",
      "metadata": {
        "id": "_WIawhTi7qz0"
      },
      "source": [
        "Considering the fact that the heater is a binary value, it makes sense that the heater is on 50% of the time during the 45 minute period."
      ]
    },
    {
      "cell_type": "markdown",
      "metadata": {
        "id": "yPTn_I2c-_Jq"
      },
      "source": [
        "### Pump Trend"
      ]
    },
    {
      "cell_type": "code",
      "metadata": {
        "colab": {
          "base_uri": "https://localhost:8080/",
          "height": 313
        },
        "id": "KvWljlYm_CJD",
        "outputId": "48795d28-9d0d-412c-fdd7-04c9b9eb98cf"
      },
      "source": [
        "mean_pump = mean_new_df[mean_new_df[\"DeviceName\"] == \"pump\"]\n",
        "\n",
        "mean_pump.reset_index(inplace=True)\n",
        "\n",
        "pump_ax = sns.regplot(x=mean_pump.index, y=\"CurrentReading\", color=\"orange\", data=mean_pump)\n",
        "pump_ax.set_xlabel(\"Minutes\")\n",
        "pump_ax.set_ylabel(\"Average Pump on times\")\n",
        "pump_ax.set_title(\"Pump Average no of on times per minute\")"
      ],
      "execution_count": 166,
      "outputs": [
        {
          "output_type": "execute_result",
          "data": {
            "text/plain": [
              "Text(0.5, 1.0, 'Pump Average no of on times per minute')"
            ]
          },
          "metadata": {
            "tags": []
          },
          "execution_count": 166
        },
        {
          "output_type": "display_data",
          "data": {
            "image/png": "[encoded data removed]",
            "text/plain": [
              "<Figure size 432x288 with 1 Axes>"
            ]
          },
          "metadata": {
            "tags": [],
            "needs_background": "light"
          }
        }
      ]
    },
    {
      "cell_type": "markdown",
      "metadata": {
        "id": "fixLcY7HoPCb"
      },
      "source": [
        "# Data Preprocessing"
      ]
    },
    {
      "cell_type": "code",
      "metadata": {
        "id": "FbAU-GgzkFAJ"
      },
      "source": [
        "# model_df.set_index(\"DateRead\", inplace=True)\n",
        "# trans_df = model_df.groupby([model_df.index.hour, model_df.index.minute, model_df.index.second, model_df[\"DeviceName\"]])\n",
        "trans_df = df.pivot_table('CurrentReading', ['DateRead', 'DeviceType'], 'DeviceName')\n"
      ],
      "execution_count": 167,
      "outputs": []
    },
    {
      "cell_type": "code",
      "metadata": {
        "id": "dVupjNryjYdF",
        "colab": {
          "base_uri": "https://localhost:8080/",
          "height": 233
        },
        "outputId": "a64a9cb4-ec36-4cb3-9f58-1661bec32fcb"
      },
      "source": [
        "trans_df.head()"
      ],
      "execution_count": 168,
      "outputs": [
        {
          "output_type": "execute_result",
          "data": {
            "text/html": [
              "<div>\n",
              "<style scoped>\n",
              "    .dataframe tbody tr th:only-of-type {\n",
              "        vertical-align: middle;\n",
              "    }\n",
              "\n",
              "    .dataframe tbody tr th {\n",
              "        vertical-align: top;\n",
              "    }\n",
              "\n",
              "    .dataframe thead th {\n",
              "        text-align: right;\n",
              "    }\n",
              "</style>\n",
              "<table border=\"1\" class=\"dataframe\">\n",
              "  <thead>\n",
              "    <tr style=\"text-align: right;\">\n",
              "      <th></th>\n",
              "      <th>DeviceName</th>\n",
              "      <th>heater</th>\n",
              "      <th>humidity1</th>\n",
              "      <th>humidity2</th>\n",
              "      <th>ldr</th>\n",
              "      <th>pump</th>\n",
              "      <th>temp1</th>\n",
              "      <th>temp2</th>\n",
              "    </tr>\n",
              "    <tr>\n",
              "      <th>DateRead</th>\n",
              "      <th>DeviceType</th>\n",
              "      <th></th>\n",
              "      <th></th>\n",
              "      <th></th>\n",
              "      <th></th>\n",
              "      <th></th>\n",
              "      <th></th>\n",
              "      <th></th>\n",
              "    </tr>\n",
              "  </thead>\n",
              "  <tbody>\n",
              "    <tr>\n",
              "      <th rowspan=\"5\" valign=\"top\">2020-12-04 15:28:50</th>\n",
              "      <th>Heater Actuator</th>\n",
              "      <td>0.0</td>\n",
              "      <td>NaN</td>\n",
              "      <td>NaN</td>\n",
              "      <td>NaN</td>\n",
              "      <td>NaN</td>\n",
              "      <td>NaN</td>\n",
              "      <td>NaN</td>\n",
              "    </tr>\n",
              "    <tr>\n",
              "      <th>Humidity Sensor</th>\n",
              "      <td>NaN</td>\n",
              "      <td>44.0</td>\n",
              "      <td>78.0</td>\n",
              "      <td>NaN</td>\n",
              "      <td>NaN</td>\n",
              "      <td>NaN</td>\n",
              "      <td>NaN</td>\n",
              "    </tr>\n",
              "    <tr>\n",
              "      <th>Light Intensity Sensor</th>\n",
              "      <td>NaN</td>\n",
              "      <td>NaN</td>\n",
              "      <td>NaN</td>\n",
              "      <td>283.0</td>\n",
              "      <td>NaN</td>\n",
              "      <td>NaN</td>\n",
              "      <td>NaN</td>\n",
              "    </tr>\n",
              "    <tr>\n",
              "      <th>Pump Actuator</th>\n",
              "      <td>NaN</td>\n",
              "      <td>NaN</td>\n",
              "      <td>NaN</td>\n",
              "      <td>NaN</td>\n",
              "      <td>1.0</td>\n",
              "      <td>NaN</td>\n",
              "      <td>NaN</td>\n",
              "    </tr>\n",
              "    <tr>\n",
              "      <th>Temperature Sensor</th>\n",
              "      <td>NaN</td>\n",
              "      <td>NaN</td>\n",
              "      <td>NaN</td>\n",
              "      <td>NaN</td>\n",
              "      <td>NaN</td>\n",
              "      <td>32.0</td>\n",
              "      <td>28.0</td>\n",
              "    </tr>\n",
              "  </tbody>\n",
              "</table>\n",
              "</div>"
            ],
            "text/plain": [
              "DeviceName                                  heater  humidity1  ...  temp1  temp2\n",
              "DateRead            DeviceType                                 ...              \n",
              "2020-12-04 15:28:50 Heater Actuator            0.0        NaN  ...    NaN    NaN\n",
              "                    Humidity Sensor            NaN       44.0  ...    NaN    NaN\n",
              "                    Light Intensity Sensor     NaN        NaN  ...    NaN    NaN\n",
              "                    Pump Actuator              NaN        NaN  ...    NaN    NaN\n",
              "                    Temperature Sensor         NaN        NaN  ...   32.0   28.0\n",
              "\n",
              "[5 rows x 7 columns]"
            ]
          },
          "metadata": {
            "tags": []
          },
          "execution_count": 168
        }
      ]
    },
    {
      "cell_type": "code",
      "metadata": {
        "id": "6ldVuqurqLHV"
      },
      "source": [
        "trans_df.reset_index( drop=False, inplace=True )"
      ],
      "execution_count": 169,
      "outputs": []
    },
    {
      "cell_type": "code",
      "metadata": {
        "id": "qy-qdHinoNak",
        "colab": {
          "base_uri": "https://localhost:8080/"
        },
        "outputId": "5a59d38c-ea4a-4023-ff64-16d75dc2e305"
      },
      "source": [
        "trans_df.shape"
      ],
      "execution_count": 170,
      "outputs": [
        {
          "output_type": "execute_result",
          "data": {
            "text/plain": [
              "(7355, 9)"
            ]
          },
          "metadata": {
            "tags": []
          },
          "execution_count": 170
        }
      ]
    },
    {
      "cell_type": "code",
      "metadata": {
        "id": "THDG9A5SqbDR",
        "colab": {
          "base_uri": "https://localhost:8080/",
          "height": 202
        },
        "outputId": "4a7e6e28-85ce-474e-c7fe-099155ec27c1"
      },
      "source": [
        "trans_df.head()"
      ],
      "execution_count": 171,
      "outputs": [
        {
          "output_type": "execute_result",
          "data": {
            "text/html": [
              "<div>\n",
              "<style scoped>\n",
              "    .dataframe tbody tr th:only-of-type {\n",
              "        vertical-align: middle;\n",
              "    }\n",
              "\n",
              "    .dataframe tbody tr th {\n",
              "        vertical-align: top;\n",
              "    }\n",
              "\n",
              "    .dataframe thead th {\n",
              "        text-align: right;\n",
              "    }\n",
              "</style>\n",
              "<table border=\"1\" class=\"dataframe\">\n",
              "  <thead>\n",
              "    <tr style=\"text-align: right;\">\n",
              "      <th>DeviceName</th>\n",
              "      <th>DateRead</th>\n",
              "      <th>DeviceType</th>\n",
              "      <th>heater</th>\n",
              "      <th>humidity1</th>\n",
              "      <th>humidity2</th>\n",
              "      <th>ldr</th>\n",
              "      <th>pump</th>\n",
              "      <th>temp1</th>\n",
              "      <th>temp2</th>\n",
              "    </tr>\n",
              "  </thead>\n",
              "  <tbody>\n",
              "    <tr>\n",
              "      <th>0</th>\n",
              "      <td>2020-12-04 15:28:50</td>\n",
              "      <td>Heater Actuator</td>\n",
              "      <td>0.0</td>\n",
              "      <td>NaN</td>\n",
              "      <td>NaN</td>\n",
              "      <td>NaN</td>\n",
              "      <td>NaN</td>\n",
              "      <td>NaN</td>\n",
              "      <td>NaN</td>\n",
              "    </tr>\n",
              "    <tr>\n",
              "      <th>1</th>\n",
              "      <td>2020-12-04 15:28:50</td>\n",
              "      <td>Humidity Sensor</td>\n",
              "      <td>NaN</td>\n",
              "      <td>44.0</td>\n",
              "      <td>78.0</td>\n",
              "      <td>NaN</td>\n",
              "      <td>NaN</td>\n",
              "      <td>NaN</td>\n",
              "      <td>NaN</td>\n",
              "    </tr>\n",
              "    <tr>\n",
              "      <th>2</th>\n",
              "      <td>2020-12-04 15:28:50</td>\n",
              "      <td>Light Intensity Sensor</td>\n",
              "      <td>NaN</td>\n",
              "      <td>NaN</td>\n",
              "      <td>NaN</td>\n",
              "      <td>283.0</td>\n",
              "      <td>NaN</td>\n",
              "      <td>NaN</td>\n",
              "      <td>NaN</td>\n",
              "    </tr>\n",
              "    <tr>\n",
              "      <th>3</th>\n",
              "      <td>2020-12-04 15:28:50</td>\n",
              "      <td>Pump Actuator</td>\n",
              "      <td>NaN</td>\n",
              "      <td>NaN</td>\n",
              "      <td>NaN</td>\n",
              "      <td>NaN</td>\n",
              "      <td>1.0</td>\n",
              "      <td>NaN</td>\n",
              "      <td>NaN</td>\n",
              "    </tr>\n",
              "    <tr>\n",
              "      <th>4</th>\n",
              "      <td>2020-12-04 15:28:50</td>\n",
              "      <td>Temperature Sensor</td>\n",
              "      <td>NaN</td>\n",
              "      <td>NaN</td>\n",
              "      <td>NaN</td>\n",
              "      <td>NaN</td>\n",
              "      <td>NaN</td>\n",
              "      <td>32.0</td>\n",
              "      <td>28.0</td>\n",
              "    </tr>\n",
              "  </tbody>\n",
              "</table>\n",
              "</div>"
            ],
            "text/plain": [
              "DeviceName            DateRead              DeviceType  ...  temp1  temp2\n",
              "0          2020-12-04 15:28:50         Heater Actuator  ...    NaN    NaN\n",
              "1          2020-12-04 15:28:50         Humidity Sensor  ...    NaN    NaN\n",
              "2          2020-12-04 15:28:50  Light Intensity Sensor  ...    NaN    NaN\n",
              "3          2020-12-04 15:28:50           Pump Actuator  ...    NaN    NaN\n",
              "4          2020-12-04 15:28:50      Temperature Sensor  ...   32.0   28.0\n",
              "\n",
              "[5 rows x 9 columns]"
            ]
          },
          "metadata": {
            "tags": []
          },
          "execution_count": 171
        }
      ]
    },
    {
      "cell_type": "code",
      "metadata": {
        "id": "a4uzsUblqfo3"
      },
      "source": [
        "trans_df.fillna(method=\"ffill\", inplace=True)\n",
        "trans_df.fillna(method=\"bfill\", inplace=True)"
      ],
      "execution_count": 172,
      "outputs": []
    },
    {
      "cell_type": "code",
      "metadata": {
        "id": "9B1pxSZjrj8l",
        "colab": {
          "base_uri": "https://localhost:8080/",
          "height": 202
        },
        "outputId": "87021a33-bcc8-4754-befe-c97eb2bb587e"
      },
      "source": [
        "trans_df.head()"
      ],
      "execution_count": 173,
      "outputs": [
        {
          "output_type": "execute_result",
          "data": {
            "text/html": [
              "<div>\n",
              "<style scoped>\n",
              "    .dataframe tbody tr th:only-of-type {\n",
              "        vertical-align: middle;\n",
              "    }\n",
              "\n",
              "    .dataframe tbody tr th {\n",
              "        vertical-align: top;\n",
              "    }\n",
              "\n",
              "    .dataframe thead th {\n",
              "        text-align: right;\n",
              "    }\n",
              "</style>\n",
              "<table border=\"1\" class=\"dataframe\">\n",
              "  <thead>\n",
              "    <tr style=\"text-align: right;\">\n",
              "      <th>DeviceName</th>\n",
              "      <th>DateRead</th>\n",
              "      <th>DeviceType</th>\n",
              "      <th>heater</th>\n",
              "      <th>humidity1</th>\n",
              "      <th>humidity2</th>\n",
              "      <th>ldr</th>\n",
              "      <th>pump</th>\n",
              "      <th>temp1</th>\n",
              "      <th>temp2</th>\n",
              "    </tr>\n",
              "  </thead>\n",
              "  <tbody>\n",
              "    <tr>\n",
              "      <th>0</th>\n",
              "      <td>2020-12-04 15:28:50</td>\n",
              "      <td>Heater Actuator</td>\n",
              "      <td>0.0</td>\n",
              "      <td>44.0</td>\n",
              "      <td>78.0</td>\n",
              "      <td>283.0</td>\n",
              "      <td>1.0</td>\n",
              "      <td>32.0</td>\n",
              "      <td>28.0</td>\n",
              "    </tr>\n",
              "    <tr>\n",
              "      <th>1</th>\n",
              "      <td>2020-12-04 15:28:50</td>\n",
              "      <td>Humidity Sensor</td>\n",
              "      <td>0.0</td>\n",
              "      <td>44.0</td>\n",
              "      <td>78.0</td>\n",
              "      <td>283.0</td>\n",
              "      <td>1.0</td>\n",
              "      <td>32.0</td>\n",
              "      <td>28.0</td>\n",
              "    </tr>\n",
              "    <tr>\n",
              "      <th>2</th>\n",
              "      <td>2020-12-04 15:28:50</td>\n",
              "      <td>Light Intensity Sensor</td>\n",
              "      <td>0.0</td>\n",
              "      <td>44.0</td>\n",
              "      <td>78.0</td>\n",
              "      <td>283.0</td>\n",
              "      <td>1.0</td>\n",
              "      <td>32.0</td>\n",
              "      <td>28.0</td>\n",
              "    </tr>\n",
              "    <tr>\n",
              "      <th>3</th>\n",
              "      <td>2020-12-04 15:28:50</td>\n",
              "      <td>Pump Actuator</td>\n",
              "      <td>0.0</td>\n",
              "      <td>44.0</td>\n",
              "      <td>78.0</td>\n",
              "      <td>283.0</td>\n",
              "      <td>1.0</td>\n",
              "      <td>32.0</td>\n",
              "      <td>28.0</td>\n",
              "    </tr>\n",
              "    <tr>\n",
              "      <th>4</th>\n",
              "      <td>2020-12-04 15:28:50</td>\n",
              "      <td>Temperature Sensor</td>\n",
              "      <td>0.0</td>\n",
              "      <td>44.0</td>\n",
              "      <td>78.0</td>\n",
              "      <td>283.0</td>\n",
              "      <td>1.0</td>\n",
              "      <td>32.0</td>\n",
              "      <td>28.0</td>\n",
              "    </tr>\n",
              "  </tbody>\n",
              "</table>\n",
              "</div>"
            ],
            "text/plain": [
              "DeviceName            DateRead              DeviceType  ...  temp1  temp2\n",
              "0          2020-12-04 15:28:50         Heater Actuator  ...   32.0   28.0\n",
              "1          2020-12-04 15:28:50         Humidity Sensor  ...   32.0   28.0\n",
              "2          2020-12-04 15:28:50  Light Intensity Sensor  ...   32.0   28.0\n",
              "3          2020-12-04 15:28:50           Pump Actuator  ...   32.0   28.0\n",
              "4          2020-12-04 15:28:50      Temperature Sensor  ...   32.0   28.0\n",
              "\n",
              "[5 rows x 9 columns]"
            ]
          },
          "metadata": {
            "tags": []
          },
          "execution_count": 173
        }
      ]
    },
    {
      "cell_type": "code",
      "metadata": {
        "id": "tEIfeuVarsfW",
        "colab": {
          "base_uri": "https://localhost:8080/"
        },
        "outputId": "9e042944-2d8e-4b30-a7cf-4241de932561"
      },
      "source": [
        "trans_df.columns"
      ],
      "execution_count": 174,
      "outputs": [
        {
          "output_type": "execute_result",
          "data": {
            "text/plain": [
              "Index(['DateRead', 'DeviceType', 'heater', 'humidity1', 'humidity2', 'ldr',\n",
              "       'pump', 'temp1', 'temp2'],\n",
              "      dtype='object', name='DeviceName')"
            ]
          },
          "metadata": {
            "tags": []
          },
          "execution_count": 174
        }
      ]
    },
    {
      "cell_type": "markdown",
      "metadata": {
        "id": "ZrOfXb7atKGU"
      },
      "source": [
        "# Splitting the data"
      ]
    },
    {
      "cell_type": "code",
      "metadata": {
        "id": "KqNNFUtfsmCo"
      },
      "source": [
        "X  = trans_df[['heater', 'humidity1', 'humidity2', 'pump', 'temp1', 'temp2']]\n",
        "y = trans_df['ldr']"
      ],
      "execution_count": 175,
      "outputs": []
    },
    {
      "cell_type": "code",
      "metadata": {
        "id": "9aACkwVkui2N"
      },
      "source": [
        "from sklearn.model_selection import train_test_split"
      ],
      "execution_count": 176,
      "outputs": []
    },
    {
      "cell_type": "code",
      "metadata": {
        "id": "QxnpawVfulST"
      },
      "source": [
        " X_train, X_test, y_train, y_test = train_test_split(X, y, test_size=0.3, random_state=42)"
      ],
      "execution_count": 177,
      "outputs": []
    },
    {
      "cell_type": "markdown",
      "metadata": {
        "id": "mTQAcqgon98B"
      },
      "source": [
        "# Random Forest model"
      ]
    },
    {
      "cell_type": "code",
      "metadata": {
        "id": "REBrhxgDoFW7"
      },
      "source": [
        "from sklearn.ensemble import RandomForestRegressor"
      ],
      "execution_count": 178,
      "outputs": []
    },
    {
      "cell_type": "code",
      "metadata": {
        "id": "u2TZQG33vCcQ",
        "colab": {
          "base_uri": "https://localhost:8080/"
        },
        "outputId": "2577810d-e629-48c5-b3b9-fd2d7c83f7be"
      },
      "source": [
        "model = RandomForestRegressor(n_estimators=200,random_state=0)\n",
        "model.fit(X_train, y_train)"
      ],
      "execution_count": 179,
      "outputs": [
        {
          "output_type": "execute_result",
          "data": {
            "text/plain": [
              "RandomForestRegressor(bootstrap=True, ccp_alpha=0.0, criterion='mse',\n",
              "                      max_depth=None, max_features='auto', max_leaf_nodes=None,\n",
              "                      max_samples=None, min_impurity_decrease=0.0,\n",
              "                      min_impurity_split=None, min_samples_leaf=1,\n",
              "                      min_samples_split=2, min_weight_fraction_leaf=0.0,\n",
              "                      n_estimators=200, n_jobs=None, oob_score=False,\n",
              "                      random_state=0, verbose=0, warm_start=False)"
            ]
          },
          "metadata": {
            "tags": []
          },
          "execution_count": 179
        }
      ]
    },
    {
      "cell_type": "markdown",
      "metadata": {
        "id": "HHy8YK3zdpvv"
      },
      "source": [
        "# Evaluating the Model"
      ]
    },
    {
      "cell_type": "code",
      "metadata": {
        "id": "QleZpli-dt6o"
      },
      "source": [
        "from sklearn.metrics import mean_absolute_error"
      ],
      "execution_count": 180,
      "outputs": []
    },
    {
      "cell_type": "code",
      "metadata": {
        "id": "yDy93-3dvXzN",
        "colab": {
          "base_uri": "https://localhost:8080/"
        },
        "outputId": "0da5ddfa-51c3-4178-a1f3-c6fb6e8aa066"
      },
      "source": [
        "ldr_preds = model.predict(X_test)\n",
        "print(f\"Mean Absolute Error of Model Predictions: {mean_absolute_error(y_test, ldr_preds)}\")"
      ],
      "execution_count": 181,
      "outputs": [
        {
          "output_type": "stream",
          "text": [
            "Mean Absolute Error of Model Predictions: 246.76729534118775\n"
          ],
          "name": "stdout"
        }
      ]
    },
    {
      "cell_type": "markdown",
      "metadata": {
        "id": "U3gJUbkxz07O"
      },
      "source": [
        "# Improving the model"
      ]
    },
    {
      "cell_type": "code",
      "metadata": {
        "id": "6hp8J7MnzsMg"
      },
      "source": [
        "from sklearn.model_selection import GridSearchCV,KFold\n",
        "import numpy as np\n"
      ],
      "execution_count": 182,
      "outputs": []
    },
    {
      "cell_type": "code",
      "metadata": {
        "id": "PuZjUmB9zuFg"
      },
      "source": [
        "# Create 10 folds\n",
        "seed = 13\n",
        "kfold = KFold(n_splits=10, shuffle=True, random_state=seed)"
      ],
      "execution_count": 183,
      "outputs": []
    },
    {
      "cell_type": "markdown",
      "metadata": {
        "id": "HFrHHH750z71"
      },
      "source": [
        "Defining our candidate hyperparameters"
      ]
    },
    {
      "cell_type": "code",
      "metadata": {
        "id": "cf8-revRzvwa"
      },
      "source": [
        "# Number of trees in random forest\n",
        "# n_estimators = [int(x) for x in np.linspace(start = 200, stop = 2000, num = 10)]\n",
        "\n",
        "n_estimators = [500, 600, 700]\n",
        "\n",
        "# Number of features to consider at every split\n",
        "max_features = ['auto', 'sqrt']\n",
        "\n",
        "# Maximum number of levels in tree\n",
        "max_depth = [int(x) for x in np.linspace(10, 110, num = 11)]\n",
        "max_depth.append(None)\n",
        "\n",
        "# Minimum number of samples required to split a node\n",
        "min_samples_split = [2, 5, 10]\n",
        "\n",
        "# Minimum number of samples required at each leaf node\n",
        "min_samples_leaf = [1, 2, 4]\n",
        "\n",
        "# Method of selecting samples for training each tree\n",
        "bootstrap = [True, False]\n",
        "hp_candidates = [{'n_estimators': n_estimators,\n",
        "               'max_features': max_features},\n",
        "              #  'max_depth': max_depth,\n",
        "              #  'min_samples_split': min_samples_split,\n",
        "              #  'min_samples_leaf': min_samples_leaf,\n",
        "              #  'bootstrap': bootstrap}\n",
        "              ]"
      ],
      "execution_count": 184,
      "outputs": []
    },
    {
      "cell_type": "code",
      "metadata": {
        "id": "fNVfGk32zxlt",
        "colab": {
          "base_uri": "https://localhost:8080/"
        },
        "outputId": "4275376e-5a53-4e24-99ac-b2ce0e5e1073"
      },
      "source": [
        "# Search for best hyperparameters\n",
        "grid = GridSearchCV(estimator=model, param_grid=hp_candidates, cv=kfold, scoring='r2', n_jobs=-1)\n",
        "grid.fit(X_train, y_train)"
      ],
      "execution_count": 185,
      "outputs": [
        {
          "output_type": "execute_result",
          "data": {
            "text/plain": [
              "GridSearchCV(cv=KFold(n_splits=10, random_state=13, shuffle=True),\n",
              "             error_score=nan,\n",
              "             estimator=RandomForestRegressor(bootstrap=True, ccp_alpha=0.0,\n",
              "                                             criterion='mse', max_depth=None,\n",
              "                                             max_features='auto',\n",
              "                                             max_leaf_nodes=None,\n",
              "                                             max_samples=None,\n",
              "                                             min_impurity_decrease=0.0,\n",
              "                                             min_impurity_split=None,\n",
              "                                             min_samples_leaf=1,\n",
              "                                             min_samples_split=2,\n",
              "                                             min_weight_fraction_leaf=0.0,\n",
              "                                             n_estimators=200, n_jobs=None,\n",
              "                                             oob_score=False, random_state=0,\n",
              "                                             verbose=0, warm_start=False),\n",
              "             iid='deprecated', n_jobs=-1,\n",
              "             param_grid=[{'max_features': ['auto', 'sqrt'],\n",
              "                          'n_estimators': [500, 600, 700]}],\n",
              "             pre_dispatch='2*n_jobs', refit=True, return_train_score=False,\n",
              "             scoring='r2', verbose=0)"
            ]
          },
          "metadata": {
            "tags": []
          },
          "execution_count": 185
        }
      ]
    },
    {
      "cell_type": "code",
      "metadata": {
        "id": "7fPpa30EzrBe",
        "colab": {
          "base_uri": "https://localhost:8080/"
        },
        "outputId": "f09cd348-255c-4f1d-a6ad-0dc101a44349"
      },
      "source": [
        "# Get the results\n",
        "print(grid.best_score_)\n",
        "print(grid.best_estimator_)\n",
        "print(grid.best_params_)"
      ],
      "execution_count": 186,
      "outputs": [
        {
          "output_type": "stream",
          "text": [
            "0.0951164268239466\n",
            "RandomForestRegressor(bootstrap=True, ccp_alpha=0.0, criterion='mse',\n",
            "                      max_depth=None, max_features='auto', max_leaf_nodes=None,\n",
            "                      max_samples=None, min_impurity_decrease=0.0,\n",
            "                      min_impurity_split=None, min_samples_leaf=1,\n",
            "                      min_samples_split=2, min_weight_fraction_leaf=0.0,\n",
            "                      n_estimators=600, n_jobs=None, oob_score=False,\n",
            "                      random_state=0, verbose=0, warm_start=False)\n",
            "{'max_features': 'auto', 'n_estimators': 600}\n"
          ],
          "name": "stdout"
        }
      ]
    },
    {
      "cell_type": "code",
      "metadata": {
        "id": "OhcR--vfwDzm"
      },
      "source": [
        "mean_abs_errors = []\n",
        "for i in range(500, 2000, 50):\n",
        "  model = RandomForestRegressor(n_estimators=i, random_state=0)\n",
        "  model.fit(X_train, y_train)\n",
        "  mae = mean_absolute_error(y_train, model.predict(X_train))\n",
        "  mean_abs_errors.append(mae)"
      ],
      "execution_count": 187,
      "outputs": []
    },
    {
      "cell_type": "code",
      "metadata": {
        "colab": {
          "base_uri": "https://localhost:8080/",
          "height": 283
        },
        "id": "Z3sHDZi3ymau",
        "outputId": "82e9877e-1923-4060-9cd2-e60a98094cd5"
      },
      "source": [
        "import matplotlib.pyplot as plt\n",
        "\n",
        "plt.plot(list(range(500, 2000, 50)), mean_abs_errors)"
      ],
      "execution_count": 188,
      "outputs": [
        {
          "output_type": "execute_result",
          "data": {
            "text/plain": [
              "[<matplotlib.lines.Line2D at 0x7ffa9bc7d898>]"
            ]
          },
          "metadata": {
            "tags": []
          },
          "execution_count": 188
        },
        {
          "output_type": "display_data",
          "data": {
            "image/png": "[encoded data removed]",
            "text/plain": [
              "<Figure size 432x288 with 1 Axes>"
            ]
          },
          "metadata": {
            "tags": [],
            "needs_background": "light"
          }
        }
      ]
    },
    {
      "cell_type": "markdown",
      "metadata": {
        "id": "Uw5QkI_30-Aw"
      },
      "source": [
        "The best model has n_estimators = 600"
      ]
    },
    {
      "cell_type": "code",
      "metadata": {
        "colab": {
          "base_uri": "https://localhost:8080/"
        },
        "id": "OHbj-yh61Dsu",
        "outputId": "d921c8fc-5180-408e-a1da-cbe7280ef569"
      },
      "source": [
        "  model = RandomForestRegressor(n_estimators=600, random_state=0)\n",
        "  model.fit(X_train, y_train)\n",
        "  mae = mean_absolute_error(y_train, model.predict(X_train))\n",
        "  print(f\"Mean Absolute Error of Model Predictions(Training Data): {mae}\")"
      ],
      "execution_count": 189,
      "outputs": [
        {
          "output_type": "stream",
          "text": [
            "Mean Absolute Error of Model Predictions(Training Data): 103.88984941071368\n"
          ],
          "name": "stdout"
        }
      ]
    },
    {
      "cell_type": "code",
      "metadata": {
        "colab": {
          "base_uri": "https://localhost:8080/"
        },
        "id": "yyTWwSz1F_00",
        "outputId": "48cc287e-9d6f-4a81-a06d-5f25ace4e08f"
      },
      "source": [
        "  y_pred = model.predict(X_test)\n",
        "  mae = mean_absolute_error(y_test, y_pred)\n",
        "  print(f\"Mean Absolute Error of Model Predictions(Testing Data): {mae}\")"
      ],
      "execution_count": 190,
      "outputs": [
        {
          "output_type": "stream",
          "text": [
            "Mean Absolute Error of Model Predictions(Testing Data): 247.00906174944475\n"
          ],
          "name": "stdout"
        }
      ]
    },
    {
      "cell_type": "code",
      "metadata": {
        "colab": {
          "base_uri": "https://localhost:8080/",
          "height": 415
        },
        "id": "_LHKrFXqGUFC",
        "outputId": "6cd0d123-24a4-44ab-86f9-ab91c620b13c"
      },
      "source": [
        "predictions = pd.DataFrame(zip(y_test, y_pred), columns=[\"LDR Actual Value\", \"LDR Predicted Value\"])\n",
        "predictions"
      ],
      "execution_count": 191,
      "outputs": [
        {
          "output_type": "execute_result",
          "data": {
            "text/html": [
              "<div>\n",
              "<style scoped>\n",
              "    .dataframe tbody tr th:only-of-type {\n",
              "        vertical-align: middle;\n",
              "    }\n",
              "\n",
              "    .dataframe tbody tr th {\n",
              "        vertical-align: top;\n",
              "    }\n",
              "\n",
              "    .dataframe thead th {\n",
              "        text-align: right;\n",
              "    }\n",
              "</style>\n",
              "<table border=\"1\" class=\"dataframe\">\n",
              "  <thead>\n",
              "    <tr style=\"text-align: right;\">\n",
              "      <th></th>\n",
              "      <th>LDR Actual Value</th>\n",
              "      <th>LDR Predicted Value</th>\n",
              "    </tr>\n",
              "  </thead>\n",
              "  <tbody>\n",
              "    <tr>\n",
              "      <th>0</th>\n",
              "      <td>602.0</td>\n",
              "      <td>462.736556</td>\n",
              "    </tr>\n",
              "    <tr>\n",
              "      <th>1</th>\n",
              "      <td>239.0</td>\n",
              "      <td>344.180056</td>\n",
              "    </tr>\n",
              "    <tr>\n",
              "      <th>2</th>\n",
              "      <td>947.0</td>\n",
              "      <td>364.255139</td>\n",
              "    </tr>\n",
              "    <tr>\n",
              "      <th>3</th>\n",
              "      <td>384.0</td>\n",
              "      <td>348.439667</td>\n",
              "    </tr>\n",
              "    <tr>\n",
              "      <th>4</th>\n",
              "      <td>933.0</td>\n",
              "      <td>651.088194</td>\n",
              "    </tr>\n",
              "    <tr>\n",
              "      <th>...</th>\n",
              "      <td>...</td>\n",
              "      <td>...</td>\n",
              "    </tr>\n",
              "    <tr>\n",
              "      <th>2202</th>\n",
              "      <td>922.0</td>\n",
              "      <td>762.589824</td>\n",
              "    </tr>\n",
              "    <tr>\n",
              "      <th>2203</th>\n",
              "      <td>853.0</td>\n",
              "      <td>480.804583</td>\n",
              "    </tr>\n",
              "    <tr>\n",
              "      <th>2204</th>\n",
              "      <td>914.0</td>\n",
              "      <td>488.410222</td>\n",
              "    </tr>\n",
              "    <tr>\n",
              "      <th>2205</th>\n",
              "      <td>836.0</td>\n",
              "      <td>718.121389</td>\n",
              "    </tr>\n",
              "    <tr>\n",
              "      <th>2206</th>\n",
              "      <td>976.0</td>\n",
              "      <td>899.095417</td>\n",
              "    </tr>\n",
              "  </tbody>\n",
              "</table>\n",
              "<p>2207 rows × 2 columns</p>\n",
              "</div>"
            ],
            "text/plain": [
              "      LDR Actual Value  LDR Predicted Value\n",
              "0                602.0           462.736556\n",
              "1                239.0           344.180056\n",
              "2                947.0           364.255139\n",
              "3                384.0           348.439667\n",
              "4                933.0           651.088194\n",
              "...                ...                  ...\n",
              "2202             922.0           762.589824\n",
              "2203             853.0           480.804583\n",
              "2204             914.0           488.410222\n",
              "2205             836.0           718.121389\n",
              "2206             976.0           899.095417\n",
              "\n",
              "[2207 rows x 2 columns]"
            ]
          },
          "metadata": {
            "tags": []
          },
          "execution_count": 191
        }
      ]
    },
    {
      "cell_type": "markdown",
      "metadata": {
        "id": "dQMiEBWkz--T"
      },
      "source": [
        "# LDR value Prediction \n",
        "\n",
        "- temp1=40\n",
        "- temp2=20\n",
        "- heater is off\n",
        "- humidity1=60\n",
        "- humidity2=90\n",
        "- pump =on"
      ]
    },
    {
      "cell_type": "code",
      "metadata": {
        "colab": {
          "base_uri": "https://localhost:8080/"
        },
        "id": "RJBi0MIV3H8k",
        "outputId": "605c332d-09e1-4184-baaf-e185719093ab"
      },
      "source": [
        "X_test.shape"
      ],
      "execution_count": 192,
      "outputs": [
        {
          "output_type": "execute_result",
          "data": {
            "text/plain": [
              "(2207, 6)"
            ]
          },
          "metadata": {
            "tags": []
          },
          "execution_count": 192
        }
      ]
    },
    {
      "cell_type": "code",
      "metadata": {
        "colab": {
          "base_uri": "https://localhost:8080/"
        },
        "id": "JJoYPkRy3NSt",
        "outputId": "f75a2904-c84d-41d6-a91f-5d424ca06086"
      },
      "source": [
        "X_test.columns"
      ],
      "execution_count": 193,
      "outputs": [
        {
          "output_type": "execute_result",
          "data": {
            "text/plain": [
              "Index(['heater', 'humidity1', 'humidity2', 'pump', 'temp1', 'temp2'], dtype='object', name='DeviceName')"
            ]
          },
          "metadata": {
            "tags": []
          },
          "execution_count": 193
        }
      ]
    },
    {
      "cell_type": "code",
      "metadata": {
        "colab": {
          "base_uri": "https://localhost:8080/",
          "height": 79
        },
        "id": "kZAslOj_1U-A",
        "outputId": "c4032d21-4813-4136-b79a-aa7312904e47"
      },
      "source": [
        "\n",
        "x_test = pd.DataFrame( [[0, 60, 90, 1, 40, 20]],columns=['heater', 'humidity1', 'humidity2', 'pump', 'temp1', 'temp2'])\n",
        "x_test"
      ],
      "execution_count": 194,
      "outputs": [
        {
          "output_type": "execute_result",
          "data": {
            "text/html": [
              "<div>\n",
              "<style scoped>\n",
              "    .dataframe tbody tr th:only-of-type {\n",
              "        vertical-align: middle;\n",
              "    }\n",
              "\n",
              "    .dataframe tbody tr th {\n",
              "        vertical-align: top;\n",
              "    }\n",
              "\n",
              "    .dataframe thead th {\n",
              "        text-align: right;\n",
              "    }\n",
              "</style>\n",
              "<table border=\"1\" class=\"dataframe\">\n",
              "  <thead>\n",
              "    <tr style=\"text-align: right;\">\n",
              "      <th></th>\n",
              "      <th>heater</th>\n",
              "      <th>humidity1</th>\n",
              "      <th>humidity2</th>\n",
              "      <th>pump</th>\n",
              "      <th>temp1</th>\n",
              "      <th>temp2</th>\n",
              "    </tr>\n",
              "  </thead>\n",
              "  <tbody>\n",
              "    <tr>\n",
              "      <th>0</th>\n",
              "      <td>0</td>\n",
              "      <td>60</td>\n",
              "      <td>90</td>\n",
              "      <td>1</td>\n",
              "      <td>40</td>\n",
              "      <td>20</td>\n",
              "    </tr>\n",
              "  </tbody>\n",
              "</table>\n",
              "</div>"
            ],
            "text/plain": [
              "   heater  humidity1  humidity2  pump  temp1  temp2\n",
              "0       0         60         90     1     40     20"
            ]
          },
          "metadata": {
            "tags": []
          },
          "execution_count": 194
        }
      ]
    },
    {
      "cell_type": "code",
      "metadata": {
        "colab": {
          "base_uri": "https://localhost:8080/",
          "height": 79
        },
        "id": "3ETNdQ4g4YyO",
        "outputId": "c71cc962-416c-44b7-82a3-f4f4a11914f7"
      },
      "source": [
        "x_test[\"Predicted LDR value\"] = model.predict(x_test)\n",
        "x_test"
      ],
      "execution_count": 195,
      "outputs": [
        {
          "output_type": "execute_result",
          "data": {
            "text/html": [
              "<div>\n",
              "<style scoped>\n",
              "    .dataframe tbody tr th:only-of-type {\n",
              "        vertical-align: middle;\n",
              "    }\n",
              "\n",
              "    .dataframe tbody tr th {\n",
              "        vertical-align: top;\n",
              "    }\n",
              "\n",
              "    .dataframe thead th {\n",
              "        text-align: right;\n",
              "    }\n",
              "</style>\n",
              "<table border=\"1\" class=\"dataframe\">\n",
              "  <thead>\n",
              "    <tr style=\"text-align: right;\">\n",
              "      <th></th>\n",
              "      <th>heater</th>\n",
              "      <th>humidity1</th>\n",
              "      <th>humidity2</th>\n",
              "      <th>pump</th>\n",
              "      <th>temp1</th>\n",
              "      <th>temp2</th>\n",
              "      <th>Predicted LDR value</th>\n",
              "    </tr>\n",
              "  </thead>\n",
              "  <tbody>\n",
              "    <tr>\n",
              "      <th>0</th>\n",
              "      <td>0</td>\n",
              "      <td>60</td>\n",
              "      <td>90</td>\n",
              "      <td>1</td>\n",
              "      <td>40</td>\n",
              "      <td>20</td>\n",
              "      <td>544.557361</td>\n",
              "    </tr>\n",
              "  </tbody>\n",
              "</table>\n",
              "</div>"
            ],
            "text/plain": [
              "   heater  humidity1  humidity2  pump  temp1  temp2  Predicted LDR value\n",
              "0       0         60         90     1     40     20           544.557361"
            ]
          },
          "metadata": {
            "tags": []
          },
          "execution_count": 195
        }
      ]
    },
    {
      "cell_type": "markdown",
      "metadata": {
        "id": "wPQG39a69sOh"
      },
      "source": [
        "The predicted LDR value when the heater is off, pump is on, humidity1 is 60, humidity2 is 90, temp1 is 40 and temp2 is 20 is 544.551 [+/- 247]"
      ]
    }
  ]
}