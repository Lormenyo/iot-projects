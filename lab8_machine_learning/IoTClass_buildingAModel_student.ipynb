{
 "cells": [
  {
   "cell_type": "code",
   "execution_count": 14,
   "metadata": {},
   "outputs": [
    {
     "data": {
      "text/html": [
       "<div>\n",
       "<style scoped>\n",
       "    .dataframe tbody tr th:only-of-type {\n",
       "        vertical-align: middle;\n",
       "    }\n",
       "\n",
       "    .dataframe tbody tr th {\n",
       "        vertical-align: top;\n",
       "    }\n",
       "\n",
       "    .dataframe thead th {\n",
       "        text-align: right;\n",
       "    }\n",
       "</style>\n",
       "<table border=\"1\" class=\"dataframe\">\n",
       "  <thead>\n",
       "    <tr style=\"text-align: right;\">\n",
       "      <th></th>\n",
       "      <th>tempID</th>\n",
       "      <th>theTime</th>\n",
       "      <th>temperature</th>\n",
       "      <th>groupName</th>\n",
       "    </tr>\n",
       "  </thead>\n",
       "  <tbody>\n",
       "    <tr>\n",
       "      <th>0</th>\n",
       "      <td>2</td>\n",
       "      <td>2019-07-10 12:37:52</td>\n",
       "      <td>22.2</td>\n",
       "      <td></td>\n",
       "    </tr>\n",
       "    <tr>\n",
       "      <th>1</th>\n",
       "      <td>5</td>\n",
       "      <td>2019-07-10 12:42:32</td>\n",
       "      <td>44.2</td>\n",
       "      <td></td>\n",
       "    </tr>\n",
       "    <tr>\n",
       "      <th>2</th>\n",
       "      <td>6</td>\n",
       "      <td>2019-07-10 12:42:37</td>\n",
       "      <td>44.2</td>\n",
       "      <td></td>\n",
       "    </tr>\n",
       "    <tr>\n",
       "      <th>3</th>\n",
       "      <td>7</td>\n",
       "      <td>2020-02-07 08:42:29</td>\n",
       "      <td>444.0</td>\n",
       "      <td></td>\n",
       "    </tr>\n",
       "    <tr>\n",
       "      <th>4</th>\n",
       "      <td>8</td>\n",
       "      <td>2020-02-07 08:42:35</td>\n",
       "      <td>444.0</td>\n",
       "      <td></td>\n",
       "    </tr>\n",
       "  </tbody>\n",
       "</table>\n",
       "</div>"
      ],
      "text/plain": [
       "   tempID              theTime  temperature groupName\n",
       "0       2  2019-07-10 12:37:52         22.2          \n",
       "1       5  2019-07-10 12:42:32         44.2          \n",
       "2       6  2019-07-10 12:42:37         44.2          \n",
       "3       7  2020-02-07 08:42:29        444.0          \n",
       "4       8  2020-02-07 08:42:35        444.0          "
      ]
     },
     "execution_count": 14,
     "metadata": {},
     "output_type": "execute_result"
    }
   ],
   "source": [
    "import pandas as pd\n",
    "url=\"http://eng.ashesi.edu.gh/~namanquah/iot/tempdata.php?listing\"\n",
    "df = pd.read_json(url)\n",
    "df.head()"
   ]
  },
  {
   "cell_type": "code",
   "execution_count": 15,
   "metadata": {
    "id": "VmlIX_Rkrxzn"
   },
   "outputs": [],
   "source": [
    "df.to_csv(\"mydata.csv\")"
   ]
  },
  {
   "cell_type": "code",
   "execution_count": 16,
   "metadata": {
    "id": "vqGHIxUVOBqc"
   },
   "outputs": [],
   "source": [
    "df2=pd.read_csv(\"mydata.csv\")"
   ]
  },
  {
   "cell_type": "code",
   "execution_count": 17,
   "metadata": {
    "colab": {
     "base_uri": "https://localhost:8080/",
     "height": 195
    },
    "id": "3txdpcNNsqWN",
    "outputId": "c0db2107-1f30-4f27-cdbe-fe6f658296a6"
   },
   "outputs": [
    {
     "data": {
      "text/html": [
       "<div>\n",
       "<style scoped>\n",
       "    .dataframe tbody tr th:only-of-type {\n",
       "        vertical-align: middle;\n",
       "    }\n",
       "\n",
       "    .dataframe tbody tr th {\n",
       "        vertical-align: top;\n",
       "    }\n",
       "\n",
       "    .dataframe thead th {\n",
       "        text-align: right;\n",
       "    }\n",
       "</style>\n",
       "<table border=\"1\" class=\"dataframe\">\n",
       "  <thead>\n",
       "    <tr style=\"text-align: right;\">\n",
       "      <th></th>\n",
       "      <th>Unnamed: 0</th>\n",
       "      <th>tempID</th>\n",
       "      <th>theTime</th>\n",
       "      <th>temperature</th>\n",
       "      <th>groupName</th>\n",
       "    </tr>\n",
       "  </thead>\n",
       "  <tbody>\n",
       "    <tr>\n",
       "      <th>0</th>\n",
       "      <td>0</td>\n",
       "      <td>2</td>\n",
       "      <td>2019-07-10 12:37:52</td>\n",
       "      <td>22.2</td>\n",
       "      <td>NaN</td>\n",
       "    </tr>\n",
       "    <tr>\n",
       "      <th>1</th>\n",
       "      <td>1</td>\n",
       "      <td>5</td>\n",
       "      <td>2019-07-10 12:42:32</td>\n",
       "      <td>44.2</td>\n",
       "      <td>NaN</td>\n",
       "    </tr>\n",
       "    <tr>\n",
       "      <th>2</th>\n",
       "      <td>2</td>\n",
       "      <td>6</td>\n",
       "      <td>2019-07-10 12:42:37</td>\n",
       "      <td>44.2</td>\n",
       "      <td>NaN</td>\n",
       "    </tr>\n",
       "    <tr>\n",
       "      <th>3</th>\n",
       "      <td>3</td>\n",
       "      <td>7</td>\n",
       "      <td>2020-02-07 08:42:29</td>\n",
       "      <td>444.0</td>\n",
       "      <td>NaN</td>\n",
       "    </tr>\n",
       "    <tr>\n",
       "      <th>4</th>\n",
       "      <td>4</td>\n",
       "      <td>8</td>\n",
       "      <td>2020-02-07 08:42:35</td>\n",
       "      <td>444.0</td>\n",
       "      <td>NaN</td>\n",
       "    </tr>\n",
       "  </tbody>\n",
       "</table>\n",
       "</div>"
      ],
      "text/plain": [
       "   Unnamed: 0  tempID              theTime  temperature groupName\n",
       "0           0       2  2019-07-10 12:37:52         22.2       NaN\n",
       "1           1       5  2019-07-10 12:42:32         44.2       NaN\n",
       "2           2       6  2019-07-10 12:42:37         44.2       NaN\n",
       "3           3       7  2020-02-07 08:42:29        444.0       NaN\n",
       "4           4       8  2020-02-07 08:42:35        444.0       NaN"
      ]
     },
     "execution_count": 17,
     "metadata": {},
     "output_type": "execute_result"
    }
   ],
   "source": [
    "df2.head()"
   ]
  },
  {
   "cell_type": "code",
   "execution_count": 18,
   "metadata": {
    "colab": {
     "base_uri": "https://localhost:8080/"
    },
    "id": "K9ED6Zncunsb",
    "outputId": "2a00394d-aaed-4305-8f9b-a74e48578e78"
   },
   "outputs": [
    {
     "name": "stdout",
     "output_type": "stream",
     "text": [
      "<class 'pandas.core.frame.DataFrame'>\n",
      "RangeIndex: 22823 entries, 0 to 22822\n",
      "Data columns (total 4 columns):\n",
      " #   Column       Non-Null Count  Dtype  \n",
      "---  ------       --------------  -----  \n",
      " 0   tempID       22823 non-null  int64  \n",
      " 1   theTime      22823 non-null  object \n",
      " 2   temperature  22823 non-null  float64\n",
      " 3   groupName    22823 non-null  object \n",
      "dtypes: float64(1), int64(1), object(2)\n",
      "memory usage: 713.3+ KB\n"
     ]
    }
   ],
   "source": [
    "df.info()"
   ]
  },
  {
   "cell_type": "code",
   "execution_count": 19,
   "metadata": {
    "colab": {
     "base_uri": "https://localhost:8080/",
     "height": 195
    },
    "id": "cgxj2VgxsiUM",
    "outputId": "d102189b-0e9b-42b1-c2eb-6d613519b65e"
   },
   "outputs": [
    {
     "data": {
      "text/html": [
       "<div>\n",
       "<style scoped>\n",
       "    .dataframe tbody tr th:only-of-type {\n",
       "        vertical-align: middle;\n",
       "    }\n",
       "\n",
       "    .dataframe tbody tr th {\n",
       "        vertical-align: top;\n",
       "    }\n",
       "\n",
       "    .dataframe thead th {\n",
       "        text-align: right;\n",
       "    }\n",
       "</style>\n",
       "<table border=\"1\" class=\"dataframe\">\n",
       "  <thead>\n",
       "    <tr style=\"text-align: right;\">\n",
       "      <th></th>\n",
       "      <th>Unnamed: 0</th>\n",
       "      <th>tempID</th>\n",
       "      <th>theTime</th>\n",
       "      <th>temperature</th>\n",
       "      <th>groupName</th>\n",
       "    </tr>\n",
       "  </thead>\n",
       "  <tbody>\n",
       "    <tr>\n",
       "      <th>0</th>\n",
       "      <td>0</td>\n",
       "      <td>2</td>\n",
       "      <td>2019-07-10 12:37:52</td>\n",
       "      <td>22.2</td>\n",
       "      <td>NaN</td>\n",
       "    </tr>\n",
       "    <tr>\n",
       "      <th>1</th>\n",
       "      <td>1</td>\n",
       "      <td>5</td>\n",
       "      <td>2019-07-10 12:42:32</td>\n",
       "      <td>44.2</td>\n",
       "      <td>NaN</td>\n",
       "    </tr>\n",
       "    <tr>\n",
       "      <th>2</th>\n",
       "      <td>2</td>\n",
       "      <td>6</td>\n",
       "      <td>2019-07-10 12:42:37</td>\n",
       "      <td>44.2</td>\n",
       "      <td>NaN</td>\n",
       "    </tr>\n",
       "    <tr>\n",
       "      <th>3</th>\n",
       "      <td>3</td>\n",
       "      <td>7</td>\n",
       "      <td>2020-02-07 08:42:29</td>\n",
       "      <td>444.0</td>\n",
       "      <td>NaN</td>\n",
       "    </tr>\n",
       "    <tr>\n",
       "      <th>4</th>\n",
       "      <td>4</td>\n",
       "      <td>8</td>\n",
       "      <td>2020-02-07 08:42:35</td>\n",
       "      <td>444.0</td>\n",
       "      <td>NaN</td>\n",
       "    </tr>\n",
       "  </tbody>\n",
       "</table>\n",
       "</div>"
      ],
      "text/plain": [
       "   Unnamed: 0  tempID              theTime  temperature groupName\n",
       "0           0       2  2019-07-10 12:37:52         22.2       NaN\n",
       "1           1       5  2019-07-10 12:42:32         44.2       NaN\n",
       "2           2       6  2019-07-10 12:42:37         44.2       NaN\n",
       "3           3       7  2020-02-07 08:42:29        444.0       NaN\n",
       "4           4       8  2020-02-07 08:42:35        444.0       NaN"
      ]
     },
     "execution_count": 19,
     "metadata": {},
     "output_type": "execute_result"
    }
   ],
   "source": [
    "df2.head()\n"
   ]
  },
  {
   "cell_type": "code",
   "execution_count": 20,
   "metadata": {
    "colab": {
     "base_uri": "https://localhost:8080/"
    },
    "id": "UITPYHheut-x",
    "outputId": "0b8940c4-5ed2-4d31-918c-6057a9dd2ba4"
   },
   "outputs": [
    {
     "name": "stdout",
     "output_type": "stream",
     "text": [
      "<class 'pandas.core.frame.DataFrame'>\n",
      "RangeIndex: 22823 entries, 0 to 22822\n",
      "Data columns (total 5 columns):\n",
      " #   Column       Non-Null Count  Dtype  \n",
      "---  ------       --------------  -----  \n",
      " 0   Unnamed: 0   22823 non-null  int64  \n",
      " 1   tempID       22823 non-null  int64  \n",
      " 2   theTime      22823 non-null  object \n",
      " 3   temperature  22823 non-null  float64\n",
      " 4   groupName    22816 non-null  object \n",
      "dtypes: float64(1), int64(2), object(2)\n",
      "memory usage: 891.6+ KB\n"
     ]
    }
   ],
   "source": [
    "df2.info()"
   ]
  },
  {
   "cell_type": "code",
   "execution_count": 21,
   "metadata": {
    "colab": {
     "base_uri": "https://localhost:8080/",
     "height": 298
    },
    "id": "32Lg_7mcuB7B",
    "outputId": "eb49d8d9-dda2-4d35-dcfa-88eb2212825a"
   },
   "outputs": [
    {
     "data": {
      "text/plain": [
       "<AxesSubplot:title={'center':'ashesi data'}>"
      ]
     },
     "execution_count": 21,
     "metadata": {},
     "output_type": "execute_result"
    },
    {
     "data": {
      "image/png": "[encoded data removed]",
      "text/plain": [
       "<Figure size 432x288 with 1 Axes>"
      ]
     },
     "metadata": {
      "needs_background": "light"
     },
     "output_type": "display_data"
    }
   ],
   "source": [
    "df.plot(title=\"ashesi data\")"
   ]
  },
  {
   "cell_type": "code",
   "execution_count": 22,
   "metadata": {
    "colab": {
     "base_uri": "https://localhost:8080/",
     "height": 298
    },
    "id": "gd-1rAKGuRpx",
    "outputId": "9f9cf741-7f23-43a1-ea0b-8134371830ad"
   },
   "outputs": [
    {
     "data": {
      "text/plain": [
       "<AxesSubplot:title={'center':'only temperature'}>"
      ]
     },
     "execution_count": 22,
     "metadata": {},
     "output_type": "execute_result"
    },
    {
     "data": {
      "image/png": "[encoded data removed]",
      "text/plain": [
       "<Figure size 432x288 with 1 Axes>"
      ]
     },
     "metadata": {
      "needs_background": "light"
     },
     "output_type": "display_data"
    }
   ],
   "source": [
    "df[\"temperature\"].plot(title=\"only temperature\")"
   ]
  },
  {
   "cell_type": "code",
   "execution_count": 23,
   "metadata": {
    "colab": {
     "base_uri": "https://localhost:8080/",
     "height": 295
    },
    "id": "CegynZL2OZUT",
    "outputId": "da6fc557-4e70-4c81-83c9-c13e7d44c624"
   },
   "outputs": [
    {
     "data": {
      "text/plain": [
       "<AxesSubplot:>"
      ]
     },
     "execution_count": 23,
     "metadata": {},
     "output_type": "execute_result"
    },
    {
     "data": {
      "image/png": "[encoded data removed]",
      "text/plain": [
       "<Figure size 432x288 with 1 Axes>"
      ]
     },
     "metadata": {
      "needs_background": "light"
     },
     "output_type": "display_data"
    }
   ],
   "source": [
    "\n",
    "df[\"temperature\"].hist(bins=50)"
   ]
  },
  {
   "cell_type": "code",
   "execution_count": 24,
   "metadata": {
    "colab": {
     "base_uri": "https://localhost:8080/"
    },
    "id": "r6uaJMHBx3gL",
    "outputId": "82f0bcf9-2257-4a33-973e-9157147340ef"
   },
   "outputs": [
    {
     "name": "stdout",
     "output_type": "stream",
     "text": [
      "Collecting paho-mqtt\n",
      "  Downloading paho-mqtt-1.5.1.tar.gz (101 kB)\n",
      "Using legacy 'setup.py install' for paho-mqtt, since package 'wheel' is not installed.\n",
      "Installing collected packages: paho-mqtt\n",
      "    Running setup.py install for paho-mqtt: started\n",
      "    Running setup.py install for paho-mqtt: finished with status 'done'\n",
      "Successfully installed paho-mqtt-1.5.1\n"
     ]
    },
    {
     "name": "stderr",
     "output_type": "stream",
     "text": [
      "WARNING: You are using pip version 20.2.3; however, version 20.2.4 is available.\n",
      "You should consider upgrading via the 'c:\\users\\lorme\\appdata\\local\\programs\\python\\python39\\python.exe -m pip install --upgrade pip' command.\n"
     ]
    }
   ],
   "source": [
    "#we are not using this for todays class though\n",
    "!pip install paho-mqtt"
   ]
  },
  {
   "cell_type": "code",
   "execution_count": 25,
   "metadata": {
    "id": "r_iJCjVHOrBs"
   },
   "outputs": [],
   "source": [
    "#we are not using this for todays class though\n",
    "# import paho.mqtt.subscribe as subscribe \n"
   ]
  },
  {
   "cell_type": "code",
   "execution_count": 26,
   "metadata": {
    "id": "xY5irtsHyTZW"
   },
   "outputs": [],
   "source": [
    "#we are not using this for todays class though\n",
    "#highlight and use ctrl+/ to uncomment\n",
    "# def on_message(client, userdata, message):\n",
    "# \tprint(\"{} : {}\".format(message.topic, message.payload))\n",
    "\n",
    "# subscribe.callback(on_message, topics=\"AshesiInTopic\",hostname=\"broker.hivemq.com\")\n"
   ]
  },
  {
   "cell_type": "code",
   "execution_count": 27,
   "metadata": {
    "id": "FX22Is3rztA7"
   },
   "outputs": [],
   "source": [
    "from matplotlib import pyplot as plt"
   ]
  },
  {
   "cell_type": "code",
   "execution_count": 28,
   "metadata": {
    "id": "X0Q7bB1ozwpu"
   },
   "outputs": [],
   "source": [
    "df2=pd.read_csv(\"mydata.csv\")\n",
    "df1=df2[df2['temperature']<1000]\n",
    "\n",
    "df2=df1[df1['temperature']>-1000]"
   ]
  },
  {
   "cell_type": "code",
   "execution_count": 29,
   "metadata": {
    "colab": {
     "base_uri": "https://localhost:8080/",
     "height": 284
    },
    "id": "WyZervoH5xcZ",
    "outputId": "f92eb3b1-0b57-4999-dc59-fae81b13f81d"
   },
   "outputs": [
    {
     "data": {
      "text/html": [
       "<div>\n",
       "<style scoped>\n",
       "    .dataframe tbody tr th:only-of-type {\n",
       "        vertical-align: middle;\n",
       "    }\n",
       "\n",
       "    .dataframe tbody tr th {\n",
       "        vertical-align: top;\n",
       "    }\n",
       "\n",
       "    .dataframe thead th {\n",
       "        text-align: right;\n",
       "    }\n",
       "</style>\n",
       "<table border=\"1\" class=\"dataframe\">\n",
       "  <thead>\n",
       "    <tr style=\"text-align: right;\">\n",
       "      <th></th>\n",
       "      <th>Unnamed: 0</th>\n",
       "      <th>tempID</th>\n",
       "      <th>temperature</th>\n",
       "    </tr>\n",
       "  </thead>\n",
       "  <tbody>\n",
       "    <tr>\n",
       "      <th>count</th>\n",
       "      <td>14765.000000</td>\n",
       "      <td>14765.000000</td>\n",
       "      <td>14765.000000</td>\n",
       "    </tr>\n",
       "    <tr>\n",
       "      <th>mean</th>\n",
       "      <td>10686.611988</td>\n",
       "      <td>10711.189638</td>\n",
       "      <td>271.428054</td>\n",
       "    </tr>\n",
       "    <tr>\n",
       "      <th>std</th>\n",
       "      <td>6782.554087</td>\n",
       "      <td>6785.116656</td>\n",
       "      <td>283.913442</td>\n",
       "    </tr>\n",
       "    <tr>\n",
       "      <th>min</th>\n",
       "      <td>0.000000</td>\n",
       "      <td>2.000000</td>\n",
       "      <td>-953.000000</td>\n",
       "    </tr>\n",
       "    <tr>\n",
       "      <th>25%</th>\n",
       "      <td>4426.000000</td>\n",
       "      <td>4449.000000</td>\n",
       "      <td>42.000000</td>\n",
       "    </tr>\n",
       "    <tr>\n",
       "      <th>50%</th>\n",
       "      <td>10009.000000</td>\n",
       "      <td>10036.000000</td>\n",
       "      <td>150.000000</td>\n",
       "    </tr>\n",
       "    <tr>\n",
       "      <th>75%</th>\n",
       "      <td>15548.000000</td>\n",
       "      <td>15575.000000</td>\n",
       "      <td>460.000000</td>\n",
       "    </tr>\n",
       "    <tr>\n",
       "      <th>max</th>\n",
       "      <td>22822.000000</td>\n",
       "      <td>22849.000000</td>\n",
       "      <td>999.000000</td>\n",
       "    </tr>\n",
       "  </tbody>\n",
       "</table>\n",
       "</div>"
      ],
      "text/plain": [
       "         Unnamed: 0        tempID   temperature\n",
       "count  14765.000000  14765.000000  14765.000000\n",
       "mean   10686.611988  10711.189638    271.428054\n",
       "std     6782.554087   6785.116656    283.913442\n",
       "min        0.000000      2.000000   -953.000000\n",
       "25%     4426.000000   4449.000000     42.000000\n",
       "50%    10009.000000  10036.000000    150.000000\n",
       "75%    15548.000000  15575.000000    460.000000\n",
       "max    22822.000000  22849.000000    999.000000"
      ]
     },
     "execution_count": 29,
     "metadata": {},
     "output_type": "execute_result"
    }
   ],
   "source": [
    "df2.describe()\n",
    "#df2.info(  )"
   ]
  },
  {
   "cell_type": "code",
   "execution_count": 30,
   "metadata": {
    "colab": {
     "base_uri": "https://localhost:8080/",
     "height": 282
    },
    "id": "p3dBN3Wk6P47",
    "outputId": "2d079548-6581-49f9-f047-22a979577572"
   },
   "outputs": [
    {
     "data": {
      "text/plain": [
       "<AxesSubplot:>"
      ]
     },
     "execution_count": 30,
     "metadata": {},
     "output_type": "execute_result"
    },
    {
     "data": {
      "image/png": "[encoded data removed]",
      "text/plain": [
       "<Figure size 432x288 with 1 Axes>"
      ]
     },
     "metadata": {
      "needs_background": "light"
     },
     "output_type": "display_data"
    }
   ],
   "source": [
    "df2[\"temperature\"].plot()"
   ]
  },
  {
   "cell_type": "code",
   "execution_count": 31,
   "metadata": {
    "colab": {
     "base_uri": "https://localhost:8080/",
     "height": 297
    },
    "id": "jPS7nrTMAe7r",
    "outputId": "3c43cf63-ad5a-451d-c687-83efa519df32"
   },
   "outputs": [
    {
     "data": {
      "text/html": [
       "<div>\n",
       "<style scoped>\n",
       "    .dataframe tbody tr th:only-of-type {\n",
       "        vertical-align: middle;\n",
       "    }\n",
       "\n",
       "    .dataframe tbody tr th {\n",
       "        vertical-align: top;\n",
       "    }\n",
       "\n",
       "    .dataframe thead th {\n",
       "        text-align: right;\n",
       "    }\n",
       "</style>\n",
       "<table border=\"1\" class=\"dataframe\">\n",
       "  <thead>\n",
       "    <tr style=\"text-align: right;\">\n",
       "      <th></th>\n",
       "      <th>tempID</th>\n",
       "      <th>temperature</th>\n",
       "    </tr>\n",
       "  </thead>\n",
       "  <tbody>\n",
       "    <tr>\n",
       "      <th>count</th>\n",
       "      <td>22823.000000</td>\n",
       "      <td>2.282300e+04</td>\n",
       "    </tr>\n",
       "    <tr>\n",
       "      <th>mean</th>\n",
       "      <td>11435.735048</td>\n",
       "      <td>3.254840e+06</td>\n",
       "    </tr>\n",
       "    <tr>\n",
       "      <th>std</th>\n",
       "      <td>6591.287660</td>\n",
       "      <td>5.042560e+07</td>\n",
       "    </tr>\n",
       "    <tr>\n",
       "      <th>min</th>\n",
       "      <td>2.000000</td>\n",
       "      <td>-3.273600e+04</td>\n",
       "    </tr>\n",
       "    <tr>\n",
       "      <th>25%</th>\n",
       "      <td>5728.500000</td>\n",
       "      <td>7.700000e+01</td>\n",
       "    </tr>\n",
       "    <tr>\n",
       "      <th>50%</th>\n",
       "      <td>11438.000000</td>\n",
       "      <td>4.330000e+02</td>\n",
       "    </tr>\n",
       "    <tr>\n",
       "      <th>75%</th>\n",
       "      <td>17143.500000</td>\n",
       "      <td>1.280000e+03</td>\n",
       "    </tr>\n",
       "    <tr>\n",
       "      <th>max</th>\n",
       "      <td>22849.000000</td>\n",
       "      <td>1.000000e+09</td>\n",
       "    </tr>\n",
       "  </tbody>\n",
       "</table>\n",
       "</div>"
      ],
      "text/plain": [
       "             tempID   temperature\n",
       "count  22823.000000  2.282300e+04\n",
       "mean   11435.735048  3.254840e+06\n",
       "std     6591.287660  5.042560e+07\n",
       "min        2.000000 -3.273600e+04\n",
       "25%     5728.500000  7.700000e+01\n",
       "50%    11438.000000  4.330000e+02\n",
       "75%    17143.500000  1.280000e+03\n",
       "max    22849.000000  1.000000e+09"
      ]
     },
     "execution_count": 31,
     "metadata": {},
     "output_type": "execute_result"
    }
   ],
   "source": [
    "#compare to original data ranges\n",
    "df.describe()"
   ]
  },
  {
   "cell_type": "code",
   "execution_count": 32,
   "metadata": {
    "colab": {
     "base_uri": "https://localhost:8080/",
     "height": 514
    },
    "id": "9aSpSv5P_OVi",
    "outputId": "128ee6e5-6653-4172-afc7-5b64cb7106b1"
   },
   "outputs": [
    {
     "data": {
      "text/html": [
       "<div>\n",
       "<style scoped>\n",
       "    .dataframe tbody tr th:only-of-type {\n",
       "        vertical-align: middle;\n",
       "    }\n",
       "\n",
       "    .dataframe tbody tr th {\n",
       "        vertical-align: top;\n",
       "    }\n",
       "\n",
       "    .dataframe thead th {\n",
       "        text-align: right;\n",
       "    }\n",
       "</style>\n",
       "<table border=\"1\" class=\"dataframe\">\n",
       "  <thead>\n",
       "    <tr style=\"text-align: right;\">\n",
       "      <th></th>\n",
       "      <th>Unnamed: 0</th>\n",
       "      <th>tempID</th>\n",
       "      <th>theTime</th>\n",
       "      <th>temperature</th>\n",
       "      <th>groupName</th>\n",
       "    </tr>\n",
       "  </thead>\n",
       "  <tbody>\n",
       "    <tr>\n",
       "      <th>0</th>\n",
       "      <td>0</td>\n",
       "      <td>2</td>\n",
       "      <td>2019-07-10 12:37:52</td>\n",
       "      <td>22.2</td>\n",
       "      <td>NaN</td>\n",
       "    </tr>\n",
       "    <tr>\n",
       "      <th>1</th>\n",
       "      <td>1</td>\n",
       "      <td>5</td>\n",
       "      <td>2019-07-10 12:42:32</td>\n",
       "      <td>44.2</td>\n",
       "      <td>NaN</td>\n",
       "    </tr>\n",
       "    <tr>\n",
       "      <th>2</th>\n",
       "      <td>2</td>\n",
       "      <td>6</td>\n",
       "      <td>2019-07-10 12:42:37</td>\n",
       "      <td>44.2</td>\n",
       "      <td>NaN</td>\n",
       "    </tr>\n",
       "    <tr>\n",
       "      <th>3</th>\n",
       "      <td>3</td>\n",
       "      <td>7</td>\n",
       "      <td>2020-02-07 08:42:29</td>\n",
       "      <td>444.0</td>\n",
       "      <td>NaN</td>\n",
       "    </tr>\n",
       "    <tr>\n",
       "      <th>4</th>\n",
       "      <td>4</td>\n",
       "      <td>8</td>\n",
       "      <td>2020-02-07 08:42:35</td>\n",
       "      <td>444.0</td>\n",
       "      <td>NaN</td>\n",
       "    </tr>\n",
       "    <tr>\n",
       "      <th>5</th>\n",
       "      <td>5</td>\n",
       "      <td>9</td>\n",
       "      <td>2020-02-07 08:43:44</td>\n",
       "      <td>444.0</td>\n",
       "      <td>NaN</td>\n",
       "    </tr>\n",
       "    <tr>\n",
       "      <th>6</th>\n",
       "      <td>6</td>\n",
       "      <td>10</td>\n",
       "      <td>2020-02-07 08:47:30</td>\n",
       "      <td>444.0</td>\n",
       "      <td>NaN</td>\n",
       "    </tr>\n",
       "    <tr>\n",
       "      <th>7</th>\n",
       "      <td>7</td>\n",
       "      <td>11</td>\n",
       "      <td>2020-02-07 17:47:57</td>\n",
       "      <td>444.0</td>\n",
       "      <td>{groupName}</td>\n",
       "    </tr>\n",
       "    <tr>\n",
       "      <th>8</th>\n",
       "      <td>8</td>\n",
       "      <td>12</td>\n",
       "      <td>2020-02-07 17:47:59</td>\n",
       "      <td>444.0</td>\n",
       "      <td>{groupName}</td>\n",
       "    </tr>\n",
       "    <tr>\n",
       "      <th>9</th>\n",
       "      <td>9</td>\n",
       "      <td>13</td>\n",
       "      <td>2020-02-07 17:48:26</td>\n",
       "      <td>444.0</td>\n",
       "      <td>{groupName}</td>\n",
       "    </tr>\n",
       "    <tr>\n",
       "      <th>10</th>\n",
       "      <td>10</td>\n",
       "      <td>14</td>\n",
       "      <td>2020-02-07 17:48:48</td>\n",
       "      <td>444.0</td>\n",
       "      <td>Default Grp</td>\n",
       "    </tr>\n",
       "    <tr>\n",
       "      <th>11</th>\n",
       "      <td>11</td>\n",
       "      <td>15</td>\n",
       "      <td>2020-02-07 17:49:32</td>\n",
       "      <td>444.0</td>\n",
       "      <td>Main Group</td>\n",
       "    </tr>\n",
       "    <tr>\n",
       "      <th>12</th>\n",
       "      <td>12</td>\n",
       "      <td>16</td>\n",
       "      <td>2020-02-07 17:52:35</td>\n",
       "      <td>444.0</td>\n",
       "      <td>Default Grp</td>\n",
       "    </tr>\n",
       "    <tr>\n",
       "      <th>13</th>\n",
       "      <td>13</td>\n",
       "      <td>17</td>\n",
       "      <td>2020-02-07 18:35:26</td>\n",
       "      <td>444.0</td>\n",
       "      <td>Default Grp</td>\n",
       "    </tr>\n",
       "    <tr>\n",
       "      <th>14</th>\n",
       "      <td>14</td>\n",
       "      <td>18</td>\n",
       "      <td>2020-02-07 18:35:30</td>\n",
       "      <td>444.0</td>\n",
       "      <td>Default Grp</td>\n",
       "    </tr>\n",
       "  </tbody>\n",
       "</table>\n",
       "</div>"
      ],
      "text/plain": [
       "    Unnamed: 0  tempID              theTime  temperature    groupName\n",
       "0            0       2  2019-07-10 12:37:52         22.2          NaN\n",
       "1            1       5  2019-07-10 12:42:32         44.2          NaN\n",
       "2            2       6  2019-07-10 12:42:37         44.2          NaN\n",
       "3            3       7  2020-02-07 08:42:29        444.0          NaN\n",
       "4            4       8  2020-02-07 08:42:35        444.0          NaN\n",
       "5            5       9  2020-02-07 08:43:44        444.0          NaN\n",
       "6            6      10  2020-02-07 08:47:30        444.0          NaN\n",
       "7            7      11  2020-02-07 17:47:57        444.0  {groupName}\n",
       "8            8      12  2020-02-07 17:47:59        444.0  {groupName}\n",
       "9            9      13  2020-02-07 17:48:26        444.0  {groupName}\n",
       "10          10      14  2020-02-07 17:48:48        444.0  Default Grp\n",
       "11          11      15  2020-02-07 17:49:32        444.0   Main Group\n",
       "12          12      16  2020-02-07 17:52:35        444.0  Default Grp\n",
       "13          13      17  2020-02-07 18:35:26        444.0  Default Grp\n",
       "14          14      18  2020-02-07 18:35:30        444.0  Default Grp"
      ]
     },
     "execution_count": 32,
     "metadata": {},
     "output_type": "execute_result"
    }
   ],
   "source": [
    "df2.head(15)"
   ]
  },
  {
   "cell_type": "code",
   "execution_count": 33,
   "metadata": {
    "colab": {
     "base_uri": "https://localhost:8080/",
     "height": 221
    },
    "id": "LJvbE--uBoK1",
    "outputId": "5802e4a2-d43c-4e6a-d9d1-c15a8a10e367"
   },
   "outputs": [
    {
     "name": "stdout",
     "output_type": "stream",
     "text": [
      "<class 'pandas.core.frame.DataFrame'>\n",
      "Int64Index: 14765 entries, 0 to 22822\n",
      "Data columns (total 5 columns):\n",
      " #   Column       Non-Null Count  Dtype  \n",
      "---  ------       --------------  -----  \n",
      " 0   Unnamed: 0   14765 non-null  int64  \n",
      " 1   tempID       14765 non-null  int64  \n",
      " 2   theTime      14765 non-null  object \n",
      " 3   temperature  14765 non-null  float64\n",
      " 4   groupName    14758 non-null  object \n",
      "dtypes: float64(1), int64(2), object(2)\n",
      "memory usage: 692.1+ KB\n"
     ]
    }
   ],
   "source": [
    "#clean data, fill missing rows\n",
    "#7 group names missing\n",
    "df2.info()"
   ]
  },
  {
   "cell_type": "code",
   "execution_count": 34,
   "metadata": {
    "colab": {
     "base_uri": "https://localhost:8080/",
     "height": 102
    },
    "id": "GNyR2aInCB9m",
    "outputId": "8baebfb9-732d-47b0-ac24-b482e6da20a9"
   },
   "outputs": [
    {
     "name": "stderr",
     "output_type": "stream",
     "text": [
      "c:\\users\\lorme\\appdata\\local\\programs\\python\\python39\\lib\\site-packages\\pandas\\core\\frame.py:4321: SettingWithCopyWarning: \n",
      "A value is trying to be set on a copy of a slice from a DataFrame\n",
      "\n",
      "See the caveats in the documentation: https://pandas.pydata.org/pandas-docs/stable/user_guide/indexing.html#returning-a-view-versus-a-copy\n",
      "  return super().fillna(\n"
     ]
    }
   ],
   "source": [
    "#df2.head()\n",
    "df2.fillna(method=\"bfill\", inplace=True)"
   ]
  },
  {
   "cell_type": "code",
   "execution_count": 35,
   "metadata": {
    "colab": {
     "base_uri": "https://localhost:8080/",
     "height": 514
    },
    "id": "mLS8Bn5v_j3x",
    "outputId": "41bf2fbe-7d6a-4e9b-a327-f04a6db0bd73"
   },
   "outputs": [
    {
     "data": {
      "text/html": [
       "<div>\n",
       "<style scoped>\n",
       "    .dataframe tbody tr th:only-of-type {\n",
       "        vertical-align: middle;\n",
       "    }\n",
       "\n",
       "    .dataframe tbody tr th {\n",
       "        vertical-align: top;\n",
       "    }\n",
       "\n",
       "    .dataframe thead th {\n",
       "        text-align: right;\n",
       "    }\n",
       "</style>\n",
       "<table border=\"1\" class=\"dataframe\">\n",
       "  <thead>\n",
       "    <tr style=\"text-align: right;\">\n",
       "      <th></th>\n",
       "      <th>Unnamed: 0</th>\n",
       "      <th>tempID</th>\n",
       "      <th>theTime</th>\n",
       "      <th>temperature</th>\n",
       "      <th>groupName</th>\n",
       "    </tr>\n",
       "  </thead>\n",
       "  <tbody>\n",
       "    <tr>\n",
       "      <th>0</th>\n",
       "      <td>0</td>\n",
       "      <td>2</td>\n",
       "      <td>2019-07-10 12:37:52</td>\n",
       "      <td>22.2</td>\n",
       "      <td>{groupName}</td>\n",
       "    </tr>\n",
       "    <tr>\n",
       "      <th>1</th>\n",
       "      <td>1</td>\n",
       "      <td>5</td>\n",
       "      <td>2019-07-10 12:42:32</td>\n",
       "      <td>44.2</td>\n",
       "      <td>{groupName}</td>\n",
       "    </tr>\n",
       "    <tr>\n",
       "      <th>2</th>\n",
       "      <td>2</td>\n",
       "      <td>6</td>\n",
       "      <td>2019-07-10 12:42:37</td>\n",
       "      <td>44.2</td>\n",
       "      <td>{groupName}</td>\n",
       "    </tr>\n",
       "    <tr>\n",
       "      <th>3</th>\n",
       "      <td>3</td>\n",
       "      <td>7</td>\n",
       "      <td>2020-02-07 08:42:29</td>\n",
       "      <td>444.0</td>\n",
       "      <td>{groupName}</td>\n",
       "    </tr>\n",
       "    <tr>\n",
       "      <th>4</th>\n",
       "      <td>4</td>\n",
       "      <td>8</td>\n",
       "      <td>2020-02-07 08:42:35</td>\n",
       "      <td>444.0</td>\n",
       "      <td>{groupName}</td>\n",
       "    </tr>\n",
       "    <tr>\n",
       "      <th>5</th>\n",
       "      <td>5</td>\n",
       "      <td>9</td>\n",
       "      <td>2020-02-07 08:43:44</td>\n",
       "      <td>444.0</td>\n",
       "      <td>{groupName}</td>\n",
       "    </tr>\n",
       "    <tr>\n",
       "      <th>6</th>\n",
       "      <td>6</td>\n",
       "      <td>10</td>\n",
       "      <td>2020-02-07 08:47:30</td>\n",
       "      <td>444.0</td>\n",
       "      <td>{groupName}</td>\n",
       "    </tr>\n",
       "    <tr>\n",
       "      <th>7</th>\n",
       "      <td>7</td>\n",
       "      <td>11</td>\n",
       "      <td>2020-02-07 17:47:57</td>\n",
       "      <td>444.0</td>\n",
       "      <td>{groupName}</td>\n",
       "    </tr>\n",
       "    <tr>\n",
       "      <th>8</th>\n",
       "      <td>8</td>\n",
       "      <td>12</td>\n",
       "      <td>2020-02-07 17:47:59</td>\n",
       "      <td>444.0</td>\n",
       "      <td>{groupName}</td>\n",
       "    </tr>\n",
       "    <tr>\n",
       "      <th>9</th>\n",
       "      <td>9</td>\n",
       "      <td>13</td>\n",
       "      <td>2020-02-07 17:48:26</td>\n",
       "      <td>444.0</td>\n",
       "      <td>{groupName}</td>\n",
       "    </tr>\n",
       "    <tr>\n",
       "      <th>10</th>\n",
       "      <td>10</td>\n",
       "      <td>14</td>\n",
       "      <td>2020-02-07 17:48:48</td>\n",
       "      <td>444.0</td>\n",
       "      <td>Default Grp</td>\n",
       "    </tr>\n",
       "    <tr>\n",
       "      <th>11</th>\n",
       "      <td>11</td>\n",
       "      <td>15</td>\n",
       "      <td>2020-02-07 17:49:32</td>\n",
       "      <td>444.0</td>\n",
       "      <td>Main Group</td>\n",
       "    </tr>\n",
       "    <tr>\n",
       "      <th>12</th>\n",
       "      <td>12</td>\n",
       "      <td>16</td>\n",
       "      <td>2020-02-07 17:52:35</td>\n",
       "      <td>444.0</td>\n",
       "      <td>Default Grp</td>\n",
       "    </tr>\n",
       "    <tr>\n",
       "      <th>13</th>\n",
       "      <td>13</td>\n",
       "      <td>17</td>\n",
       "      <td>2020-02-07 18:35:26</td>\n",
       "      <td>444.0</td>\n",
       "      <td>Default Grp</td>\n",
       "    </tr>\n",
       "    <tr>\n",
       "      <th>14</th>\n",
       "      <td>14</td>\n",
       "      <td>18</td>\n",
       "      <td>2020-02-07 18:35:30</td>\n",
       "      <td>444.0</td>\n",
       "      <td>Default Grp</td>\n",
       "    </tr>\n",
       "  </tbody>\n",
       "</table>\n",
       "</div>"
      ],
      "text/plain": [
       "    Unnamed: 0  tempID              theTime  temperature    groupName\n",
       "0            0       2  2019-07-10 12:37:52         22.2  {groupName}\n",
       "1            1       5  2019-07-10 12:42:32         44.2  {groupName}\n",
       "2            2       6  2019-07-10 12:42:37         44.2  {groupName}\n",
       "3            3       7  2020-02-07 08:42:29        444.0  {groupName}\n",
       "4            4       8  2020-02-07 08:42:35        444.0  {groupName}\n",
       "5            5       9  2020-02-07 08:43:44        444.0  {groupName}\n",
       "6            6      10  2020-02-07 08:47:30        444.0  {groupName}\n",
       "7            7      11  2020-02-07 17:47:57        444.0  {groupName}\n",
       "8            8      12  2020-02-07 17:47:59        444.0  {groupName}\n",
       "9            9      13  2020-02-07 17:48:26        444.0  {groupName}\n",
       "10          10      14  2020-02-07 17:48:48        444.0  Default Grp\n",
       "11          11      15  2020-02-07 17:49:32        444.0   Main Group\n",
       "12          12      16  2020-02-07 17:52:35        444.0  Default Grp\n",
       "13          13      17  2020-02-07 18:35:26        444.0  Default Grp\n",
       "14          14      18  2020-02-07 18:35:30        444.0  Default Grp"
      ]
     },
     "execution_count": 35,
     "metadata": {},
     "output_type": "execute_result"
    }
   ],
   "source": [
    "df2.head(15)"
   ]
  },
  {
   "cell_type": "code",
   "execution_count": 36,
   "metadata": {
    "colab": {
     "base_uri": "https://localhost:8080/",
     "height": 221
    },
    "id": "gle6pKltGY8O",
    "outputId": "be9dc14d-c979-4023-db3c-874eced7c4fd"
   },
   "outputs": [
    {
     "name": "stdout",
     "output_type": "stream",
     "text": [
      "<class 'pandas.core.frame.DataFrame'>\n",
      "Int64Index: 14765 entries, 0 to 22822\n",
      "Data columns (total 5 columns):\n",
      " #   Column       Non-Null Count  Dtype  \n",
      "---  ------       --------------  -----  \n",
      " 0   Unnamed: 0   14765 non-null  int64  \n",
      " 1   tempID       14765 non-null  int64  \n",
      " 2   theTime      14765 non-null  object \n",
      " 3   temperature  14765 non-null  float64\n",
      " 4   groupName    14765 non-null  object \n",
      "dtypes: float64(1), int64(2), object(2)\n",
      "memory usage: 692.1+ KB\n"
     ]
    }
   ],
   "source": [
    "df2.info()\n",
    "#note: date is currenty an 'object'"
   ]
  },
  {
   "cell_type": "code",
   "execution_count": 37,
   "metadata": {
    "colab": {
     "base_uri": "https://localhost:8080/",
     "height": 119
    },
    "id": "ojktvT2xH3lo",
    "outputId": "e1b230fe-b867-4240-dbd1-b1be13f4e92a"
   },
   "outputs": [
    {
     "name": "stderr",
     "output_type": "stream",
     "text": [
      "<ipython-input-37-554fcab7b26e>:2: SettingWithCopyWarning: \n",
      "A value is trying to be set on a copy of a slice from a DataFrame.\n",
      "Try using .loc[row_indexer,col_indexer] = value instead\n",
      "\n",
      "See the caveats in the documentation: https://pandas.pydata.org/pandas-docs/stable/user_guide/indexing.html#returning-a-view-versus-a-copy\n",
      "  df2['theTime']= pd.to_datetime(df2['theTime'])   #change to df2,...Done\n"
     ]
    }
   ],
   "source": [
    "\n",
    "# convert the (Date) 'theTime' column to datetime format \n",
    "df2['theTime']= pd.to_datetime(df2['theTime'])   #change to df2,...Done"
   ]
  },
  {
   "cell_type": "code",
   "execution_count": 38,
   "metadata": {
    "colab": {
     "base_uri": "https://localhost:8080/",
     "height": 221
    },
    "id": "GPVk-NNQIJg3",
    "outputId": "8bd299dc-e73f-42d8-8015-f4c93e14b77d"
   },
   "outputs": [
    {
     "name": "stdout",
     "output_type": "stream",
     "text": [
      "<class 'pandas.core.frame.DataFrame'>\n",
      "Int64Index: 14765 entries, 0 to 22822\n",
      "Data columns (total 5 columns):\n",
      " #   Column       Non-Null Count  Dtype         \n",
      "---  ------       --------------  -----         \n",
      " 0   Unnamed: 0   14765 non-null  int64         \n",
      " 1   tempID       14765 non-null  int64         \n",
      " 2   theTime      14765 non-null  datetime64[ns]\n",
      " 3   temperature  14765 non-null  float64       \n",
      " 4   groupName    14765 non-null  object        \n",
      "dtypes: datetime64[ns](1), float64(1), int64(2), object(1)\n",
      "memory usage: 692.1+ KB\n"
     ]
    }
   ],
   "source": [
    "df2.info()"
   ]
  },
  {
   "cell_type": "code",
   "execution_count": 39,
   "metadata": {
    "colab": {
     "base_uri": "https://localhost:8080/",
     "height": 119
    },
    "id": "Vl-018QsIjK5",
    "outputId": "27011427-c586-49ac-9c49-0046b8cb3d4c"
   },
   "outputs": [
    {
     "name": "stderr",
     "output_type": "stream",
     "text": [
      "<ipython-input-39-cda97e79bdb6>:2: SettingWithCopyWarning: \n",
      "A value is trying to be set on a copy of a slice from a DataFrame.\n",
      "Try using .loc[row_indexer,col_indexer] = value instead\n",
      "\n",
      "See the caveats in the documentation: https://pandas.pydata.org/pandas-docs/stable/user_guide/indexing.html#returning-a-view-versus-a-copy\n",
      "  df2['weekday'] = df2['theTime'].dt.dayofweek\n"
     ]
    }
   ],
   "source": [
    "#add day of week column (to have just numbers to work with)\n",
    "df2['weekday'] = df2['theTime'].dt.dayofweek"
   ]
  },
  {
   "cell_type": "code",
   "execution_count": 40,
   "metadata": {
    "colab": {
     "base_uri": "https://localhost:8080/",
     "height": 204
    },
    "id": "6NjE0V4gBNov",
    "outputId": "c47fcc5b-1bf8-497d-a9ca-4d291731faad"
   },
   "outputs": [
    {
     "data": {
      "text/html": [
       "<div>\n",
       "<style scoped>\n",
       "    .dataframe tbody tr th:only-of-type {\n",
       "        vertical-align: middle;\n",
       "    }\n",
       "\n",
       "    .dataframe tbody tr th {\n",
       "        vertical-align: top;\n",
       "    }\n",
       "\n",
       "    .dataframe thead th {\n",
       "        text-align: right;\n",
       "    }\n",
       "</style>\n",
       "<table border=\"1\" class=\"dataframe\">\n",
       "  <thead>\n",
       "    <tr style=\"text-align: right;\">\n",
       "      <th></th>\n",
       "      <th>Unnamed: 0</th>\n",
       "      <th>tempID</th>\n",
       "      <th>theTime</th>\n",
       "      <th>temperature</th>\n",
       "      <th>groupName</th>\n",
       "      <th>weekday</th>\n",
       "    </tr>\n",
       "  </thead>\n",
       "  <tbody>\n",
       "    <tr>\n",
       "      <th>0</th>\n",
       "      <td>0</td>\n",
       "      <td>2</td>\n",
       "      <td>2019-07-10 12:37:52</td>\n",
       "      <td>22.2</td>\n",
       "      <td>{groupName}</td>\n",
       "      <td>2</td>\n",
       "    </tr>\n",
       "    <tr>\n",
       "      <th>1</th>\n",
       "      <td>1</td>\n",
       "      <td>5</td>\n",
       "      <td>2019-07-10 12:42:32</td>\n",
       "      <td>44.2</td>\n",
       "      <td>{groupName}</td>\n",
       "      <td>2</td>\n",
       "    </tr>\n",
       "    <tr>\n",
       "      <th>2</th>\n",
       "      <td>2</td>\n",
       "      <td>6</td>\n",
       "      <td>2019-07-10 12:42:37</td>\n",
       "      <td>44.2</td>\n",
       "      <td>{groupName}</td>\n",
       "      <td>2</td>\n",
       "    </tr>\n",
       "    <tr>\n",
       "      <th>3</th>\n",
       "      <td>3</td>\n",
       "      <td>7</td>\n",
       "      <td>2020-02-07 08:42:29</td>\n",
       "      <td>444.0</td>\n",
       "      <td>{groupName}</td>\n",
       "      <td>4</td>\n",
       "    </tr>\n",
       "    <tr>\n",
       "      <th>4</th>\n",
       "      <td>4</td>\n",
       "      <td>8</td>\n",
       "      <td>2020-02-07 08:42:35</td>\n",
       "      <td>444.0</td>\n",
       "      <td>{groupName}</td>\n",
       "      <td>4</td>\n",
       "    </tr>\n",
       "  </tbody>\n",
       "</table>\n",
       "</div>"
      ],
      "text/plain": [
       "   Unnamed: 0  tempID             theTime  temperature    groupName  weekday\n",
       "0           0       2 2019-07-10 12:37:52         22.2  {groupName}        2\n",
       "1           1       5 2019-07-10 12:42:32         44.2  {groupName}        2\n",
       "2           2       6 2019-07-10 12:42:37         44.2  {groupName}        2\n",
       "3           3       7 2020-02-07 08:42:29        444.0  {groupName}        4\n",
       "4           4       8 2020-02-07 08:42:35        444.0  {groupName}        4"
      ]
     },
     "execution_count": 40,
     "metadata": {},
     "output_type": "execute_result"
    }
   ],
   "source": [
    "df2.head()"
   ]
  },
  {
   "cell_type": "code",
   "execution_count": 41,
   "metadata": {
    "colab": {
     "base_uri": "https://localhost:8080/",
     "height": 119
    },
    "id": "dADo9fsbJPhy",
    "outputId": "39c6332e-48c1-4f7a-af5e-33bfa8cc03ca"
   },
   "outputs": [
    {
     "name": "stderr",
     "output_type": "stream",
     "text": [
      "<ipython-input-41-1dd6f8b856ee>:2: SettingWithCopyWarning: \n",
      "A value is trying to be set on a copy of a slice from a DataFrame.\n",
      "Try using .loc[row_indexer,col_indexer] = value instead\n",
      "\n",
      "See the caveats in the documentation: https://pandas.pydata.org/pandas-docs/stable/user_guide/indexing.html#returning-a-view-versus-a-copy\n",
      "  df2['month'] = df2['theTime'].dt.month\n"
     ]
    }
   ],
   "source": [
    "#add a month column\n",
    "df2['month'] = df2['theTime'].dt.month"
   ]
  },
  {
   "cell_type": "code",
   "execution_count": 42,
   "metadata": {
    "colab": {
     "base_uri": "https://localhost:8080/",
     "height": 204
    },
    "id": "Y1wo8tXxBVVH",
    "outputId": "662fcdd9-5d41-40ad-9c13-db13e791edd5"
   },
   "outputs": [
    {
     "data": {
      "text/html": [
       "<div>\n",
       "<style scoped>\n",
       "    .dataframe tbody tr th:only-of-type {\n",
       "        vertical-align: middle;\n",
       "    }\n",
       "\n",
       "    .dataframe tbody tr th {\n",
       "        vertical-align: top;\n",
       "    }\n",
       "\n",
       "    .dataframe thead th {\n",
       "        text-align: right;\n",
       "    }\n",
       "</style>\n",
       "<table border=\"1\" class=\"dataframe\">\n",
       "  <thead>\n",
       "    <tr style=\"text-align: right;\">\n",
       "      <th></th>\n",
       "      <th>Unnamed: 0</th>\n",
       "      <th>tempID</th>\n",
       "      <th>theTime</th>\n",
       "      <th>temperature</th>\n",
       "      <th>groupName</th>\n",
       "      <th>weekday</th>\n",
       "      <th>month</th>\n",
       "    </tr>\n",
       "  </thead>\n",
       "  <tbody>\n",
       "    <tr>\n",
       "      <th>0</th>\n",
       "      <td>0</td>\n",
       "      <td>2</td>\n",
       "      <td>2019-07-10 12:37:52</td>\n",
       "      <td>22.2</td>\n",
       "      <td>{groupName}</td>\n",
       "      <td>2</td>\n",
       "      <td>7</td>\n",
       "    </tr>\n",
       "    <tr>\n",
       "      <th>1</th>\n",
       "      <td>1</td>\n",
       "      <td>5</td>\n",
       "      <td>2019-07-10 12:42:32</td>\n",
       "      <td>44.2</td>\n",
       "      <td>{groupName}</td>\n",
       "      <td>2</td>\n",
       "      <td>7</td>\n",
       "    </tr>\n",
       "    <tr>\n",
       "      <th>2</th>\n",
       "      <td>2</td>\n",
       "      <td>6</td>\n",
       "      <td>2019-07-10 12:42:37</td>\n",
       "      <td>44.2</td>\n",
       "      <td>{groupName}</td>\n",
       "      <td>2</td>\n",
       "      <td>7</td>\n",
       "    </tr>\n",
       "    <tr>\n",
       "      <th>3</th>\n",
       "      <td>3</td>\n",
       "      <td>7</td>\n",
       "      <td>2020-02-07 08:42:29</td>\n",
       "      <td>444.0</td>\n",
       "      <td>{groupName}</td>\n",
       "      <td>4</td>\n",
       "      <td>2</td>\n",
       "    </tr>\n",
       "    <tr>\n",
       "      <th>4</th>\n",
       "      <td>4</td>\n",
       "      <td>8</td>\n",
       "      <td>2020-02-07 08:42:35</td>\n",
       "      <td>444.0</td>\n",
       "      <td>{groupName}</td>\n",
       "      <td>4</td>\n",
       "      <td>2</td>\n",
       "    </tr>\n",
       "  </tbody>\n",
       "</table>\n",
       "</div>"
      ],
      "text/plain": [
       "   Unnamed: 0  tempID             theTime  temperature    groupName  weekday  \\\n",
       "0           0       2 2019-07-10 12:37:52         22.2  {groupName}        2   \n",
       "1           1       5 2019-07-10 12:42:32         44.2  {groupName}        2   \n",
       "2           2       6 2019-07-10 12:42:37         44.2  {groupName}        2   \n",
       "3           3       7 2020-02-07 08:42:29        444.0  {groupName}        4   \n",
       "4           4       8 2020-02-07 08:42:35        444.0  {groupName}        4   \n",
       "\n",
       "   month  \n",
       "0      7  \n",
       "1      7  \n",
       "2      7  \n",
       "3      2  \n",
       "4      2  "
      ]
     },
     "execution_count": 42,
     "metadata": {},
     "output_type": "execute_result"
    }
   ],
   "source": [
    "df2.head()"
   ]
  },
  {
   "cell_type": "code",
   "execution_count": 43,
   "metadata": {
    "colab": {
     "base_uri": "https://localhost:8080/",
     "height": 68
    },
    "id": "ElhCM8EZFt5n",
    "outputId": "926263f4-feb2-481c-849b-7f50da1d1dfa"
   },
   "outputs": [
    {
     "data": {
      "text/plain": [
       "Index(['Unnamed: 0', 'tempID', 'theTime', 'temperature', 'groupName',\n",
       "       'weekday', 'month'],\n",
       "      dtype='object')"
      ]
     },
     "execution_count": 43,
     "metadata": {},
     "output_type": "execute_result"
    }
   ],
   "source": [
    "#check what months i have now\n",
    "df2.columns"
   ]
  },
  {
   "cell_type": "code",
   "execution_count": 44,
   "metadata": {
    "id": "II02wWbHDLOQ"
   },
   "outputs": [],
   "source": [
    "#creating  a model\n",
    "#create features\n",
    "X=df2[[\"weekday\", \"month\", \"groupName\"]]  #doesnt work because groupName is not numeric"
   ]
  },
  {
   "cell_type": "code",
   "execution_count": 45,
   "metadata": {
    "id": "9JrJbx72EF7R"
   },
   "outputs": [],
   "source": [
    "#the predicted value\n",
    "y=df2.temperature   #or df2[\"temperature\"]"
   ]
  },
  {
   "cell_type": "code",
   "execution_count": 46,
   "metadata": {
    "colab": {
     "base_uri": "https://localhost:8080/",
     "height": 297
    },
    "id": "jRWezpuhGBg9",
    "outputId": "febc718e-9af5-49a0-cb21-46ecc1fdbb9a"
   },
   "outputs": [
    {
     "data": {
      "text/html": [
       "<div>\n",
       "<style scoped>\n",
       "    .dataframe tbody tr th:only-of-type {\n",
       "        vertical-align: middle;\n",
       "    }\n",
       "\n",
       "    .dataframe tbody tr th {\n",
       "        vertical-align: top;\n",
       "    }\n",
       "\n",
       "    .dataframe thead th {\n",
       "        text-align: right;\n",
       "    }\n",
       "</style>\n",
       "<table border=\"1\" class=\"dataframe\">\n",
       "  <thead>\n",
       "    <tr style=\"text-align: right;\">\n",
       "      <th></th>\n",
       "      <th>weekday</th>\n",
       "      <th>month</th>\n",
       "    </tr>\n",
       "  </thead>\n",
       "  <tbody>\n",
       "    <tr>\n",
       "      <th>count</th>\n",
       "      <td>14765.000000</td>\n",
       "      <td>14765.000000</td>\n",
       "    </tr>\n",
       "    <tr>\n",
       "      <th>mean</th>\n",
       "      <td>4.163088</td>\n",
       "      <td>2.211243</td>\n",
       "    </tr>\n",
       "    <tr>\n",
       "      <th>std</th>\n",
       "      <td>0.886367</td>\n",
       "      <td>0.765702</td>\n",
       "    </tr>\n",
       "    <tr>\n",
       "      <th>min</th>\n",
       "      <td>0.000000</td>\n",
       "      <td>2.000000</td>\n",
       "    </tr>\n",
       "    <tr>\n",
       "      <th>25%</th>\n",
       "      <td>4.000000</td>\n",
       "      <td>2.000000</td>\n",
       "    </tr>\n",
       "    <tr>\n",
       "      <th>50%</th>\n",
       "      <td>4.000000</td>\n",
       "      <td>2.000000</td>\n",
       "    </tr>\n",
       "    <tr>\n",
       "      <th>75%</th>\n",
       "      <td>5.000000</td>\n",
       "      <td>2.000000</td>\n",
       "    </tr>\n",
       "    <tr>\n",
       "      <th>max</th>\n",
       "      <td>6.000000</td>\n",
       "      <td>7.000000</td>\n",
       "    </tr>\n",
       "  </tbody>\n",
       "</table>\n",
       "</div>"
      ],
      "text/plain": [
       "            weekday         month\n",
       "count  14765.000000  14765.000000\n",
       "mean       4.163088      2.211243\n",
       "std        0.886367      0.765702\n",
       "min        0.000000      2.000000\n",
       "25%        4.000000      2.000000\n",
       "50%        4.000000      2.000000\n",
       "75%        5.000000      2.000000\n",
       "max        6.000000      7.000000"
      ]
     },
     "execution_count": 46,
     "metadata": {},
     "output_type": "execute_result"
    }
   ],
   "source": [
    "X.describe()\n",
    "#X.info()   #run both"
   ]
  },
  {
   "cell_type": "code",
   "execution_count": 47,
   "metadata": {
    "colab": {
     "base_uri": "https://localhost:8080/",
     "height": 170
    },
    "id": "gLHl7SXJGLWS",
    "outputId": "898b5ac0-c072-44a9-dc5f-38f90afd402d"
   },
   "outputs": [
    {
     "data": {
      "text/plain": [
       "count    14765.000000\n",
       "mean       271.428054\n",
       "std        283.913442\n",
       "min       -953.000000\n",
       "25%         42.000000\n",
       "50%        150.000000\n",
       "75%        460.000000\n",
       "max        999.000000\n",
       "Name: temperature, dtype: float64"
      ]
     },
     "execution_count": 47,
     "metadata": {},
     "output_type": "execute_result"
    }
   ],
   "source": [
    "y.describe()"
   ]
  },
  {
   "cell_type": "code",
   "execution_count": 48,
   "metadata": {
    "id": "mBvtzlEwQKSC"
   },
   "outputs": [],
   "source": [
    "X=df2[[\"weekday\", \"month\"]]\n"
   ]
  },
  {
   "cell_type": "code",
   "execution_count": 49,
   "metadata": {
    "colab": {
     "base_uri": "https://localhost:8080/",
     "height": 419
    },
    "id": "iSh_GQ5CQNz1",
    "outputId": "78807691-678d-4166-d0e1-cab84d3222b4"
   },
   "outputs": [
    {
     "data": {
      "text/html": [
       "<div>\n",
       "<style scoped>\n",
       "    .dataframe tbody tr th:only-of-type {\n",
       "        vertical-align: middle;\n",
       "    }\n",
       "\n",
       "    .dataframe tbody tr th {\n",
       "        vertical-align: top;\n",
       "    }\n",
       "\n",
       "    .dataframe thead th {\n",
       "        text-align: right;\n",
       "    }\n",
       "</style>\n",
       "<table border=\"1\" class=\"dataframe\">\n",
       "  <thead>\n",
       "    <tr style=\"text-align: right;\">\n",
       "      <th></th>\n",
       "      <th>weekday</th>\n",
       "      <th>month</th>\n",
       "    </tr>\n",
       "  </thead>\n",
       "  <tbody>\n",
       "    <tr>\n",
       "      <th>0</th>\n",
       "      <td>2</td>\n",
       "      <td>7</td>\n",
       "    </tr>\n",
       "    <tr>\n",
       "      <th>1</th>\n",
       "      <td>2</td>\n",
       "      <td>7</td>\n",
       "    </tr>\n",
       "    <tr>\n",
       "      <th>2</th>\n",
       "      <td>2</td>\n",
       "      <td>7</td>\n",
       "    </tr>\n",
       "    <tr>\n",
       "      <th>3</th>\n",
       "      <td>4</td>\n",
       "      <td>2</td>\n",
       "    </tr>\n",
       "    <tr>\n",
       "      <th>4</th>\n",
       "      <td>4</td>\n",
       "      <td>2</td>\n",
       "    </tr>\n",
       "    <tr>\n",
       "      <th>...</th>\n",
       "      <td>...</td>\n",
       "      <td>...</td>\n",
       "    </tr>\n",
       "    <tr>\n",
       "      <th>22818</th>\n",
       "      <td>5</td>\n",
       "      <td>5</td>\n",
       "    </tr>\n",
       "    <tr>\n",
       "      <th>22819</th>\n",
       "      <td>5</td>\n",
       "      <td>5</td>\n",
       "    </tr>\n",
       "    <tr>\n",
       "      <th>22820</th>\n",
       "      <td>5</td>\n",
       "      <td>5</td>\n",
       "    </tr>\n",
       "    <tr>\n",
       "      <th>22821</th>\n",
       "      <td>5</td>\n",
       "      <td>5</td>\n",
       "    </tr>\n",
       "    <tr>\n",
       "      <th>22822</th>\n",
       "      <td>5</td>\n",
       "      <td>5</td>\n",
       "    </tr>\n",
       "  </tbody>\n",
       "</table>\n",
       "<p>14765 rows × 2 columns</p>\n",
       "</div>"
      ],
      "text/plain": [
       "       weekday  month\n",
       "0            2      7\n",
       "1            2      7\n",
       "2            2      7\n",
       "3            4      2\n",
       "4            4      2\n",
       "...        ...    ...\n",
       "22818        5      5\n",
       "22819        5      5\n",
       "22820        5      5\n",
       "22821        5      5\n",
       "22822        5      5\n",
       "\n",
       "[14765 rows x 2 columns]"
      ]
     },
     "execution_count": 49,
     "metadata": {},
     "output_type": "execute_result"
    }
   ],
   "source": [
    "X\n"
   ]
  },
  {
   "cell_type": "code",
   "execution_count": 50,
   "metadata": {
    "id": "KNxgdURmG3Vd"
   },
   "outputs": [
    {
     "ename": "ModuleNotFoundError",
     "evalue": "No module named 'sklearn'",
     "output_type": "error",
     "traceback": [
      "\u001b[1;31m---------------------------------------------------------------------------\u001b[0m",
      "\u001b[1;31mModuleNotFoundError\u001b[0m                       Traceback (most recent call last)",
      "\u001b[1;32m~\\Desktop\\School\\IoT\\iot-projects\\lab8_machine_learning\\temp_data.json\u001b[0m in \u001b[0;36m<module>\u001b[1;34m\u001b[0m\n\u001b[1;32m----> 1\u001b[1;33m \u001b[1;32mfrom\u001b[0m \u001b[0msklearn\u001b[0m\u001b[1;33m.\u001b[0m\u001b[0mtree\u001b[0m \u001b[1;32mimport\u001b[0m \u001b[0mDecisionTreeRegressor\u001b[0m\u001b[1;33m\u001b[0m\u001b[1;33m\u001b[0m\u001b[0m\n\u001b[0m\u001b[0;32m      2\u001b[0m \u001b[1;33m\u001b[0m\u001b[0m\n",
      "\u001b[1;31mModuleNotFoundError\u001b[0m: No module named 'sklearn'"
     ]
    }
   ],
   "source": [
    "from sklearn.tree import DecisionTreeRegressor\n",
    "\n"
   ]
  },
  {
   "cell_type": "code",
   "execution_count": null,
   "metadata": {
    "colab": {
     "base_uri": "https://localhost:8080/",
     "height": 119
    },
    "id": "PLrJLbKCHCV2",
    "outputId": "0fd5b5ca-7f11-41e0-bb96-243b5428adb3"
   },
   "outputs": [],
   "source": [
    "# Define model. Specify a number for random_state to ensure same results each run\n",
    "temp_model = DecisionTreeRegressor(random_state=1)\n",
    "\n",
    "# Fit model\n",
    "temp_model.fit(X, y)"
   ]
  },
  {
   "cell_type": "code",
   "execution_count": null,
   "metadata": {
    "colab": {
     "base_uri": "https://localhost:8080/",
     "height": 170
    },
    "id": "xgWI0JkwQT5j",
    "outputId": "7c9c4b53-b05e-4357-aedd-2e3465bc6666"
   },
   "outputs": [],
   "source": [
    "print(\"Making predictions for the following 5 entries (given dow and wk day):\")\n",
    "print(X.tail())\n",
    "print(\"The predictions are\")\n",
    "print(temp_model.predict(X.tail()))"
   ]
  },
  {
   "cell_type": "code",
   "execution_count": null,
   "metadata": {
    "colab": {
     "base_uri": "https://localhost:8080/",
     "height": 204
    },
    "id": "obQJmjENQrcd",
    "outputId": "8277482d-ff09-4090-a32e-3c7d0243643f"
   },
   "outputs": [],
   "source": [
    "df2.tail()  #compare"
   ]
  },
  {
   "cell_type": "code",
   "execution_count": null,
   "metadata": {
    "colab": {
     "base_uri": "https://localhost:8080/",
     "height": 34
    },
    "id": "yyTDusPFQ034",
    "outputId": "ae8d6ff9-458e-4b44-bea5-414a011cbad6"
   },
   "outputs": [],
   "source": [
    "# metrics for summarizing model quality Mean Absolute Error (also called MAE)\n",
    "# prediction erroris : error=actual−predicted\n",
    "# On average, our predictions are off by about MAE.\n",
    "# Calculating it for our case:\n",
    "from sklearn.metrics import mean_absolute_error\n",
    "\n",
    "predicted_temps = temp_model.predict(X)\n",
    "mean_absolute_error(y, predicted_temps)\n",
    "\n",
    "#This measure can be called an \"in-sample\" score because we used the data to \n",
    "#create the model and to also test. Better to split test data from training data"
   ]
  },
  {
   "cell_type": "code",
   "execution_count": null,
   "metadata": {
    "colab": {
     "base_uri": "https://localhost:8080/",
     "height": 34
    },
    "id": "0FlpBKUISO80",
    "outputId": "2e2b685e-d225-42b1-8d89-41b86a8c9e25"
   },
   "outputs": [],
   "source": [
    "from sklearn.model_selection import train_test_split\n",
    "\n",
    "# split data into training and validation data, for both features and target\n",
    "# The split is based on a random number generator. \n",
    "# the argument guarantees we get the same split every time \n",
    "#use more date for training than for testing, 80-20 split for example\n",
    "\n",
    "train_X, val_X, train_y, val_y = train_test_split(X, y, random_state = 0)\n",
    "# Define model\n",
    "temp_model2 = DecisionTreeRegressor()\n",
    "# Fit model\n",
    "temp_model2.fit(train_X, train_y)\n",
    "\n",
    "# get predicted temp on validation data\n",
    "val_predictions = temp_model2.predict(val_X)\n",
    "print(mean_absolute_error(val_y, val_predictions))"
   ]
  },
  {
   "cell_type": "code",
   "execution_count": null,
   "metadata": {
    "colab": {
     "base_uri": "https://localhost:8080/",
     "height": 34
    },
    "id": "pbyW0767ywW9",
    "outputId": "ced6e612-a139-40ca-f396-0596600d4ed4"
   },
   "outputs": [],
   "source": [
    "#Better models - different depth of tree, try different max leaf nodes\n",
    "#our data has only two features, not much will change :-(\n",
    "train_X, val_X, train_y, val_y = train_test_split(X, y, random_state = 0)\n",
    "# Define model\n",
    "\n",
    "temp_model3 = DecisionTreeRegressor(max_leaf_nodes=2, random_state=0)\n",
    "# Fit model\n",
    "temp_model3.fit(train_X, train_y)\n",
    "\n",
    "# get predicted temp on validation data\n",
    "val_predictions = temp_model3.predict(val_X)\n",
    "print(mean_absolute_error(val_y, val_predictions))\n"
   ]
  },
  {
   "cell_type": "code",
   "execution_count": null,
   "metadata": {
    "colab": {
     "base_uri": "https://localhost:8080/",
     "height": 34
    },
    "id": "1jfBPWYM0hHG",
    "outputId": "283e558b-5f14-4ca4-8157-fb7820192995"
   },
   "outputs": [],
   "source": [
    "#using a random forest\n",
    "from sklearn.ensemble import RandomForestRegressor\n",
    "from sklearn.metrics import mean_absolute_error\n",
    "\n",
    "forest_model = RandomForestRegressor(random_state=1)\n",
    "forest_model.fit(train_X, train_y)\n",
    "temp_preds = forest_model.predict(val_X)\n",
    "print(mean_absolute_error(val_y, temp_preds))"
   ]
  },
  {
   "cell_type": "code",
   "execution_count": null,
   "metadata": {
    "id": "fGjzQapgcAhd"
   },
   "outputs": [],
   "source": []
  },
  {
   "cell_type": "code",
   "execution_count": null,
   "metadata": {
    "id": "szwShy0fKFr_"
   },
   "outputs": [],
   "source": [
    "#need to replace group names with numbers:\n",
    "myGroupNames = df[\"groupName\"].unique()\n"
   ]
  },
  {
   "cell_type": "code",
   "execution_count": null,
   "metadata": {
    "id": "f_wYu8d6KSM8"
   },
   "outputs": [],
   "source": [
    "myGroupNames  #check"
   ]
  },
  {
   "cell_type": "code",
   "execution_count": null,
   "metadata": {
    "id": "Ib2bqWZvKg6d"
   },
   "outputs": [],
   "source": [
    "groupNamesDict = dict(zip(myGroupNames, range(len(myGroupNames)))) #zip joins the tuples together"
   ]
  },
  {
   "cell_type": "code",
   "execution_count": null,
   "metadata": {
    "colab": {
     "base_uri": "https://localhost:8080/",
     "height": 816
    },
    "id": "VZnjZJJuK6Na",
    "outputId": "bf940354-bc7f-4d48-8f12-e4c62822ea62"
   },
   "outputs": [],
   "source": [
    "groupNamesDict   #check"
   ]
  },
  {
   "cell_type": "code",
   "execution_count": null,
   "metadata": {
    "id": "PiIyToKXMKbr"
   },
   "outputs": [],
   "source": [
    "#homework: \n",
    "# add column for group number corresponding to group name\n",
    "#then build a better model by using 3 or more columns"
   ]
  },
  {
   "cell_type": "code",
   "execution_count": null,
   "metadata": {
    "id": "c1CdPD35zf1G"
   },
   "outputs": [],
   "source": []
  }
 ],
 "metadata": {
  "colab": {
   "collapsed_sections": [],
   "name": "IoTClass_buildingAModel_student.ipynb",
   "provenance": []
  },
  "kernelspec": {
   "display_name": "Python 3",
   "language": "python",
   "name": "python3"
  },
  "language_info": {
   "codemirror_mode": {
    "name": "ipython",
    "version": 3
   },
   "file_extension": ".py",
   "mimetype": "text/x-python",
   "name": "python",
   "nbconvert_exporter": "python",
   "pygments_lexer": "ipython3",
   "version": "3.9.0"
  }
 },
 "nbformat": 4,
 "nbformat_minor": 1
}
