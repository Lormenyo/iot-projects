{
 "cells": [
  {
   "cell_type": "markdown",
   "metadata": {
    "id": "W14LVdt9XlKM"
   },
   "source": [
    "# Importing the relevant libraries\n",
    "\n"
   ]
  },
  {
   "cell_type": "code",
   "execution_count": 154,
   "metadata": {
    "id": "2b7LyptPVyA4"
   },
   "outputs": [],
   "source": [
    "import pandas as pd\n",
    "from matplotlib import pyplot as plt\n",
    "import numpy as np"
   ]
  },
  {
   "cell_type": "markdown",
   "metadata": {
    "id": "maVlRMgXXunp"
   },
   "source": [
    "# Loading the data"
   ]
  },
  {
   "cell_type": "code",
   "execution_count": 155,
   "metadata": {
    "colab": {
     "base_uri": "https://localhost:8080/",
     "height": 202
    },
    "id": "0sAkVoAHV2SX",
    "outputId": "89e68f9c-4836-4934-af28-c27d51a1cb1f"
   },
   "outputs": [
    {
     "data": {
      "text/html": [
       "<div>\n",
       "<style scoped>\n",
       "    .dataframe tbody tr th:only-of-type {\n",
       "        vertical-align: middle;\n",
       "    }\n",
       "\n",
       "    .dataframe tbody tr th {\n",
       "        vertical-align: top;\n",
       "    }\n",
       "\n",
       "    .dataframe thead th {\n",
       "        text-align: right;\n",
       "    }\n",
       "</style>\n",
       "<table border=\"1\" class=\"dataframe\">\n",
       "  <thead>\n",
       "    <tr style=\"text-align: right;\">\n",
       "      <th></th>\n",
       "      <th>tempID</th>\n",
       "      <th>theTime</th>\n",
       "      <th>temperature</th>\n",
       "      <th>groupName</th>\n",
       "    </tr>\n",
       "  </thead>\n",
       "  <tbody>\n",
       "    <tr>\n",
       "      <th>0</th>\n",
       "      <td>2</td>\n",
       "      <td>2019-07-10 12:37:52</td>\n",
       "      <td>22.2</td>\n",
       "      <td></td>\n",
       "    </tr>\n",
       "    <tr>\n",
       "      <th>1</th>\n",
       "      <td>5</td>\n",
       "      <td>2019-07-10 12:42:32</td>\n",
       "      <td>44.2</td>\n",
       "      <td></td>\n",
       "    </tr>\n",
       "    <tr>\n",
       "      <th>2</th>\n",
       "      <td>6</td>\n",
       "      <td>2019-07-10 12:42:37</td>\n",
       "      <td>44.2</td>\n",
       "      <td></td>\n",
       "    </tr>\n",
       "    <tr>\n",
       "      <th>3</th>\n",
       "      <td>7</td>\n",
       "      <td>2020-02-07 08:42:29</td>\n",
       "      <td>444.0</td>\n",
       "      <td></td>\n",
       "    </tr>\n",
       "    <tr>\n",
       "      <th>4</th>\n",
       "      <td>8</td>\n",
       "      <td>2020-02-07 08:42:35</td>\n",
       "      <td>444.0</td>\n",
       "      <td></td>\n",
       "    </tr>\n",
       "  </tbody>\n",
       "</table>\n",
       "</div>"
      ],
      "text/plain": [
       "   tempID              theTime  temperature groupName\n",
       "0       2  2019-07-10 12:37:52         22.2          \n",
       "1       5  2019-07-10 12:42:32         44.2          \n",
       "2       6  2019-07-10 12:42:37         44.2          \n",
       "3       7  2020-02-07 08:42:29        444.0          \n",
       "4       8  2020-02-07 08:42:35        444.0          "
      ]
     },
     "execution_count": 155,
     "metadata": {
      "tags": []
     },
     "output_type": "execute_result"
    }
   ],
   "source": [
    "url=\"http://eng.ashesi.edu.gh/~namanquah/iot/tempdata.php?listing\"\n",
    "df = pd.read_json(url)\n",
    "df.head()"
   ]
  },
  {
   "cell_type": "markdown",
   "metadata": {
    "id": "7D11zbBCXf7h"
   },
   "source": [
    "# Data Cleaning and preprocessing"
   ]
  },
  {
   "cell_type": "markdown",
   "metadata": {
    "id": "M_rPGAJ0dqDQ"
   },
   "source": [
    "First,i will replace the empty spaces in the columns with NaN."
   ]
  },
  {
   "cell_type": "code",
   "execution_count": 156,
   "metadata": {
    "id": "74p5Och1dyoE"
   },
   "outputs": [],
   "source": [
    "df = df.replace(r'^\\s*$', np.nan, regex=True)\n"
   ]
  },
  {
   "cell_type": "code",
   "execution_count": 157,
   "metadata": {
    "colab": {
     "base_uri": "https://localhost:8080/",
     "height": 202
    },
    "id": "VGwZNsyDd7Hn",
    "outputId": "4102846d-bdf9-4370-de52-3a0a6e9d51fa"
   },
   "outputs": [
    {
     "data": {
      "text/html": [
       "<div>\n",
       "<style scoped>\n",
       "    .dataframe tbody tr th:only-of-type {\n",
       "        vertical-align: middle;\n",
       "    }\n",
       "\n",
       "    .dataframe tbody tr th {\n",
       "        vertical-align: top;\n",
       "    }\n",
       "\n",
       "    .dataframe thead th {\n",
       "        text-align: right;\n",
       "    }\n",
       "</style>\n",
       "<table border=\"1\" class=\"dataframe\">\n",
       "  <thead>\n",
       "    <tr style=\"text-align: right;\">\n",
       "      <th></th>\n",
       "      <th>tempID</th>\n",
       "      <th>theTime</th>\n",
       "      <th>temperature</th>\n",
       "      <th>groupName</th>\n",
       "    </tr>\n",
       "  </thead>\n",
       "  <tbody>\n",
       "    <tr>\n",
       "      <th>0</th>\n",
       "      <td>2</td>\n",
       "      <td>2019-07-10 12:37:52</td>\n",
       "      <td>22.2</td>\n",
       "      <td>NaN</td>\n",
       "    </tr>\n",
       "    <tr>\n",
       "      <th>1</th>\n",
       "      <td>5</td>\n",
       "      <td>2019-07-10 12:42:32</td>\n",
       "      <td>44.2</td>\n",
       "      <td>NaN</td>\n",
       "    </tr>\n",
       "    <tr>\n",
       "      <th>2</th>\n",
       "      <td>6</td>\n",
       "      <td>2019-07-10 12:42:37</td>\n",
       "      <td>44.2</td>\n",
       "      <td>NaN</td>\n",
       "    </tr>\n",
       "    <tr>\n",
       "      <th>3</th>\n",
       "      <td>7</td>\n",
       "      <td>2020-02-07 08:42:29</td>\n",
       "      <td>444.0</td>\n",
       "      <td>NaN</td>\n",
       "    </tr>\n",
       "    <tr>\n",
       "      <th>4</th>\n",
       "      <td>8</td>\n",
       "      <td>2020-02-07 08:42:35</td>\n",
       "      <td>444.0</td>\n",
       "      <td>NaN</td>\n",
       "    </tr>\n",
       "  </tbody>\n",
       "</table>\n",
       "</div>"
      ],
      "text/plain": [
       "   tempID              theTime  temperature groupName\n",
       "0       2  2019-07-10 12:37:52         22.2       NaN\n",
       "1       5  2019-07-10 12:42:32         44.2       NaN\n",
       "2       6  2019-07-10 12:42:37         44.2       NaN\n",
       "3       7  2020-02-07 08:42:29        444.0       NaN\n",
       "4       8  2020-02-07 08:42:35        444.0       NaN"
      ]
     },
     "execution_count": 157,
     "metadata": {
      "tags": []
     },
     "output_type": "execute_result"
    }
   ],
   "source": [
    "df.head()"
   ]
  },
  {
   "cell_type": "markdown",
   "metadata": {
    "id": "DiGN9zUMd-zf"
   },
   "source": [
    "Now, we can see the number of values that missing."
   ]
  },
  {
   "cell_type": "code",
   "execution_count": 158,
   "metadata": {
    "colab": {
     "base_uri": "https://localhost:8080/"
    },
    "id": "JGL1sgjdXd1v",
    "outputId": "f63feafb-b78d-4cf0-f6ed-2988ec9da386"
   },
   "outputs": [
    {
     "data": {
      "text/plain": [
       "tempID         0\n",
       "theTime        0\n",
       "temperature    0\n",
       "groupName      7\n",
       "dtype: int64"
      ]
     },
     "execution_count": 158,
     "metadata": {
      "tags": []
     },
     "output_type": "execute_result"
    }
   ],
   "source": [
    "df.isna().sum()"
   ]
  },
  {
   "cell_type": "markdown",
   "metadata": {
    "id": "c6OYO4mQefM2"
   },
   "source": [
    "GroupName column has 7 missing values"
   ]
  },
  {
   "cell_type": "markdown",
   "metadata": {
    "id": "aKc3OVviYQDB"
   },
   "source": [
    "### Handling missing values"
   ]
  },
  {
   "cell_type": "markdown",
   "metadata": {
    "id": "Gkf1Hi74eqbL"
   },
   "source": [
    "I will backfill the groupName column with already exiting values."
   ]
  },
  {
   "cell_type": "code",
   "execution_count": 159,
   "metadata": {
    "id": "D7XaT8qqYI6Z"
   },
   "outputs": [],
   "source": [
    "df.fillna(method=\"bfill\", inplace=True)"
   ]
  },
  {
   "cell_type": "code",
   "execution_count": 160,
   "metadata": {
    "colab": {
     "base_uri": "https://localhost:8080/",
     "height": 202
    },
    "id": "du15Jv8WcZlh",
    "outputId": "c4b4af76-5b85-4a8a-ea05-565639926c44"
   },
   "outputs": [
    {
     "data": {
      "text/html": [
       "<div>\n",
       "<style scoped>\n",
       "    .dataframe tbody tr th:only-of-type {\n",
       "        vertical-align: middle;\n",
       "    }\n",
       "\n",
       "    .dataframe tbody tr th {\n",
       "        vertical-align: top;\n",
       "    }\n",
       "\n",
       "    .dataframe thead th {\n",
       "        text-align: right;\n",
       "    }\n",
       "</style>\n",
       "<table border=\"1\" class=\"dataframe\">\n",
       "  <thead>\n",
       "    <tr style=\"text-align: right;\">\n",
       "      <th></th>\n",
       "      <th>tempID</th>\n",
       "      <th>theTime</th>\n",
       "      <th>temperature</th>\n",
       "      <th>groupName</th>\n",
       "    </tr>\n",
       "  </thead>\n",
       "  <tbody>\n",
       "    <tr>\n",
       "      <th>0</th>\n",
       "      <td>2</td>\n",
       "      <td>2019-07-10 12:37:52</td>\n",
       "      <td>22.2</td>\n",
       "      <td>{groupName}</td>\n",
       "    </tr>\n",
       "    <tr>\n",
       "      <th>1</th>\n",
       "      <td>5</td>\n",
       "      <td>2019-07-10 12:42:32</td>\n",
       "      <td>44.2</td>\n",
       "      <td>{groupName}</td>\n",
       "    </tr>\n",
       "    <tr>\n",
       "      <th>2</th>\n",
       "      <td>6</td>\n",
       "      <td>2019-07-10 12:42:37</td>\n",
       "      <td>44.2</td>\n",
       "      <td>{groupName}</td>\n",
       "    </tr>\n",
       "    <tr>\n",
       "      <th>3</th>\n",
       "      <td>7</td>\n",
       "      <td>2020-02-07 08:42:29</td>\n",
       "      <td>444.0</td>\n",
       "      <td>{groupName}</td>\n",
       "    </tr>\n",
       "    <tr>\n",
       "      <th>4</th>\n",
       "      <td>8</td>\n",
       "      <td>2020-02-07 08:42:35</td>\n",
       "      <td>444.0</td>\n",
       "      <td>{groupName}</td>\n",
       "    </tr>\n",
       "  </tbody>\n",
       "</table>\n",
       "</div>"
      ],
      "text/plain": [
       "   tempID              theTime  temperature    groupName\n",
       "0       2  2019-07-10 12:37:52         22.2  {groupName}\n",
       "1       5  2019-07-10 12:42:32         44.2  {groupName}\n",
       "2       6  2019-07-10 12:42:37         44.2  {groupName}\n",
       "3       7  2020-02-07 08:42:29        444.0  {groupName}\n",
       "4       8  2020-02-07 08:42:35        444.0  {groupName}"
      ]
     },
     "execution_count": 160,
     "metadata": {
      "tags": []
     },
     "output_type": "execute_result"
    }
   ],
   "source": [
    "df.head()"
   ]
  },
  {
   "cell_type": "code",
   "execution_count": 161,
   "metadata": {
    "colab": {
     "base_uri": "https://localhost:8080/"
    },
    "id": "W4Y03ZG1g0w8",
    "outputId": "6bfeefeb-6945-48a4-cf29-76fabac3dfe4"
   },
   "outputs": [
    {
     "name": "stdout",
     "output_type": "stream",
     "text": [
      "<class 'pandas.core.frame.DataFrame'>\n",
      "RangeIndex: 22823 entries, 0 to 22822\n",
      "Data columns (total 4 columns):\n",
      " #   Column       Non-Null Count  Dtype  \n",
      "---  ------       --------------  -----  \n",
      " 0   tempID       22823 non-null  int64  \n",
      " 1   theTime      22823 non-null  object \n",
      " 2   temperature  22823 non-null  float64\n",
      " 3   groupName    22823 non-null  object \n",
      "dtypes: float64(1), int64(1), object(2)\n",
      "memory usage: 713.3+ KB\n"
     ]
    }
   ],
   "source": [
    "df.info()"
   ]
  },
  {
   "cell_type": "markdown",
   "metadata": {
    "id": "pgqzk0aag6CO"
   },
   "source": [
    "It can be seen that theTime is not a datetime object. So I will convert that column to a dateTime Object"
   ]
  },
  {
   "cell_type": "code",
   "execution_count": 162,
   "metadata": {
    "id": "JxGClu6IhK50"
   },
   "outputs": [],
   "source": [
    "df['theTime']= pd.to_datetime(df['theTime']) "
   ]
  },
  {
   "cell_type": "code",
   "execution_count": 163,
   "metadata": {
    "colab": {
     "base_uri": "https://localhost:8080/"
    },
    "id": "9lLM0w-UhY-k",
    "outputId": "e6171b7c-137e-4363-f3b1-83f0050c58f0"
   },
   "outputs": [
    {
     "name": "stdout",
     "output_type": "stream",
     "text": [
      "<class 'pandas.core.frame.DataFrame'>\n",
      "RangeIndex: 22823 entries, 0 to 22822\n",
      "Data columns (total 4 columns):\n",
      " #   Column       Non-Null Count  Dtype         \n",
      "---  ------       --------------  -----         \n",
      " 0   tempID       22823 non-null  int64         \n",
      " 1   theTime      22823 non-null  datetime64[ns]\n",
      " 2   temperature  22823 non-null  float64       \n",
      " 3   groupName    22823 non-null  object        \n",
      "dtypes: datetime64[ns](1), float64(1), int64(1), object(1)\n",
      "memory usage: 713.3+ KB\n"
     ]
    }
   ],
   "source": [
    "df.info()"
   ]
  },
  {
   "cell_type": "markdown",
   "metadata": {
    "id": "mVEwPqmFhgzU"
   },
   "source": [
    "Now, theTime column is now a datetime object."
   ]
  },
  {
   "cell_type": "markdown",
   "metadata": {
    "id": "uj3Lfz4ii2c_"
   },
   "source": [
    "## Adding more columns to the data"
   ]
  },
  {
   "cell_type": "code",
   "execution_count": 164,
   "metadata": {
    "id": "C0_s2_Cji8Ce"
   },
   "outputs": [],
   "source": [
    "df['weekday'] = df['theTime'].dt.dayofweek"
   ]
  },
  {
   "cell_type": "code",
   "execution_count": 165,
   "metadata": {
    "id": "luzxYlwqjLR8"
   },
   "outputs": [],
   "source": [
    "df['month'] = df['theTime'].dt.month"
   ]
  },
  {
   "cell_type": "code",
   "execution_count": 166,
   "metadata": {
    "colab": {
     "base_uri": "https://localhost:8080/",
     "height": 202
    },
    "id": "hHJrFCQBjb7I",
    "outputId": "5b809eef-df1a-42f5-d02d-f86331dfa8ab"
   },
   "outputs": [
    {
     "data": {
      "text/html": [
       "<div>\n",
       "<style scoped>\n",
       "    .dataframe tbody tr th:only-of-type {\n",
       "        vertical-align: middle;\n",
       "    }\n",
       "\n",
       "    .dataframe tbody tr th {\n",
       "        vertical-align: top;\n",
       "    }\n",
       "\n",
       "    .dataframe thead th {\n",
       "        text-align: right;\n",
       "    }\n",
       "</style>\n",
       "<table border=\"1\" class=\"dataframe\">\n",
       "  <thead>\n",
       "    <tr style=\"text-align: right;\">\n",
       "      <th></th>\n",
       "      <th>tempID</th>\n",
       "      <th>theTime</th>\n",
       "      <th>temperature</th>\n",
       "      <th>groupName</th>\n",
       "      <th>weekday</th>\n",
       "      <th>month</th>\n",
       "    </tr>\n",
       "  </thead>\n",
       "  <tbody>\n",
       "    <tr>\n",
       "      <th>0</th>\n",
       "      <td>2</td>\n",
       "      <td>2019-07-10 12:37:52</td>\n",
       "      <td>22.2</td>\n",
       "      <td>{groupName}</td>\n",
       "      <td>2</td>\n",
       "      <td>7</td>\n",
       "    </tr>\n",
       "    <tr>\n",
       "      <th>1</th>\n",
       "      <td>5</td>\n",
       "      <td>2019-07-10 12:42:32</td>\n",
       "      <td>44.2</td>\n",
       "      <td>{groupName}</td>\n",
       "      <td>2</td>\n",
       "      <td>7</td>\n",
       "    </tr>\n",
       "    <tr>\n",
       "      <th>2</th>\n",
       "      <td>6</td>\n",
       "      <td>2019-07-10 12:42:37</td>\n",
       "      <td>44.2</td>\n",
       "      <td>{groupName}</td>\n",
       "      <td>2</td>\n",
       "      <td>7</td>\n",
       "    </tr>\n",
       "    <tr>\n",
       "      <th>3</th>\n",
       "      <td>7</td>\n",
       "      <td>2020-02-07 08:42:29</td>\n",
       "      <td>444.0</td>\n",
       "      <td>{groupName}</td>\n",
       "      <td>4</td>\n",
       "      <td>2</td>\n",
       "    </tr>\n",
       "    <tr>\n",
       "      <th>4</th>\n",
       "      <td>8</td>\n",
       "      <td>2020-02-07 08:42:35</td>\n",
       "      <td>444.0</td>\n",
       "      <td>{groupName}</td>\n",
       "      <td>4</td>\n",
       "      <td>2</td>\n",
       "    </tr>\n",
       "  </tbody>\n",
       "</table>\n",
       "</div>"
      ],
      "text/plain": [
       "   tempID             theTime  temperature    groupName  weekday  month\n",
       "0       2 2019-07-10 12:37:52         22.2  {groupName}        2      7\n",
       "1       5 2019-07-10 12:42:32         44.2  {groupName}        2      7\n",
       "2       6 2019-07-10 12:42:37         44.2  {groupName}        2      7\n",
       "3       7 2020-02-07 08:42:29        444.0  {groupName}        4      2\n",
       "4       8 2020-02-07 08:42:35        444.0  {groupName}        4      2"
      ]
     },
     "execution_count": 166,
     "metadata": {
      "tags": []
     },
     "output_type": "execute_result"
    }
   ],
   "source": [
    "df.head()"
   ]
  },
  {
   "cell_type": "code",
   "execution_count": 167,
   "metadata": {
    "colab": {
     "base_uri": "https://localhost:8080/"
    },
    "id": "hwc9M1HKnT7W",
    "outputId": "b5a28ec8-aac1-486c-fb52-2231ce516791"
   },
   "outputs": [
    {
     "data": {
      "text/plain": [
       "array(['{groupName}', 'Default Grp', 'Main Group', 'Area51', 'OAEK21',\n",
       "       'SHEREBMAX', 'NA_TQ', 'Bauer', 'JonesK3Kumi', 'Razs', 'AyiKalk',\n",
       "       'NNA', 'Sharhan', 'SHE_REB_MAX', 'sybo', 'TeamTM', 'KLMT', 'Gigi',\n",
       "       'JJ', 'TN2', 'GasuAdordz', 'NA_TQ/', 'MA_T', 'GTE1', 'TeliEdna',\n",
       "       'pixels', 'G1I', 'Ch', 'SANU', 'san', 'sanKad', 'sanKadHTTP/1.1',\n",
       "       'SanuKadi', 'SanuKad', 'Vianney', 'NodeMCU', 'OAEK21 HTTP/1.1',\n",
       "       'KASETE', 'allotei', 'T2021', 'hi', 'NY', 'hELLO', 'Jack Bauer\"',\n",
       "       'Jack Bauer', 'SHE_MAX_MAME'], dtype=object)"
      ]
     },
     "execution_count": 167,
     "metadata": {
      "tags": []
     },
     "output_type": "execute_result"
    }
   ],
   "source": [
    "df[\"groupName\"].unique()"
   ]
  },
  {
   "cell_type": "markdown",
   "metadata": {
    "id": "gSNn79Milcun"
   },
   "source": [
    "I think the time of the day is a good indicator for the temperature. So i will add another column for the time of the day."
   ]
  },
  {
   "cell_type": "markdown",
   "metadata": {
    "id": "D0e-2H2XqbcT"
   },
   "source": [
    "\n",
    "\n",
    "*   0 will denote times in the morning\n",
    "*   1 will be for afternoon\n",
    "*   2 will be for evening\n",
    "\n"
   ]
  },
  {
   "cell_type": "code",
   "execution_count": 168,
   "metadata": {
    "id": "lOUpRC2grvYs"
   },
   "outputs": [],
   "source": [
    "def codeTimeOfDay(time_hour):\n",
    "  if time_hour < 12:\n",
    "    return 0\n",
    "  elif time_hour > 12 and time_hour < 18:\n",
    "    return 1\n",
    "  else:\n",
    "    return 2"
   ]
  },
  {
   "cell_type": "code",
   "execution_count": 169,
   "metadata": {
    "id": "UBVGxp1Mojdj"
   },
   "outputs": [],
   "source": [
    "df[\"timeOfDay\"] = df['theTime'].dt.hour.apply(lambda x: codeTimeOfDay(x))"
   ]
  },
  {
   "cell_type": "code",
   "execution_count": 170,
   "metadata": {
    "colab": {
     "base_uri": "https://localhost:8080/",
     "height": 202
    },
    "id": "IeSJu-9OsqA-",
    "outputId": "2f633db5-fba6-4226-848e-56eb8434bf5d"
   },
   "outputs": [
    {
     "data": {
      "text/html": [
       "<div>\n",
       "<style scoped>\n",
       "    .dataframe tbody tr th:only-of-type {\n",
       "        vertical-align: middle;\n",
       "    }\n",
       "\n",
       "    .dataframe tbody tr th {\n",
       "        vertical-align: top;\n",
       "    }\n",
       "\n",
       "    .dataframe thead th {\n",
       "        text-align: right;\n",
       "    }\n",
       "</style>\n",
       "<table border=\"1\" class=\"dataframe\">\n",
       "  <thead>\n",
       "    <tr style=\"text-align: right;\">\n",
       "      <th></th>\n",
       "      <th>tempID</th>\n",
       "      <th>theTime</th>\n",
       "      <th>temperature</th>\n",
       "      <th>groupName</th>\n",
       "      <th>weekday</th>\n",
       "      <th>month</th>\n",
       "      <th>timeOfDay</th>\n",
       "    </tr>\n",
       "  </thead>\n",
       "  <tbody>\n",
       "    <tr>\n",
       "      <th>0</th>\n",
       "      <td>2</td>\n",
       "      <td>2019-07-10 12:37:52</td>\n",
       "      <td>22.2</td>\n",
       "      <td>{groupName}</td>\n",
       "      <td>2</td>\n",
       "      <td>7</td>\n",
       "      <td>2</td>\n",
       "    </tr>\n",
       "    <tr>\n",
       "      <th>1</th>\n",
       "      <td>5</td>\n",
       "      <td>2019-07-10 12:42:32</td>\n",
       "      <td>44.2</td>\n",
       "      <td>{groupName}</td>\n",
       "      <td>2</td>\n",
       "      <td>7</td>\n",
       "      <td>2</td>\n",
       "    </tr>\n",
       "    <tr>\n",
       "      <th>2</th>\n",
       "      <td>6</td>\n",
       "      <td>2019-07-10 12:42:37</td>\n",
       "      <td>44.2</td>\n",
       "      <td>{groupName}</td>\n",
       "      <td>2</td>\n",
       "      <td>7</td>\n",
       "      <td>2</td>\n",
       "    </tr>\n",
       "    <tr>\n",
       "      <th>3</th>\n",
       "      <td>7</td>\n",
       "      <td>2020-02-07 08:42:29</td>\n",
       "      <td>444.0</td>\n",
       "      <td>{groupName}</td>\n",
       "      <td>4</td>\n",
       "      <td>2</td>\n",
       "      <td>0</td>\n",
       "    </tr>\n",
       "    <tr>\n",
       "      <th>4</th>\n",
       "      <td>8</td>\n",
       "      <td>2020-02-07 08:42:35</td>\n",
       "      <td>444.0</td>\n",
       "      <td>{groupName}</td>\n",
       "      <td>4</td>\n",
       "      <td>2</td>\n",
       "      <td>0</td>\n",
       "    </tr>\n",
       "  </tbody>\n",
       "</table>\n",
       "</div>"
      ],
      "text/plain": [
       "   tempID             theTime  temperature  ... weekday  month  timeOfDay\n",
       "0       2 2019-07-10 12:37:52         22.2  ...       2      7          2\n",
       "1       5 2019-07-10 12:42:32         44.2  ...       2      7          2\n",
       "2       6 2019-07-10 12:42:37         44.2  ...       2      7          2\n",
       "3       7 2020-02-07 08:42:29        444.0  ...       4      2          0\n",
       "4       8 2020-02-07 08:42:35        444.0  ...       4      2          0\n",
       "\n",
       "[5 rows x 7 columns]"
      ]
     },
     "execution_count": 170,
     "metadata": {
      "tags": []
     },
     "output_type": "execute_result"
    }
   ],
   "source": [
    "df.head()"
   ]
  },
  {
   "cell_type": "markdown",
   "metadata": {
    "id": "RX8kzNYbtgJW"
   },
   "source": [
    "Now, i am going to transform the categorical groupName column to a numerical column by encoding the values"
   ]
  },
  {
   "cell_type": "code",
   "execution_count": 171,
   "metadata": {
    "id": "VeV7eRhzterI"
   },
   "outputs": [],
   "source": [
    "from sklearn.preprocessing import LabelEncoder"
   ]
  },
  {
   "cell_type": "code",
   "execution_count": 172,
   "metadata": {
    "id": "0tBMbSUquuWv"
   },
   "outputs": [],
   "source": [
    "labelencoder = LabelEncoder()"
   ]
  },
  {
   "cell_type": "code",
   "execution_count": 173,
   "metadata": {
    "id": "HtKVI5_fvFyc"
   },
   "outputs": [],
   "source": [
    "df['groupNumber'] = labelencoder.fit_transform(df['groupName'])"
   ]
  },
  {
   "cell_type": "code",
   "execution_count": 174,
   "metadata": {
    "colab": {
     "base_uri": "https://localhost:8080/",
     "height": 202
    },
    "id": "5CU6yjaUvWBH",
    "outputId": "198e9119-0c6f-4152-fbe0-852d96a0858a"
   },
   "outputs": [
    {
     "data": {
      "text/html": [
       "<div>\n",
       "<style scoped>\n",
       "    .dataframe tbody tr th:only-of-type {\n",
       "        vertical-align: middle;\n",
       "    }\n",
       "\n",
       "    .dataframe tbody tr th {\n",
       "        vertical-align: top;\n",
       "    }\n",
       "\n",
       "    .dataframe thead th {\n",
       "        text-align: right;\n",
       "    }\n",
       "</style>\n",
       "<table border=\"1\" class=\"dataframe\">\n",
       "  <thead>\n",
       "    <tr style=\"text-align: right;\">\n",
       "      <th></th>\n",
       "      <th>tempID</th>\n",
       "      <th>theTime</th>\n",
       "      <th>temperature</th>\n",
       "      <th>groupName</th>\n",
       "      <th>weekday</th>\n",
       "      <th>month</th>\n",
       "      <th>timeOfDay</th>\n",
       "      <th>groupNumber</th>\n",
       "    </tr>\n",
       "  </thead>\n",
       "  <tbody>\n",
       "    <tr>\n",
       "      <th>0</th>\n",
       "      <td>2</td>\n",
       "      <td>2019-07-10 12:37:52</td>\n",
       "      <td>22.2</td>\n",
       "      <td>{groupName}</td>\n",
       "      <td>2</td>\n",
       "      <td>7</td>\n",
       "      <td>2</td>\n",
       "      <td>45</td>\n",
       "    </tr>\n",
       "    <tr>\n",
       "      <th>1</th>\n",
       "      <td>5</td>\n",
       "      <td>2019-07-10 12:42:32</td>\n",
       "      <td>44.2</td>\n",
       "      <td>{groupName}</td>\n",
       "      <td>2</td>\n",
       "      <td>7</td>\n",
       "      <td>2</td>\n",
       "      <td>45</td>\n",
       "    </tr>\n",
       "    <tr>\n",
       "      <th>2</th>\n",
       "      <td>6</td>\n",
       "      <td>2019-07-10 12:42:37</td>\n",
       "      <td>44.2</td>\n",
       "      <td>{groupName}</td>\n",
       "      <td>2</td>\n",
       "      <td>7</td>\n",
       "      <td>2</td>\n",
       "      <td>45</td>\n",
       "    </tr>\n",
       "    <tr>\n",
       "      <th>3</th>\n",
       "      <td>7</td>\n",
       "      <td>2020-02-07 08:42:29</td>\n",
       "      <td>444.0</td>\n",
       "      <td>{groupName}</td>\n",
       "      <td>4</td>\n",
       "      <td>2</td>\n",
       "      <td>0</td>\n",
       "      <td>45</td>\n",
       "    </tr>\n",
       "    <tr>\n",
       "      <th>4</th>\n",
       "      <td>8</td>\n",
       "      <td>2020-02-07 08:42:35</td>\n",
       "      <td>444.0</td>\n",
       "      <td>{groupName}</td>\n",
       "      <td>4</td>\n",
       "      <td>2</td>\n",
       "      <td>0</td>\n",
       "      <td>45</td>\n",
       "    </tr>\n",
       "  </tbody>\n",
       "</table>\n",
       "</div>"
      ],
      "text/plain": [
       "   tempID             theTime  temperature  ... month  timeOfDay  groupNumber\n",
       "0       2 2019-07-10 12:37:52         22.2  ...     7          2           45\n",
       "1       5 2019-07-10 12:42:32         44.2  ...     7          2           45\n",
       "2       6 2019-07-10 12:42:37         44.2  ...     7          2           45\n",
       "3       7 2020-02-07 08:42:29        444.0  ...     2          0           45\n",
       "4       8 2020-02-07 08:42:35        444.0  ...     2          0           45\n",
       "\n",
       "[5 rows x 8 columns]"
      ]
     },
     "execution_count": 174,
     "metadata": {
      "tags": []
     },
     "output_type": "execute_result"
    }
   ],
   "source": [
    "df.head()"
   ]
  },
  {
   "cell_type": "code",
   "execution_count": 175,
   "metadata": {
    "id": "ZqFrV9DS69FH"
   },
   "outputs": [],
   "source": [
    "temp_df = df[df['temperature']<1000]\n",
    "temp_df = temp_df[temp_df['temperature']>-1000 ]"
   ]
  },
  {
   "cell_type": "code",
   "execution_count": 176,
   "metadata": {
    "colab": {
     "base_uri": "https://localhost:8080/",
     "height": 283
    },
    "id": "rkeQKI4ZIiS2",
    "outputId": "4248269c-2738-4114-ff23-91558a1ab5b4"
   },
   "outputs": [
    {
     "data": {
      "text/plain": [
       "[<matplotlib.lines.Line2D at 0x7f3016f62358>]"
      ]
     },
     "execution_count": 176,
     "metadata": {
      "tags": []
     },
     "output_type": "execute_result"
    },
    {
     "data": {
      "image/png": "[encoded data removed]",
      "text/plain": [
       "<Figure size 432x288 with 1 Axes>"
      ]
     },
     "metadata": {
      "needs_background": "light",
      "tags": []
     },
     "output_type": "display_data"
    }
   ],
   "source": [
    "plt.plot(temp_df['temperature'])"
   ]
  },
  {
   "cell_type": "markdown",
   "metadata": {
    "id": "GxkSlZbQftit"
   },
   "source": [
    "# Building the model"
   ]
  },
  {
   "cell_type": "code",
   "execution_count": 177,
   "metadata": {
    "id": "yD65-t3nlw03"
   },
   "outputs": [],
   "source": [
    "x = temp_df.drop([\"temperature\", \"tempID\", \"theTime\", \"groupName\"], axis=1)\n",
    "y = temp_df['temperature']"
   ]
  },
  {
   "cell_type": "markdown",
   "metadata": {
    "id": "LELrIKFHf2kr"
   },
   "source": [
    "Splitting the data using train_test_split from scikit-learn"
   ]
  },
  {
   "cell_type": "code",
   "execution_count": 178,
   "metadata": {
    "id": "dnfpJaPIfypb"
   },
   "outputs": [],
   "source": [
    "from sklearn.model_selection import train_test_split\n",
    "\n",
    "X_train, X_test, y_train, y_test = train_test_split(x, y, test_size=0.2, random_state=123)"
   ]
  },
  {
   "cell_type": "markdown",
   "metadata": {
    "id": "mZm2gFJP7_3s"
   },
   "source": [
    "### Decision Tree Regressor Model"
   ]
  },
  {
   "cell_type": "code",
   "execution_count": 179,
   "metadata": {
    "colab": {
     "base_uri": "https://localhost:8080/"
    },
    "id": "n8dxBu9byKYf",
    "outputId": "0c1986fe-ed86-41a2-b836-e44fe151f67b"
   },
   "outputs": [
    {
     "data": {
      "text/plain": [
       "DecisionTreeRegressor(ccp_alpha=0.0, criterion='mse', max_depth=None,\n",
       "                      max_features=None, max_leaf_nodes=None,\n",
       "                      min_impurity_decrease=0.0, min_impurity_split=None,\n",
       "                      min_samples_leaf=1, min_samples_split=2,\n",
       "                      min_weight_fraction_leaf=0.0, presort='deprecated',\n",
       "                      random_state=None, splitter='best')"
      ]
     },
     "execution_count": 179,
     "metadata": {
      "tags": []
     },
     "output_type": "execute_result"
    }
   ],
   "source": [
    "from sklearn.tree import DecisionTreeRegressor\n",
    "\n",
    "temp_model = DecisionTreeRegressor()\n",
    "# Fit model\n",
    "temp_model.fit(X_train, y_train)\n"
   ]
  },
  {
   "cell_type": "markdown",
   "metadata": {
    "id": "qIYHVfP-wctB"
   },
   "source": [
    "### K Nearest Neighbor\n",
    "\n",
    "K-Nearest Neighbor (KNN) makes a prediction for a new observation by searching for the most similar training observations and pooling their values"
   ]
  },
  {
   "cell_type": "code",
   "execution_count": 180,
   "metadata": {
    "id": "NudTQ1wGwa7j"
   },
   "outputs": [],
   "source": [
    "from sklearn.neighbors import KNeighborsRegressor"
   ]
  },
  {
   "cell_type": "code",
   "execution_count": 181,
   "metadata": {
    "id": "3qNCnqgmwr4o"
   },
   "outputs": [],
   "source": [
    "model = KNeighborsRegressor()"
   ]
  },
  {
   "cell_type": "code",
   "execution_count": 182,
   "metadata": {
    "colab": {
     "base_uri": "https://localhost:8080/"
    },
    "id": "49rviPFqwvK3",
    "outputId": "add7418a-f3de-415a-bb2e-b1f0a26a3129"
   },
   "outputs": [
    {
     "data": {
      "text/plain": [
       "KNeighborsRegressor(algorithm='auto', leaf_size=30, metric='minkowski',\n",
       "                    metric_params=None, n_jobs=None, n_neighbors=5, p=2,\n",
       "                    weights='uniform')"
      ]
     },
     "execution_count": 182,
     "metadata": {
      "tags": []
     },
     "output_type": "execute_result"
    }
   ],
   "source": [
    "model.fit(X_train, y_train)"
   ]
  },
  {
   "cell_type": "markdown",
   "metadata": {
    "id": "alnrfwlUw8Uu"
   },
   "source": [
    "### Evaluating the model"
   ]
  },
  {
   "cell_type": "code",
   "execution_count": 183,
   "metadata": {
    "id": "TIB0Ez9fw69A"
   },
   "outputs": [],
   "source": [
    "from sklearn.metrics import mean_squared_error\n",
    "from sklearn.metrics import mean_absolute_error"
   ]
  },
  {
   "cell_type": "code",
   "execution_count": 184,
   "metadata": {
    "id": "o3joosJKxTyp"
   },
   "outputs": [],
   "source": [
    "mse = mean_squared_error(y_train, model.predict(X_train))\n",
    "mae = mean_absolute_error(y_train, model.predict(X_train))"
   ]
  },
  {
   "cell_type": "code",
   "execution_count": 185,
   "metadata": {
    "id": "rg2zLZRtxa28"
   },
   "outputs": [],
   "source": [
    "from math import sqrt"
   ]
  },
  {
   "cell_type": "code",
   "execution_count": 186,
   "metadata": {
    "colab": {
     "base_uri": "https://localhost:8080/"
    },
    "id": "5rgnL2o4_mC_",
    "outputId": "f18253a0-a6c5-48dc-90b0-5a011ad3e65a"
   },
   "outputs": [
    {
     "name": "stdout",
     "output_type": "stream",
     "text": [
      "155.08308438759732\n"
     ]
    }
   ],
   "source": [
    "# get predicted temp on validation data\n",
    "val_predictions = temp_model.predict(X_test)\n",
    "print(mean_absolute_error(y_test, val_predictions))"
   ]
  },
  {
   "cell_type": "code",
   "execution_count": 187,
   "metadata": {
    "colab": {
     "base_uri": "https://localhost:8080/"
    },
    "id": "1H4lRgg1_p4l",
    "outputId": "498d2ae0-2272-4a31-ff82-3e6ade756d32"
   },
   "outputs": [
    {
     "name": "stdout",
     "output_type": "stream",
     "text": [
      "161.77508296647477\n"
     ]
    }
   ],
   "source": [
    "print(mae)"
   ]
  },
  {
   "cell_type": "markdown",
   "metadata": {
    "id": "SBdy3kOOxb7Y"
   },
   "source": [
    "### Hyperparameter Tuning"
   ]
  },
  {
   "cell_type": "markdown",
   "metadata": {
    "id": "za_YO4fwATfP"
   },
   "source": [
    "I am going to use Grid Search CrossFold Validation to find the hyperparameters with the best score."
   ]
  },
  {
   "cell_type": "code",
   "execution_count": 188,
   "metadata": {
    "id": "ubVpqG5e-Vjl"
   },
   "outputs": [],
   "source": [
    "from sklearn.model_selection import GridSearchCV,KFold"
   ]
  },
  {
   "cell_type": "code",
   "execution_count": 189,
   "metadata": {
    "id": "4OBI6XKO-WsF"
   },
   "outputs": [],
   "source": [
    "# Create 5 folds\n",
    "seed = 13\n",
    "kfold = KFold(n_splits=5, shuffle=True, random_state=seed)"
   ]
  },
  {
   "cell_type": "code",
   "execution_count": 190,
   "metadata": {
    "id": "NJpH06ux-jDw"
   },
   "outputs": [],
   "source": [
    "# Define our candidate hyperparameters\n",
    "hp_candidates = [{'n_neighbors': [5,6, 7, 8, 9], 'weights': ['uniform','distance']}]"
   ]
  },
  {
   "cell_type": "code",
   "execution_count": 191,
   "metadata": {
    "colab": {
     "base_uri": "https://localhost:8080/"
    },
    "id": "7criZuLR-lEb",
    "outputId": "8e55e2ba-c368-4b4a-b9f2-04dadf53ba8d"
   },
   "outputs": [
    {
     "data": {
      "text/plain": [
       "GridSearchCV(cv=KFold(n_splits=5, random_state=13, shuffle=True),\n",
       "             error_score=nan,\n",
       "             estimator=KNeighborsRegressor(algorithm='auto', leaf_size=30,\n",
       "                                           metric='minkowski',\n",
       "                                           metric_params=None, n_jobs=None,\n",
       "                                           n_neighbors=5, p=2,\n",
       "                                           weights='uniform'),\n",
       "             iid='deprecated', n_jobs=None,\n",
       "             param_grid=[{'n_neighbors': [5, 6, 7, 8, 9],\n",
       "                          'weights': ['uniform', 'distance']}],\n",
       "             pre_dispatch='2*n_jobs', refit=True, return_train_score=False,\n",
       "             scoring='r2', verbose=0)"
      ]
     },
     "execution_count": 191,
     "metadata": {
      "tags": []
     },
     "output_type": "execute_result"
    }
   ],
   "source": [
    "# Search for best hyperparameters\n",
    "grid = GridSearchCV(estimator=model, param_grid=hp_candidates, cv=kfold, scoring='r2')\n",
    "grid.fit(X_train, y_train)"
   ]
  },
  {
   "cell_type": "code",
   "execution_count": 192,
   "metadata": {
    "colab": {
     "base_uri": "https://localhost:8080/"
    },
    "id": "jyxoJMYn-4fw",
    "outputId": "c515f8c8-94dd-4044-9309-2e054d8ba876"
   },
   "outputs": [
    {
     "name": "stdout",
     "output_type": "stream",
     "text": [
      "0.36834104273708207\n",
      "KNeighborsRegressor(algorithm='auto', leaf_size=30, metric='minkowski',\n",
      "                    metric_params=None, n_jobs=None, n_neighbors=9, p=2,\n",
      "                    weights='distance')\n",
      "{'n_neighbors': 9, 'weights': 'distance'}\n"
     ]
    }
   ],
   "source": [
    "# Get the results\n",
    "print(grid.best_score_)\n",
    "print(grid.best_estimator_)\n",
    "print(grid.best_params_)"
   ]
  },
  {
   "cell_type": "code",
   "execution_count": 193,
   "metadata": {
    "id": "VDbd8qcs_2Ud"
   },
   "outputs": [],
   "source": [
    "model = KNeighborsRegressor(n_neighbors=9, weights='distance')"
   ]
  },
  {
   "cell_type": "code",
   "execution_count": 194,
   "metadata": {
    "colab": {
     "base_uri": "https://localhost:8080/"
    },
    "id": "Aq8MWkATAD1i",
    "outputId": "7aacad40-eb00-4aac-829d-74f9bd8939dc"
   },
   "outputs": [
    {
     "data": {
      "text/plain": [
       "KNeighborsRegressor(algorithm='auto', leaf_size=30, metric='minkowski',\n",
       "                    metric_params=None, n_jobs=None, n_neighbors=9, p=2,\n",
       "                    weights='distance')"
      ]
     },
     "execution_count": 194,
     "metadata": {
      "tags": []
     },
     "output_type": "execute_result"
    }
   ],
   "source": [
    "model.fit(X_train, y_train)"
   ]
  },
  {
   "cell_type": "code",
   "execution_count": 195,
   "metadata": {
    "colab": {
     "base_uri": "https://localhost:8080/"
    },
    "id": "YpqqF8xYALxG",
    "outputId": "e91d45b2-4600-4f17-b6ac-e949592fd281"
   },
   "outputs": [
    {
     "data": {
      "text/plain": [
       "149.28151859287567"
      ]
     },
     "execution_count": 195,
     "metadata": {
      "tags": []
     },
     "output_type": "execute_result"
    }
   ],
   "source": [
    "mae = mean_absolute_error(y_train, model.predict(X_train))\n",
    "mae"
   ]
  },
  {
   "cell_type": "code",
   "execution_count": 196,
   "metadata": {
    "id": "l7HP2tBIG2cI"
   },
   "outputs": [],
   "source": [
    "mean_abs_errors = []\n",
    "for i in range(9,20):\n",
    "  model = KNeighborsRegressor(n_neighbors=i, weights='distance')\n",
    "  model.fit(X_train, y_train)\n",
    "  mae = mean_absolute_error(y_train, model.predict(X_train))\n",
    "  mean_abs_errors.append(mae)"
   ]
  },
  {
   "cell_type": "code",
   "execution_count": 197,
   "metadata": {
    "colab": {
     "base_uri": "https://localhost:8080/"
    },
    "id": "t6ZD2bx9HVoG",
    "outputId": "f05726d0-2aaf-4f50-afc5-c1c23cd98c16"
   },
   "outputs": [
    {
     "data": {
      "text/plain": [
       "[149.28151859287567,\n",
       " 149.29063079515583,\n",
       " 148.5871143403949,\n",
       " 147.27631715417442,\n",
       " 149.06854604786793,\n",
       " 148.17441714933673,\n",
       " 147.58790625645943,\n",
       " 147.28775669104573,\n",
       " 146.62663689263533,\n",
       " 146.82406157873055,\n",
       " 147.3152599437593]"
      ]
     },
     "execution_count": 197,
     "metadata": {
      "tags": []
     },
     "output_type": "execute_result"
    }
   ],
   "source": [
    "mean_abs_errors"
   ]
  },
  {
   "cell_type": "code",
   "execution_count": 198,
   "metadata": {
    "colab": {
     "base_uri": "https://localhost:8080/",
     "height": 283
    },
    "id": "oaOjDujTHaKh",
    "outputId": "cc8ac1fb-f918-4f88-e9c6-f6f2e3f7c3e7"
   },
   "outputs": [
    {
     "data": {
      "text/plain": [
       "[<matplotlib.lines.Line2D at 0x7f3016eaf9b0>]"
      ]
     },
     "execution_count": 198,
     "metadata": {
      "tags": []
     },
     "output_type": "execute_result"
    },
    {
     "data": {
      "image/png": "[encoded data removed]",
      "text/plain": [
       "<Figure size 432x288 with 1 Axes>"
      ]
     },
     "metadata": {
      "needs_background": "light",
      "tags": []
     },
     "output_type": "display_data"
    }
   ],
   "source": [
    "plt.plot(list(range(9, 20)), mean_abs_errors)"
   ]
  },
  {
   "cell_type": "markdown",
   "metadata": {
    "id": "VsG7GVJOHwt5"
   },
   "source": [
    "The model with the least Mean Absolute Error is the one with 17 neighbors."
   ]
  },
  {
   "cell_type": "code",
   "execution_count": 199,
   "metadata": {
    "id": "65pmqKKsIJCj"
   },
   "outputs": [],
   "source": [
    "model = KNeighborsRegressor(n_neighbors=17, weights='distance')"
   ]
  },
  {
   "cell_type": "code",
   "execution_count": 200,
   "metadata": {
    "colab": {
     "base_uri": "https://localhost:8080/"
    },
    "id": "JdhwY2uhIQDK",
    "outputId": "bf6bfe4f-8b2e-42c5-91e0-35c7d61ce0b2"
   },
   "outputs": [
    {
     "data": {
      "text/plain": [
       "KNeighborsRegressor(algorithm='auto', leaf_size=30, metric='minkowski',\n",
       "                    metric_params=None, n_jobs=None, n_neighbors=17, p=2,\n",
       "                    weights='distance')"
      ]
     },
     "execution_count": 200,
     "metadata": {
      "tags": []
     },
     "output_type": "execute_result"
    }
   ],
   "source": [
    "model.fit(X_train, y_train)"
   ]
  },
  {
   "cell_type": "code",
   "execution_count": 201,
   "metadata": {
    "colab": {
     "base_uri": "https://localhost:8080/"
    },
    "id": "rDxKAQ4tINV-",
    "outputId": "7b9d25d5-0890-4e62-e910-e82910785271"
   },
   "outputs": [
    {
     "data": {
      "text/plain": [
       "146.62663689263533"
      ]
     },
     "execution_count": 201,
     "metadata": {
      "tags": []
     },
     "output_type": "execute_result"
    }
   ],
   "source": [
    "mae = mean_absolute_error(y_train, model.predict(X_train))\n",
    "mae"
   ]
  }
 ],
 "metadata": {
  "accelerator": "GPU",
  "colab": {
   "collapsed_sections": [
    "mZm2gFJP7_3s",
    "qIYHVfP-wctB",
    "alnrfwlUw8Uu",
    "SBdy3kOOxb7Y"
   ],
   "name": "IoT_ML_Model.ipynb",
   "provenance": []
  },
  "kernelspec": {
   "display_name": "Python 3",
   "language": "python",
   "name": "python3"
  },
  "language_info": {
   "codemirror_mode": {
    "name": "ipython",
    "version": 3
   },
   "file_extension": ".py",
   "mimetype": "text/x-python",
   "name": "python",
   "nbconvert_exporter": "python",
   "pygments_lexer": "ipython3",
   "version": "3.9.0"
  }
 },
 "nbformat": 4,
 "nbformat_minor": 1
}
